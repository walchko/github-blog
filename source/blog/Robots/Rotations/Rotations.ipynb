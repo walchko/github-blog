{
 "cells": [
  {
   "cell_type": "markdown",
   "metadata": {},
   "source": [
    "![](http://i.imgur.com/Fst3Sau.png)\n",
    "\n",
    "# Quaternions\n",
    "\n",
    "Unit quaternions provide a convenient mathematical notation for representing orientations and rotations of objects in three dimensions. Compared to Euler angles they are simpler to compose and avoid the problem of gimbal lock. Compared to rotation matrices they are more compact, more numerically stable, and more efficient.\n",
    "\n",
    "Quaternions are composed of a real component (w) and an imaginary component (x,y,z) which has 3 elements. Thus quaternions use 4 variables to represent 3 rotational elements (think Euler: roll, pitch, and yaw) which means they have a redundant parameter. This redundancy allows them to avoid issues seen in Euler. The only problem with them is you have to be able to visualize 3D rotations in 4D space ... good luck! Thus, for humans to visualize them, we typically transform them back to Euler angles. However, the issues we see in Euler angles (gimbal lock) can reappear when we transform them. Note, the gimbal lock only is an issue in Euler angles, quaternions are fine, it is just the transformation to Euler that can have an issue."
   ]
  },
  {
   "cell_type": "code",
   "execution_count": 1,
   "metadata": {},
   "outputs": [],
   "source": [
    "from __future__ import print_function, division\n",
    "from squaternion import Quaternion, euler2quat, quat2euler, quatNorm\n",
    "from math import pi\n",
    "from math import sqrt, atan2, asin, pi\n",
    "from math import degrees as rad2deg"
   ]
  },
  {
   "cell_type": "markdown",
   "metadata": {},
   "source": [
    "### Rigid Bodies Rotations\n",
    "\n",
    "A rigid body can be rotated angle $\\mu$ about an arbitrary moving/fixed axis ($\\hat e$) in space by:\n",
    "\n",
    "$$\n",
    "q_{x,y,z} = \\hat e \\sin( \\frac{\\mu}{2} ) \\\\\n",
    "q_r = \\cos(\\frac{\\mu}{2} )\n",
    "$$\n",
    "\n",
    "Quaternion multiplication ($\\otimes$) is:\n",
    "\n",
    "$$\n",
    "q \\otimes p =\n",
    "\\begin{bmatrix}\n",
    "    a & -b & -c & -d \\\\\n",
    "    b &  a & -d &  c \\\\\n",
    "    c &  d &  a & -b \\\\\n",
    "    d & -c &  b &  a \\\\\n",
    "\\end{bmatrix} \\cdot p = Q \\cdot p \\\\\n",
    "$$\n",
    "\n",
    "Quaternion differential equation:\n",
    "\n",
    "$$\n",
    "\\dot q = \\frac{1}{2} q \\otimes w \\\\\n",
    "w = \\begin{bmatrix} 0 & \\omega_b \\end{bmatrix}^T \\\\\n",
    "\\dot q = \\frac{1}{2} W q \\\\\n",
    "W =\n",
    "\\begin{bmatrix}\n",
    "    0   & -w_x & -w_y & -w_z \\\\\n",
    "    w_x & 0    & w_z  & -w_y \\\\\n",
    "    w_y & -w_z & 0    & w_x \\\\\n",
    "    w_z & w_y  & -w_x & 0\n",
    "\\end{bmatrix}\n",
    "$$"
   ]
  },
  {
   "cell_type": "markdown",
   "metadata": {},
   "source": [
    "# Simple Quaternions\n",
    "\n",
    "Generally I don't need all of the capabilities (or complexity) of quaternion math libraries. Basically I just need a way to convert between Euler and Quaternion representations and have a nice way to print them out.\n",
    "\n",
    "[squaterion](https://pypi.org/project/squaternion/) is a quaterion library. You can install it with:\n",
    "\n",
    "    pip2 install squaternion\n",
    "    pip3 install squaternion\n",
    "    \n",
    "The quaternion is a simple `namedtuple` so it is fast to create and destroy the datatype.\n",
    "\n",
    "```python\n",
    "Quaternion = namedtuple('Quaternion', 'w x y z')\n",
    "\n",
    "euler2quat(roll, pitch, yaw) => Quaternion\n",
    "\n",
    "quat2euler(w, x, y, z) => tuple(roll, pitch, yaw)\n",
    "\n",
    "quatNorm(w, x, y, z) => Quaternion\n",
    "```"
   ]
  },
  {
   "cell_type": "code",
   "execution_count": 11,
   "metadata": {},
   "outputs": [
    {
     "name": "stdout",
     "output_type": "stream",
     "text": [
      "Quaternion(w=1.0, x=0.0, y=0.0, z=0.0)\n",
      "1.0 0.0 0.0 0.0\n"
     ]
    }
   ],
   "source": [
    "# create a simple quaterion with no rotation\n",
    "q = euler2quat(0,0,0)\n",
    "w,x,y,z = q\n",
    "print(q)\n",
    "print(w, x, y, z)"
   ]
  },
  {
   "cell_type": "code",
   "execution_count": 10,
   "metadata": {},
   "outputs": [
    {
     "name": "stdout",
     "output_type": "stream",
     "text": [
      "euler rads: (90, 45, 180)\n",
      "----------------------------------------\n",
      "Quaternion(w=0.2705980500730985, x=-0.27059805007309845, y=0.6532814824381882, z=0.6532814824381883)\n",
      "----------------------------------------\n",
      "euler angles: (89.99999999999997, 44.99999999999999, 180.0)\n"
     ]
    }
   ],
   "source": [
    "# let's make up some euler angles (roll, pitch, yaw)\n",
    "euler = (90,45,180,)\n",
    "print('euler rads:', euler)\n",
    "# print('euler degs:', [x*180/pi for x in euler])\n",
    "\n",
    "# let's create a quaternion\n",
    "print('-'*40)\n",
    "q = euler2quat(*euler, degrees=True)\n",
    "print(q)\n",
    "\n",
    "# let's double check euler => quaternion => euler worked\n",
    "e = quat2euler(*q, degrees=True)\n",
    "\n",
    "print('-'*40)\n",
    "print(\"euler angles:\", e)\n",
    "\n",
    "# if you look at the answers they are the same except for some small rounding errors"
   ]
  },
  {
   "cell_type": "markdown",
   "metadata": {},
   "source": [
    "# Test\n",
    "\n",
    "![](https://upload.wikimedia.org/wikipedia/en/thumb/3/30/Plane_with_ENU_embedded_axes.svg/425px-Plane_with_ENU_embedded_axes.svg.png)\n",
    "\n",
    "So let's do a simple test of iterating over a bunch of Euler angles, convert them to a quaternion and then back to Euler and see if we get the same answer.\n",
    "\n",
    "    euler => quaternion => euler\n",
    "\n",
    "Now, Euler angles have a sinularity around the following locations:\n",
    "\n",
    "- Roll:  [-$\\pi$, $\\pi$]\n",
    "- Pitch: [-$\\pi$/2, $\\pi$/2]\n",
    "- Yaw:   [-$\\pi$, $\\pi$]\n",
    "\n",
    "Anything outside of these Euler angle ranges will not work, unless you take special percausions. For my applications, this isn't an issue.\n",
    "\n",
    "So let's run through a range of valid Euler angles and do the transforms and see if we have an issue. Note, because of small rounding errors, we check if the answers are the same within 0.001 degrees. If **no errors print out** and all you see is **Done**, then everything went well."
   ]
  },
  {
   "cell_type": "code",
   "execution_count": 14,
   "metadata": {},
   "outputs": [
    {
     "name": "stdout",
     "output_type": "stream",
     "text": [
      "Done\n"
     ]
    }
   ],
   "source": [
    "# run though and make sure there are no errors\n",
    "# https://en.wikipedia.org/wiki/Euler_angles#Conventions_2\n",
    "# valid ranges:\n",
    "# asin: [-pi/2, pi/2]\n",
    "# cos: [0, pi]\n",
    "# atan2: [-pi,pi]\n",
    "#---------------------\n",
    "# valid euler angles, meaning no gimbal lock issues\n",
    "# roll: [-pi,pi]\n",
    "# pitch: [-pi/2, pi/2]\n",
    "# yaw: [-pi,pi]\n",
    "delta = 10\n",
    "for i in range(-179, 180, delta):\n",
    "    for j in range(-89, 90, delta):\n",
    "        for k in range(-179,180, delta):\n",
    "            q = euler2quat(i,j,k, degrees=True)  # euler => quat\n",
    "            e = quat2euler(*q, degrees=True)     # quat => euler\n",
    "            for a, b in zip((i,j,k,), e):\n",
    "                if abs(a - b) > 0.001:  # are the answers within 0.001 degrees?\n",
    "                    print('-'*40)\n",
    "                    print('Error')\n",
    "                    print(i,j,k, '==', e)\n",
    "                    print(q)\n",
    "print(\"Done\")"
   ]
  },
  {
   "cell_type": "markdown",
   "metadata": {},
   "source": [
    "## References\n",
    "\n",
    "- [Wikipedia Convert Between Quaternions and Euler Angles](https://en.wikipedia.org/wiki/Conversion_between_quaternions_and_Euler_angles)\n",
    "- [Wikipedia Euler Angle Definitions](https://en.wikipedia.org/wiki/Euler_angles#Conventions_2)\n",
    "- [Wikipedia Gimbal Lock](https://en.wikipedia.org/wiki/Gimbal_lock)"
   ]
  },
  {
   "cell_type": "code",
   "execution_count": null,
   "metadata": {},
   "outputs": [],
   "source": []
  }
 ],
 "metadata": {
  "kernelspec": {
   "display_name": "Python 3",
   "language": "python",
   "name": "python3"
  },
  "language_info": {
   "codemirror_mode": {
    "name": "ipython",
    "version": 3
   },
   "file_extension": ".py",
   "mimetype": "text/x-python",
   "name": "python",
   "nbconvert_exporter": "python",
   "pygments_lexer": "ipython3",
   "version": "3.6.5"
  }
 },
 "nbformat": 4,
 "nbformat_minor": 2
}
