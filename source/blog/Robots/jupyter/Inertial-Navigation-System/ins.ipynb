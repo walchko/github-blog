{
 "cells": [
  {
   "cell_type": "markdown",
   "metadata": {},
   "source": [
    "# Homework 12\n",
    "\n",
    "Name:\n",
    "\n",
    "Period:\n",
    "\n",
    "**Academic Integrity Statement:** I certify this work is my own work and I have only received help from the instructor. I understand that submitting code \n",
    "which is the work of other individuals is a violation of the honor code.  I also understand that if I knowingly give my original work to another individual is also a violation of the honor code. "
   ]
  },
  {
   "cell_type": "code",
   "execution_count": 1,
   "metadata": {
    "collapsed": true
   },
   "outputs": [],
   "source": [
    "%matplotlib inline"
   ]
  },
  {
   "cell_type": "code",
   "execution_count": 2,
   "metadata": {
    "collapsed": true
   },
   "outputs": [],
   "source": [
    "from __future__ import print_function, division\n",
    "import cv2         # opencv itself\n",
    "import numpy as np # matrix manipulations\n",
    "from matplotlib import pyplot as plt           # this lets you draw inline pictures in the notebooks\n",
    "import pylab                                   # this allows you to control figure size \n",
    "pylab.rcParams['figure.figsize'] = (10.0, 10.0) # this controls figure size in the notebook"
   ]
  },
  {
   "cell_type": "code",
   "execution_count": null,
   "metadata": {
    "collapsed": true
   },
   "outputs": [],
   "source": [
    "#your python code here"
   ]
  }
 ],
 "metadata": {
  "kernelspec": {
   "display_name": "Python 2",
   "language": "python",
   "name": "python2"
  },
  "language_info": {
   "codemirror_mode": {
    "name": "ipython",
    "version": 2
   },
   "file_extension": ".py",
   "mimetype": "text/x-python",
   "name": "python",
   "nbconvert_exporter": "python",
   "pygments_lexer": "ipython2",
   "version": "2.7.13"
  }
 },
 "nbformat": 4,
 "nbformat_minor": 2
}
