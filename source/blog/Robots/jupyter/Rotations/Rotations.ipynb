{
 "cells": [
  {
   "cell_type": "markdown",
   "metadata": {},
   "source": [
    "# Quaternion Rotations\n",
    "\n",
    "[pyquaterion](http://kieranwynn.github.io/pyquaternion/) is a quaterion library. You can install it with:\n",
    "\n",
    "    pip install pyquaternion"
   ]
  },
  {
   "cell_type": "code",
   "execution_count": 18,
   "metadata": {},
   "outputs": [],
   "source": [
    "from __future__ import print_function, division\n",
    "from pyquaternion import Quaternion\n",
    "from math import pi\n",
    "from math import sqrt, atan2, asin, pi\n",
    "from math import degrees as rad2deg"
   ]
  },
  {
   "cell_type": "code",
   "execution_count": 8,
   "metadata": {},
   "outputs": [
    {
     "name": "stdout",
     "output_type": "stream",
     "text": [
      "0.707 +0.707i +0.000j +0.000k\n"
     ]
    }
   ],
   "source": [
    "q = Quaternion(axis=[1, 0, 0], angle=pi/2)\n",
    "print(q)"
   ]
  },
  {
   "cell_type": "code",
   "execution_count": 9,
   "metadata": {},
   "outputs": [
    {
     "name": "stdout",
     "output_type": "stream",
     "text": [
      "[[  1.00000000e+00   0.00000000e+00   0.00000000e+00]\n",
      " [  0.00000000e+00   2.22044605e-16  -1.00000000e+00]\n",
      " [  0.00000000e+00   1.00000000e+00   2.22044605e-16]]\n",
      "[[  1.00000000e+00   0.00000000e+00   0.00000000e+00   0.00000000e+00]\n",
      " [  0.00000000e+00   2.22044605e-16  -1.00000000e+00   0.00000000e+00]\n",
      " [  0.00000000e+00   1.00000000e+00   2.22044605e-16   0.00000000e+00]\n",
      " [  0.00000000e+00   0.00000000e+00   0.00000000e+00   1.00000000e+00]]\n"
     ]
    }
   ],
   "source": [
    "R = q.rotation_matrix         # 3x3 rotation matrix\n",
    "T = q.transformation_matrix   # 4x4 transformation matrix\n",
    "\n",
    "print(R)\n",
    "print(T)"
   ]
  },
  {
   "cell_type": "code",
   "execution_count": 13,
   "metadata": {},
   "outputs": [
    {
     "name": "stdout",
     "output_type": "stream",
     "text": [
      "0.006 +0.305i -0.791j +0.531k\n"
     ]
    }
   ],
   "source": [
    "qq = Quaternion.random()\n",
    "print(qq)"
   ]
  },
  {
   "cell_type": "code",
   "execution_count": 28,
   "metadata": {},
   "outputs": [],
   "source": [
    "def quat2euler(q):\n",
    "    \"\"\"\n",
    "    Returns the euler representation (in degrees) of a quaternion. Note, the\n",
    "    heading is wrapped between 0-360 degrees.\n",
    "\n",
    "    In:\n",
    "        [q0 q1 q2 q3] = [w x y z]\n",
    "    out:\n",
    "        (roll, pitch, yaw) in degrees\n",
    "    \"\"\"\n",
    "    q0, q1, q2, q3 = q\n",
    "    roll = atan2(2.0*q2*q3-2.0*q0*q1, 2.0*q0*q0+2.0*q3*q3-1.0)\n",
    "    pitch = -asin(2.0*q1*q3+2.0*q0*q2)\n",
    "    heading = atan2(2.0*q1*q2-2.0*q0*q3, 2.0*q0*q0+2.0*q1*q1-1.0)\n",
    "\n",
    "    # wrap z-axis\n",
    "    heading = heading if heading <= 2*pi else heading-2*pi\n",
    "    heading = heading if heading >= 0 else heading+2*pi\n",
    "\n",
    "    return map(rad2deg, (roll, pitch, heading))"
   ]
  },
  {
   "cell_type": "code",
   "execution_count": 29,
   "metadata": {},
   "outputs": [
    {
     "name": "stdout",
     "output_type": "stream",
     "text": [
      "[0.0, -0.0, -89.99999999999999]\n"
     ]
    }
   ],
   "source": [
    "q = Quaternion(axis=[0, 0, 1], angle=pi/2)\n",
    "a = quat2euler(q)\n",
    "print(a)"
   ]
  },
  {
   "cell_type": "code",
   "execution_count": null,
   "metadata": {},
   "outputs": [],
   "source": []
  }
 ],
 "metadata": {
  "kernelspec": {
   "display_name": "Python 2",
   "language": "python",
   "name": "python2"
  },
  "language_info": {
   "codemirror_mode": {
    "name": "ipython",
    "version": 2
   },
   "file_extension": ".py",
   "mimetype": "text/x-python",
   "name": "python",
   "nbconvert_exporter": "python",
   "pygments_lexer": "ipython2",
   "version": "2.7.14"
  }
 },
 "nbformat": 4,
 "nbformat_minor": 2
}
