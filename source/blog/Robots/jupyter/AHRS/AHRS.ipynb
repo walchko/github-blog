{
 "cells": [
  {
   "cell_type": "markdown",
   "metadata": {},
   "source": [
    "# AHRS\n",
    "\n",
    "An **attitude and heading reference system** (AHRS) consists of sensors on three axes that provide attitude information for aircraft, including roll, pitch and yaw. These are sometimes referred to as MARG (Magnetic, Angular Rate, and Gravity) sensors and consist of either solid-state or microelectromechanical systems (MEMS) gyroscopes, accelerometers and magnetometers. They are designed to replace traditional mechanical gyroscopic flight instruments."
   ]
  },
  {
   "cell_type": "code",
   "execution_count": 1,
   "metadata": {},
   "outputs": [],
   "source": [
    "%matplotlib inline"
   ]
  },
  {
   "cell_type": "code",
   "execution_count": 15,
   "metadata": {},
   "outputs": [],
   "source": [
    "from __future__ import print_function, division\n",
    "import cv2         # opencv itself\n",
    "import numpy as np # matrix manipulations\n",
    "from matplotlib import pyplot as plt           # this lets you draw inline pictures in the notebooks\n",
    "import pylab                                   # this allows you to control figure size \n",
    "pylab.rcParams['figure.figsize'] = (10.0, 10.0) # this controls figure size in the notebook\n",
    "\n",
    "\n",
    "from math import sqrt, atan2, asin, pi\n",
    "from math import radians as deg2rad\n",
    "from math import degrees as rad2deg"
   ]
  },
  {
   "cell_type": "code",
   "execution_count": 3,
   "metadata": {},
   "outputs": [],
   "source": [
    "from the_collector import BagReader\n",
    "\n",
    "# def normalize(x, y, z):\n",
    "# \t\"\"\"Return a unit vector\"\"\"\n",
    "# \tnorm = sqrt(x * x + y * y + z * z)\n",
    "\n",
    "# \t# already a unit vector\n",
    "# \tif norm == 1.0:\n",
    "# \t\treturn (x, y, z)\n",
    "\n",
    "# \tif norm > 0.0:\n",
    "# \t\tinorm = 1/norm\n",
    "# \t\tx *= inorm\n",
    "# \t\ty *= inorm\n",
    "# \t\tz *= inorm\n",
    "# \telse:\n",
    "# \t\traise Exception('division by zero: {} {} {}'.format(x, y, z))\n",
    "# \treturn (x, y, z)\n",
    "\n",
    "\n",
    "# def normalize_q(q):\n",
    "# \t\"\"\"Return a unit quaternion\"\"\"\n",
    "# \tnorm = sqrt(q[0]**2 + q[1]**2 + q[2]**2 + q[3]**2)\n",
    "\n",
    "# \t# already a unit quaternion\n",
    "# \tif norm == 1.0:\n",
    "# \t\treturn q\n",
    "\n",
    "# \tif norm > 0:\n",
    "# \t\tinorm = 1/norm\n",
    "# \t\tqo = [x*inorm for x in q]\n",
    "# \telse:\n",
    "# \t\traise Exception('normalize div by 0')\n",
    "# \treturn qo\n",
    "\n",
    "def quat2euler(q):\n",
    "\t\"\"\"\n",
    "\tReturns the euler representation (in degrees) of a quaternion. Note, the\n",
    "\theading is wrapped between 0-360 degrees.\n",
    "\n",
    "\tIn:\n",
    "\t\t[q0 q1 q2 q3] = [w x y z]\n",
    "\tout:\n",
    "\t\t(roll, pitch, yaw) in degrees\n",
    "\t\"\"\"\n",
    "\tq0, q1, q2, q3 = q\n",
    "\troll = atan2(2.0*q2*q3-2.0*q0*q1, 2.0*q0*q0+2.0*q3*q3-1.0)\n",
    "\tpitch = -asin(2.0*q1*q3+2.0*q0*q2)\n",
    "\theading = atan2(2.0*q1*q2-2.0*q0*q3, 2.0*q0*q0+2.0*q1*q1-1.0)\n",
    "\n",
    "\theading = heading if heading <= 2*pi else heading-2*pi\n",
    "\theading = heading if heading >= 0 else heading+2*pi\n",
    "\n",
    "\treturn map(rad2deg, (roll, pitch, heading))"
   ]
  },
  {
   "cell_type": "code",
   "execution_count": 4,
   "metadata": {},
   "outputs": [],
   "source": [
    "# def Orientation(accel, mag, deg=True):\n",
    "#     ax, ay, az = normalize(*accel)\n",
    "#     mx, my, mz = nobag = BagReader()\n",
    "# bag.use_compression = True\n",
    "# cal = bag.load('imu-1-2.json')rmalize(*mag)\n",
    "    \n",
    "#     roll = atan2(ay, az)\n",
    "#     pitch = atan2(-ax, ay*sin(roll)+az*cos(roll))\n",
    "\n",
    "#     heading = atan2(\n",
    "#         mz*sin(roll) - my*cos(roll),\n",
    "#         mx*cos(pitch) + my*sin(pitch)*sin(roll) + mz*sin(pitch)*cos(roll)\n",
    "#     )\n",
    "\n",
    "#     if deg:\n",
    "#         roll *= 180/pi\n",
    "#         pitch *= 180/pi\n",
    "#         heading *= 180/pi\n",
    "\n",
    "#         heading = heading if heading >= 0.0 else 360 + heading\n",
    "#         heading = heading if heading <= 360 else heading - 360\n",
    "#     else:\n",
    "#         heading = heading if heading >= 0.0 else 2*pi + heading\n",
    "#         heading = heading if heading <= 2*pi else heading - 2*pi\n",
    "\n",
    "#     return (roll, pitch, heading)"
   ]
  },
  {
   "cell_type": "markdown",
   "metadata": {},
   "source": [
    "```python\n",
    "class AHRS(object):\n",
    "\tdef __init__(self, q=None):\n",
    "\t\tif q is None:\n",
    "\t\t\tq = (1, 0, 0, 0)\n",
    "\t\tq = normalize_q(q)\n",
    "\t\tself.q = q\n",
    "\n",
    "\tdef updateAGM(self, a, m, g, beta, dt):\n",
    "\t\t\"\"\"\n",
    "\t\tq - current quaternion\n",
    "\t\ta - acceleration [g's], this will be normalize\n",
    "\t\tm - magnetometer readings [uT], this will be normalized\n",
    "\t\tg - gyro readings [rad/sec]\n",
    "\t\tbeta - function of sensor noise\n",
    "\t\tdt - time step [sec]\n",
    "\t\t\"\"\"\n",
    "\t\tq0, q1, q2, q3 = self.q\n",
    "\t\tgx, gy, gz = (deg2rad(x) for x in g)\n",
    "\t\tax, ay, az = a\n",
    "\t\tmx, my, mz = m\n",
    "\n",
    "\t\t# Rate of change of quaternion from gyroscope\n",
    "\t\tqDot1 = 0.5 * (-q1 * gx - q2 * gy - q3 * gz)\n",
    "\t\tqDot2 = 0.5 * (q0 * gx + q2 * gz - q3 * gy)\n",
    "\t\tqDot3 = 0.5 * (q0 * gy - q1 * gz + q3 * gx)\n",
    "\t\tqDot4 = 0.5 * (q0 * gz + q1 * gy - q2 * gx)\n",
    "\n",
    "\t\tax, ay, az = normalize(ax, ay, az)\n",
    "\t\tmx, my, mz = normalize(mx, my, mz)\n",
    "\n",
    "\t\t# Auxiliary variables to avoid repeated arithmetic\n",
    "\t\t_2q0mx = 2.0 * q0 * mx\n",
    "\t\t_2q0my = 2.0 * q0 * my\n",
    "\t\t_2q0mz = 2.0 * q0 * mz\n",
    "\t\t_2q1mx = 2.0 * q1 * mx\n",
    "\t\t_2q0 = 2.0 * q0\n",
    "\t\t_2q1 = 2.0 * q1\n",
    "\t\t_2q2 = 2.0 * q2\n",
    "\t\t_2q3 = 2.0 * q3\n",
    "\t\t_2q0q2 = 2.0 * q0 * q2\n",
    "\t\t_2q2q3 = 2.0 * q2 * q3\n",
    "\t\tq0q0 = q0 * q0\n",
    "\t\tq0q1 = q0 * q1\n",
    "\t\tq0q2 = q0 * q2\n",
    "\t\tq0q3 = q0 * q3\n",
    "\t\tq1q1 = q1 * q1\n",
    "\t\tq1q2 = q1 * q2\n",
    "\t\tq1q3 = q1 * q3\n",
    "\t\tq2q2 = q2 * q2\n",
    "\t\tq2q3 = q2 * q3\n",
    "\t\tq3q3 = q3 * q3\n",
    "\n",
    "\t\t# Reference direction of Earth's magnetic field\n",
    "\t\thx = mx * q0q0 - _2q0my * q3 + _2q0mz * q2 + mx * q1q1 + _2q1 * my * q2 + _2q1 * mz * q3 - mx * q2q2 - mx * q3q3\n",
    "\t\thy = _2q0mx * q3 + my * q0q0 - _2q0mz * q1 + _2q1mx * q2 - my * q1q1 + my * q2q2 + _2q2 * mz * q3 - my * q3q3\n",
    "\t\t_2bx = sqrt(hx * hx + hy * hy)\n",
    "\t\t_2bz = -_2q0mx * q2 + _2q0my * q1 + mz * q0q0 + _2q1mx * q3 - mz * q1q1 + _2q2 * my * q3 - mz * q2q2 + mz * q3q3\n",
    "\t\t_4bx = 2.0 * _2bx\n",
    "\t\t_4bz = 2.0 * _2bz\n",
    "\n",
    "\t\t# Gradient decent algorithm corrective step\n",
    "\t\ts0 = -_2q2 * (2.0 * q1q3 - _2q0q2 - ax) + _2q1 * (2.0 * q0q1 + _2q2q3 - ay) - _2bz * q2 * (_2bx * (0.5 - q2q2 - q3q3) + _2bz * (q1q3 - q0q2) - mx) + (-_2bx * q3 + _2bz * q1) * (_2bx * (q1q2 - q0q3) + _2bz * (q0q1 + q2q3) - my) + _2bx * q2 * (_2bx * (q0q2 + q1q3) + _2bz * (0.5 - q1q1 - q2q2) - mz)\n",
    "\t\ts1 = _2q3 * (2.0 * q1q3 - _2q0q2 - ax) + _2q0 * (2.0 * q0q1 + _2q2q3 - ay) - 4.0 * q1 * (1 - 2.0 * q1q1 - 2.0 * q2q2 - az) + _2bz * q3 * (_2bx * (0.5 - q2q2 - q3q3) + _2bz * (q1q3 - q0q2) - mx) + (_2bx * q2 + _2bz * q0) * (_2bx * (q1q2 - q0q3) + _2bz * (q0q1 + q2q3) - my) + (_2bx * q3 - _4bz * q1) * (_2bx * (q0q2 + q1q3) + _2bz * (0.5 - q1q1 - q2q2) - mz)\n",
    "\t\ts2 = -_2q0 * (2.0 * q1q3 - _2q0q2 - ax) + _2q3 * (2.0 * q0q1 + _2q2q3 - ay) - 4.0 * q2 * (1 - 2.0 * q1q1 - 2.0 * q2q2 - az) + (-_4bx * q2 - _2bz * q0) * (_2bx * (0.5 - q2q2 - q3q3) + _2bz * (q1q3 - q0q2) - mx) + (_2bx * q1 + _2bz * q3) * (_2bx * (q1q2 - q0q3) + _2bz * (q0q1 + q2q3) - my) + (_2bx * q0 - _4bz * q2) * (_2bx * (q0q2 + q1q3) + _2bz * (0.5 - q1q1 - q2q2) - mz)\n",
    "\t\ts3 = _2q1 * (2.0 * q1q3 - _2q0q2 - ax) + _2q2 * (2.0 * q0q1 + _2q2q3 - ay) + (-_4bx * q3 + _2bz * q1) * (_2bx * (0.5 - q2q2 - q3q3) + _2bz * (q1q3 - q0q2) - mx) + (-_2bx * q0 + _2bz * q2) * (_2bx * (q1q2 - q0q3) + _2bz * (q0q1 + q2q3) - my) + _2bx * q1 * (_2bx * (q0q2 + q1q3) + _2bz * (0.5 - q1q1 - q2q2) - mz)\n",
    "\n",
    "\t\ts0, s1, s2, s3 = normalize_q((s0, s1, s2, s3))\n",
    "\n",
    "\t\t# Apply feedback step\n",
    "\t\tqDot1 -= beta * s0\n",
    "\t\tqDot2 -= beta * s1\n",
    "\t\tqDot3 -= beta * s2\n",
    "\t\tqDot4 -= beta * s3\n",
    "\n",
    "\t\tq0 += qDot1 * dt\n",
    "\t\tq1 += qDot2 * dt\n",
    "\t\tq2 += qDot3 * dt\n",
    "\t\tq3 += qDot4 * dt\n",
    "\n",
    "\t\tq0, q1, q2, q3 = normalize_q((q0, q1, q2, q3))\n",
    "\n",
    "\t\tself.q = (q0, q1, q2, q3)\n",
    "\n",
    "\t\treturn (q0, q1, q2, q3)\n",
    "\n",
    "\tdef updateAG(self, q, a, g, beta, dt):\n",
    "\t\tq0, q1, q2, q3 = q\n",
    "\t\tgx, gy, gz = (deg2rad(x) for x in g)\n",
    "\t\tax, ay, az = a\n",
    "\n",
    "\t\t# Rate of change of quaternion from gyroscope\n",
    "\t\tqDot1 = 0.5 * (-q1 * gx - q2 * gy - q3 * gz)\n",
    "\t\tqDot2 = 0.5 * (q0 * gx + q2 * gz - q3 * gy)\n",
    "\t\tqDot3 = 0.5 * (q0 * gy - q1 * gz + q3 * gx)\n",
    "\t\tqDot4 = 0.5 * (q0 * gz + q1 * gy - q2 * gx)\n",
    "\n",
    "\t\t# Compute feedback only if accelerometer measurement valid (avoids NaN in accelerometer normalisation)\n",
    "\t\tax, ay, az = normalize(ax, ay, az)\n",
    "\n",
    "\t\t# Auxiliary variables to avoid repeated arithmetic\n",
    "\t\t_2q0 = 2.0 * q0\n",
    "\t\t_2q1 = 2.0 * q1\n",
    "\t\t_2q2 = 2.0 * q2\n",
    "\t\t_2q3 = 2.0 * q3\n",
    "\t\t_4q0 = 4.0 * q0\n",
    "\t\t_4q1 = 4.0 * q1\n",
    "\t\t_4q2 = 4.0 * q2\n",
    "\t\t_8q1 = 8.0 * q1\n",
    "\t\t_8q2 = 8.0 * q2\n",
    "\t\tq0q0 = q0 * q0\n",
    "\t\tq1q1 = q1 * q1\n",
    "\t\tq2q2 = q2 * q2\n",
    "\t\tq3q3 = q3 * q3\n",
    "\n",
    "\t\t# Gradient decent algorithm corrective step\n",
    "\t\ts0 = _4q0 * q2q2 + _2q2 * ax + _4q0 * q1q1 - _2q1 * ay\n",
    "\t\ts1 = _4q1 * q3q3 - _2q3 * ax + 4.0 * q0q0 * q1 - _2q0 * ay - _4q1 + _8q1 * q1q1 + _8q1 * q2q2 + _4q1 * az\n",
    "\t\ts2 = 4.0 * q0q0 * q2 + _2q0 * ax + _4q2 * q3q3 - _2q3 * ay - _4q2 + _8q2 * q1q1 + _8q2 * q2q2 + _4q2 * az\n",
    "\t\ts3 = 4.0 * q1q1 * q3 - _2q1 * ax + 4.0 * q2q2 * q3 - _2q2 * ay\n",
    "\n",
    "\t\ts0, s1, s2, s3 = normalize_q((s0, s1, s2, s3))\n",
    "\n",
    "\t\t# Apply feedback step\n",
    "\t\tqDot1 -= beta * s0\n",
    "\t\tqDot2 -= beta * s1\n",
    "\t\tqDot3 -= beta * s2\n",
    "\t\tqDot4 -= beta * s3\n",
    "\n",
    "\t\t# Integrate rate of change of quaternion to yield quaternion\n",
    "\t\tq0 += qDot1 * dt\n",
    "\t\tq1 += qDot2 * dt\n",
    "\t\tq2 += qDot3 * dt\n",
    "\t\tq3 += qDot4 * dt\n",
    "\n",
    "\t\tq0, q1, q2, q3 = normalize_q((q0, q1, q2, q3))\n",
    "\n",
    "\t\tself.q = (q0, q1, q2, q3)\n",
    "\n",
    "\t\treturn (q0, q1, q2, q3)\n",
    "```"
   ]
  },
  {
   "cell_type": "markdown",
   "metadata": {},
   "source": [
    "# Get Data"
   ]
  },
  {
   "cell_type": "code",
   "execution_count": 5,
   "metadata": {},
   "outputs": [],
   "source": [
    "bag = BagReader()\n",
    "bag.use_compression = True\n",
    "cal = bag.load('imu-1-2.json')"
   ]
  },
  {
   "cell_type": "code",
   "execution_count": 6,
   "metadata": {},
   "outputs": [],
   "source": [
    "def split(data):\n",
    "    \"\"\"Separates the data from the timestamp for each sample\"\"\"\n",
    "    ret = []\n",
    "    rdt = []\n",
    "    start = data[0][1]\n",
    "    for d, ts in data:\n",
    "        ret.append(d)\n",
    "        rdt.append(ts - start) # produce a relative time timeline starting from 0 seconds\n",
    "    return ret, rdt"
   ]
  },
  {
   "cell_type": "code",
   "execution_count": 7,
   "metadata": {},
   "outputs": [],
   "source": [
    "accel, adt = split(cal['accel'])\n",
    "mag, mdt = split(cal['mag'])\n",
    "gyro, gdt = split(cal['gyro'])"
   ]
  },
  {
   "cell_type": "markdown",
   "metadata": {},
   "source": [
    "## Calibrate Data\n",
    "\n",
    "The bias was found in another application for this data"
   ]
  },
  {
   "cell_type": "code",
   "execution_count": 8,
   "metadata": {},
   "outputs": [],
   "source": [
    "bias = [53.7, -40.2, -89.30000000000001]"
   ]
  },
  {
   "cell_type": "code",
   "execution_count": 9,
   "metadata": {},
   "outputs": [],
   "source": [
    "def apply_calibration(data, bias):\n",
    "    \"\"\"\n",
    "    Given the data and the bias, correct the data \n",
    "    \"\"\"\n",
    "    c_data = []\n",
    "    for d in data:\n",
    "        t = []\n",
    "        for i in [0,1,2]:\n",
    "            t.append(d[i]-bias[i])\n",
    "        c_data.append(t)\n",
    "            \n",
    "    return c_data"
   ]
  },
  {
   "cell_type": "code",
   "execution_count": 10,
   "metadata": {},
   "outputs": [],
   "source": [
    "cm = apply_calibration(mag, bias)"
   ]
  },
  {
   "cell_type": "markdown",
   "metadata": {},
   "source": [
    "# Run AHRS"
   ]
  },
  {
   "cell_type": "code",
   "execution_count": 11,
   "metadata": {},
   "outputs": [],
   "source": [
    "import ins_nav\n",
    "ahrs = ins_nav.AHRS()"
   ]
  },
  {
   "cell_type": "code",
   "execution_count": 16,
   "metadata": {},
   "outputs": [],
   "source": [
    "beta = 1.0\n",
    "dt = adt[1]-adt[0]\n",
    "save_r = []\n",
    "save_p = []\n",
    "save_y = []\n",
    "for a, m, g in zip(accel, cm, gyro):\n",
    "    q = ahrs.updateAGM(a,m,g,beta,dt)\n",
    "    r,p,y = quat2euler(q)\n",
    "    save_r.append(r)\n",
    "    save_p.append(p)\n",
    "    save_y.append(y)"
   ]
  },
  {
   "cell_type": "code",
   "execution_count": 17,
   "metadata": {},
   "outputs": [
    {
     "data": {
      "image/png": "[encoded data removed]",
      "text/plain": [
       "<matplotlib.figure.Figure at 0x109d13550>"
      ]
     },
     "metadata": {},
     "output_type": "display_data"
    }
   ],
   "source": [
    "for i, (d, l) in enumerate(zip([save_r, save_p, save_y],['Roll','Pitch','Yaw'])):\n",
    "    plt.subplot(3,1,i+1);\n",
    "    plt.plot(d);\n",
    "    plt.grid(True)\n",
    "    plt.ylabel(l)"
   ]
  },
  {
   "cell_type": "markdown",
   "metadata": {},
   "source": [
    "# Ground Truth\n",
    "\n",
    "During the process, I grabbed camera images that we can put into a movie and \"see\" what is going on. Hopefully you can visually match what is happending to what is plotted above."
   ]
  },
  {
   "cell_type": "code",
   "execution_count": 18,
   "metadata": {},
   "outputs": [],
   "source": [
    "# simple function to save a video\n",
    "import platform\n",
    "def videoWrite(frames, fname='out.mp4'):\n",
    "    frame_height, frame_width, _ = frames[0].shape\n",
    "    \n",
    "    # pick a good encoder for the current OS\n",
    "    sys = platform.system()\n",
    "    if sys in ['Darwin']:\n",
    "        fourcc = 'avc1'\n",
    "    else:\n",
    "        fourcc = 'mjpg'\n",
    "        \n",
    "    out = cv2.VideoWriter(\n",
    "        fname,\n",
    "        cv2.VideoWriter_fourcc(*fourcc), \n",
    "        30, \n",
    "        (frame_width,frame_height))\n",
    "    for frame in frames:\n",
    "        out.write(frame)\n",
    "    out.release()"
   ]
  },
  {
   "cell_type": "code",
   "execution_count": 19,
   "metadata": {},
   "outputs": [],
   "source": [
    "frames = []\n",
    "for f, ts in cal['camera']:\n",
    "    frames.append(f)\n",
    "\n",
    "videoWrite(frames, 'sensor_data.mp4')"
   ]
  },
  {
   "cell_type": "code",
   "execution_count": 20,
   "metadata": {},
   "outputs": [
    {
     "data": {
      "text/html": [
       "<iframe src=\"sensor_data.mp4\" frameborder=\"0\" webkitallowfullscreen mozallowfullscreen allowfullscreen></iframe>"
      ],
      "text/plain": [
       "<IPython.core.display.HTML object>"
      ]
     },
     "execution_count": 20,
     "metadata": {},
     "output_type": "execute_result"
    }
   ],
   "source": [
    "from IPython.display import HTML # need this for embedding a movie in an iframe\n",
    "HTML('<iframe src=\"sensor_data.mp4\" frameborder=\"0\" webkitallowfullscreen mozallowfullscreen allowfullscreen></iframe>')"
   ]
  },
  {
   "cell_type": "code",
   "execution_count": null,
   "metadata": {},
   "outputs": [],
   "source": []
  }
 ],
 "metadata": {
  "kernelspec": {
   "display_name": "Python 2",
   "language": "python",
   "name": "python2"
  },
  "language_info": {
   "codemirror_mode": {
    "name": "ipython",
    "version": 2
   },
   "file_extension": ".py",
   "mimetype": "text/x-python",
   "name": "python",
   "nbconvert_exporter": "python",
   "pygments_lexer": "ipython2",
   "version": "2.7.14"
  }
 },
 "nbformat": 4,
 "nbformat_minor": 2
}
