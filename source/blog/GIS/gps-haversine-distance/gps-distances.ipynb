{
 "cells": [
  {
   "cell_type": "markdown",
   "metadata": {},
   "source": [
    "![](https://images.pexels.com/photos/2409681/pexels-photo-2409681.jpeg?auto=compress&cs=tinysrgb&h=750&w=1260)\n",
    "\n",
    "# Great Circle\n",
    "\n",
    "Kevin J. Walchko\n",
    "\n",
    "24 Apr 2020\n",
    "\n",
    "---\n",
    "\n",
    "Good libraries to use are:\n",
    "\n",
    "- [geopy](https://pypi.org/project/geopy/): will support a lot of GPS data \n",
    "formats and I like the way it uses properties to do unit conversions\n",
    "- [haversince](https://pypi.org/project/haversine/): calculates distance in a variety of units\n",
    "\n",
    "\n",
    "## References\n",
    "\n",
    "- https://www.movable-type.co.uk/scripts/latlong.html\n",
    "- https://en.wikipedia.org/wiki/Great-circle_distance"
   ]
  },
  {
   "cell_type": "code",
   "execution_count": 37,
   "metadata": {},
   "outputs": [],
   "source": [
    "from math import sin, cos, asin, sqrt, pi\n",
    "import attr"
   ]
  },
  {
   "cell_type": "markdown",
   "metadata": {},
   "source": [
    "## `haversine`\n",
    "\n",
    "![](https://upload.wikimedia.org/wikipedia/commons/thumb/3/38/Law-of-haversines.svg/220px-Law-of-haversines.svg.png)\n",
    "\n",
    "Haversine formula is good for short distances when the Earth's radius doesn't \n",
    "change much. Pypi has a library `haversine` which already does this calculation.\n",
    "\n",
    "```python\n",
    "from haversine import haversine, Unit\n",
    "\n",
    "lyon = (45.7597, 4.8422) # (lat, lon)\n",
    "paris = (48.8567, 2.3508)\n",
    "\n",
    "haversine(lyon, paris)\n",
    ">> 392.2172595594006  # in kilometers\n",
    "\n",
    "haversine(lyon, paris, unit=Unit.MILES)\n",
    ">> 243.71201856934454  # in miles\n",
    "```\n",
    "\n",
    "Another good library is `geopy` as mentioned above. `haversine` and `geopy.great_circle` \n",
    "appears to produce the same result. \n",
    "\n",
    "Basically, here is what is going on inside the function:"
   ]
  },
  {
   "cell_type": "code",
   "execution_count": 133,
   "metadata": {},
   "outputs": [],
   "source": [
    "def haversine(a, b):\n",
    "    deg2rad = pi/180\n",
    "    lat = b[0]*deg2rad\n",
    "    R = 6371008.8\n",
    "    dlat = (b[0] - a[0])*deg2rad\n",
    "    dlon = (b[1] - a[1])*deg2rad\n",
    "    m = sin(dlat*0.5)**2 + cos(a[0]*deg2rad) * cos(b[0]*deg2rad) * sin(dlon*0.5)**2\n",
    "    return R*2*asin(min(1, sqrt(m)))"
   ]
  },
  {
   "cell_type": "code",
   "execution_count": 140,
   "metadata": {},
   "outputs": [
    {
     "name": "stdout",
     "output_type": "stream",
     "text": [
      "392.4315289491997 km  243.84564701468403 mi 1287505.0162375318 ft\n",
      "392.2172718719643 km  243.71251383915697 mi 1286802.0730707487 ft\n"
     ]
    }
   ],
   "source": [
    "from geopy.distance import geodesic, great_circle\n",
    "\n",
    "# haversine seems to match geopy.great_circle distances\n",
    "lyon = (45.7597, 4.8422) # (lat, lon)\n",
    "paris = (48.8567, 2.3508)\n",
    "\n",
    "dist = geodesic(lyon, paris)\n",
    "print(f\"{dist.km} km  {dist.miles} mi {dist.feet} ft\")\n",
    "\n",
    "dist = great_circle(lyon, paris)\n",
    "print(f\"{dist.km} km  {dist.miles} mi {dist.feet} ft\")"
   ]
  },
  {
   "cell_type": "code",
   "execution_count": 134,
   "metadata": {},
   "outputs": [
    {
     "name": "stdout",
     "output_type": "stream",
     "text": [
      "392.21725955940013 km\n"
     ]
    }
   ],
   "source": [
    "# 392.2172718719643 km  243.71251383915697 mi 1286802.0730707487 ft\n",
    "lyon = (45.7597, 4.8422) # (lat, lon)\n",
    "paris = (48.8567, 2.3508)\n",
    "dist = haversine(lyon, paris)/1000\n",
    "print(f\"{dist} km\")"
   ]
  },
  {
   "cell_type": "markdown",
   "metadata": {},
   "source": [
    "## Earth's Radius\n",
    "\n",
    "So the Earth is *not* a sphere, it is fatter in the middle. This calculates the radius at various latitudes"
   ]
  },
  {
   "cell_type": "code",
   "execution_count": 145,
   "metadata": {},
   "outputs": [],
   "source": [
    "def R_lat(lat):\n",
    "    deg2rad = pi/180\n",
    "    re = 6378137\n",
    "    ee = 0.00669437999014\n",
    "    return re/sqrt(1-ee*sin(lat*deg2rad)**2)"
   ]
  },
  {
   "cell_type": "code",
   "execution_count": 146,
   "metadata": {},
   "outputs": [
    {
     "data": {
      "text/plain": [
       "6389.122772887659"
      ]
     },
     "execution_count": 146,
     "metadata": {},
     "output_type": "execute_result"
    }
   ],
   "source": [
    "R_lat(45.7597)/1000 # in km"
   ]
  },
  {
   "cell_type": "code",
   "execution_count": 147,
   "metadata": {},
   "outputs": [
    {
     "data": {
      "text/plain": [
       "6378.137"
      ]
     },
     "execution_count": 147,
     "metadata": {},
     "output_type": "execute_result"
    }
   ],
   "source": [
    "R_lat(0)/1000 # in km"
   ]
  },
  {
   "cell_type": "code",
   "execution_count": null,
   "metadata": {},
   "outputs": [],
   "source": []
  }
 ],
 "metadata": {
  "kernelspec": {
   "display_name": "Python 3",
   "language": "python",
   "name": "python3"
  },
  "language_info": {
   "codemirror_mode": {
    "name": "ipython",
    "version": 3
   },
   "file_extension": ".py",
   "mimetype": "text/x-python",
   "name": "python",
   "nbconvert_exporter": "python",
   "pygments_lexer": "ipython3",
   "version": "3.7.5"
  }
 },
 "nbformat": 4,
 "nbformat_minor": 4
}
