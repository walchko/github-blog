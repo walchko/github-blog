{
 "cells": [
  {
   "cell_type": "markdown",
   "metadata": {},
   "source": [
    "![](https://images.pexels.com/photos/2156/sky-earth-space-working.jpg?auto=compress&cs=tinysrgb&dpr=2&h=650&w=940)\n",
    "\n",
    "# Orbital Elements\n",
    "\n",
    "Kevin J. Walchko, Phd\n",
    "\n",
    "---\n",
    "\n",
    "![](https://upload.wikimedia.org/wikipedia/commons/thumb/e/eb/Orbit1.svg/500px-Orbit1.svg.png)\n",
    "\n",
    "The classical orbital elements are defined by 6 parameters.Two elements define the shape and size of the ellipse:\n",
    "\n",
    "- **Eccentricity (e):** shape of the ellipse compared to a circle (e=1, circle, e<1, ellipse, e>1, hyper\n",
    "- **Semimajor axis (a):** the sum of the periapsis and apoapsis distances divided by two. For classic two-body orbits, the semimajor axis is the distance between the centers of the bodies, not the distance of the bodies from the center of mass.\n",
    "\n",
    "Two elements define the orientation of the orbital plane in which the ellipse is embedded:\n",
    "\n",
    "- **Inclination (i):** vertical tilt of the ellipse with respect to the reference plane, measured at the ascending node. \n",
    "- **Longitude of the ascending node ($\\Omega$):** the angle measured CCW from the vernal equinox to the asending node (where the orbit plane crosses the reference plane)\n",
    "\n",
    "The remaining two elements are as follows:\n",
    "\n",
    "- **Argument of periapsis ($\\omega$):** defines the orientation of the ellipse in the orbital plane, as an angle measured from the ascending node to the periapsis\n",
    "- **True anomaly ($\\theta$):** at epoch (t0) defines the position of the orbiting body along the ellipse at a specific time (the \"epoch\")\n",
    "\n",
    "## References\n",
    "\n",
    "- Wikipedia: [Orbital elements](https://en.wikipedia.org/wiki/Orbital_elements)"
   ]
  },
  {
   "cell_type": "code",
   "execution_count": null,
   "metadata": {},
   "outputs": [],
   "source": []
  }
 ],
 "metadata": {
  "kernelspec": {
   "display_name": "Python 3",
   "language": "python",
   "name": "python3"
  },
  "language_info": {
   "codemirror_mode": {
    "name": "ipython",
    "version": 3
   },
   "file_extension": ".py",
   "mimetype": "text/x-python",
   "name": "python",
   "nbconvert_exporter": "python",
   "pygments_lexer": "ipython3",
   "version": "3.7.7"
  }
 },
 "nbformat": 4,
 "nbformat_minor": 4
}
