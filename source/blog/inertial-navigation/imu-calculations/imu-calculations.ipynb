{
 "cells": [
  {
   "cell_type": "markdown",
   "metadata": {},
   "source": [
    "![](https://images.pexels.com/photos/720620/pexels-photo-720620.jpeg?auto=compress&cs=tinysrgb&dpr=2&h=650&w=940)\n",
    "\n",
    "# IMU Sensor Calculations\n",
    "\n",
    "Kevin J. Walchko, Phd\n",
    "\n",
    "---\n",
    "\n",
    "An inertial sensor is composed of several individual sensors. Generally, at a minimum there is an accelerometer to measure inertial forces and a gyroscope to measure rotational rate. However, magnometers capable of measuring the Earth's magnetic field have become cheap and are often included in low cost IMUs. These sensors can be used almost as is to calculate useful things.\n",
    "\n",
    "## Accelerometer\n",
    "\n",
    "You can calculate the roll and pitch angle based on the gravity gradient.\n",
    "\n",
    "$$\n",
    "f^b = R^b_n \\begin{bmatrix}\n",
    "0 \\\\\n",
    "0 \\\\\n",
    "g \n",
    "\\end{bmatrix} = \n",
    "\\begin{bmatrix}\n",
    "g s\\theta \\\\\n",
    "-g c\\theta s\\phi \\\\\n",
    "-g c\\theta c\\phi\n",
    "\\end{bmatrix}\n",
    "$$\n",
    "\n",
    "where $f$ is the accelerometer reading in body space.\n",
    "\n",
    "$$\n",
    "roll = \\phi = arctan2(-f_y, -f_z) \\\\\n",
    "pitch = \\theta = arctan2(f_x, \\sqrt{f^2_y, f^2_z})\n",
    "$$\n",
    "\n",
    "```python\n",
    "def accelLevel(accelRead):\n",
    "    # Takes accelerometer specific force reading when stationary and estimates\n",
    "    # roll (phi) and pitch (theta) from the gravity vector\n",
    "    fx_b, fy_b, fz_b = accelRead\n",
    "    phi_est = arctan2(-fy_b,-fz_b)\n",
    "    theta_est = arctan2(fx_b, sqrt(fy_b*fy_b + fz_b*fz_b))\n",
    "    return phi_est, theta_est\n",
    "```\n",
    "\n",
    "### Acceleration Errors\n",
    "\n",
    "The acceleromenter has issues determining the level orientation when it is subjected to external accelerations (Ex: quadcopter in flight) because it is no longer just the gravity vector being measured. More complex equations need to be developed and typically used with a Kalman Filter to understand what is going on.\n",
    "\n",
    "## Magnetometer\n",
    "\n",
    "$$\n",
    "m^L = \n",
    "\\begin{bmatrix}\n",
    "c\\theta & s\\phi s\\theta & c\\phi s\\theta \\\\\n",
    "0 & c\\phi & -s \\phi \\\\\n",
    "-s\\theta & c\\theta s\\phi & c\\phi c\\theta\n",
    "\\end{bmatrix} m^b\n",
    "$$\n",
    "\n",
    "where $m^b$ is the reading from the magnetometer. We can convert this to a heading reading by:\n",
    "\n",
    "$$\n",
    "\\phi_{mag} = arctan2(-m^L_y,m^L_x) \\\\\n",
    "\\phi_{true} = \\phi_{mag} + \\alpha\n",
    "$$\n",
    "\n",
    "where $\\alpha$ is the declination heading correction of the Earth's magnetic field.\n",
    "\n",
    "```python\n",
    "def heading(magRead, phi, theta):\n",
    "    # Takes magnetometer reading and estimated phi and theta Euler angles,\n",
    "    # and calculates a measured psi Euler angle (magnetic heading)\n",
    "    mx_b, my_b, mz_b = magRead\n",
    "    \n",
    "    # Rotate by phi and theta estimates (in radians) to Level (L) frame\n",
    "    mx_L = mx_b*cos(theta) + my_b*sin(theta)*sin(phi) + mz_b*sin(theta)*cos(phi)\n",
    "    my_L = my_b*cos(phi) - mz_b*sin(phi)\n",
    "    # Calculate psi\n",
    "    psi_meas = arctan2(-my_L,mx_L)\n",
    "    return psi_meas\n",
    "```\n",
    "\n",
    "### Magnetometer Errors\n",
    "\n",
    "Magnetometers are influenced by external magnetic fields from motors, buck converts, etc. They also are influenced by accelerations from rapid movements."
   ]
  },
  {
   "cell_type": "markdown",
   "metadata": {},
   "source": [
    "# References\n",
    "\n",
    "- charlestytler.com: [IMU equations](https://charlestytler.com/measuring-quadcopter-attitude-sensors/) [local copy](attitude-sensors.pdf)\n",
    "- AN3461: [Tilt Sensing Using a Three-Axis Accelerometer](AN3461.pdf)"
   ]
  },
  {
   "cell_type": "code",
   "execution_count": 2,
   "metadata": {},
   "outputs": [],
   "source": [
    "import numpy as np\n",
    "from numpy import sin, cos, pi"
   ]
  },
  {
   "cell_type": "code",
   "execution_count": 5,
   "metadata": {},
   "outputs": [
    {
     "name": "stdout",
     "output_type": "stream",
     "text": [
      "15.9 µs ± 555 ns per loop (mean ± std. dev. of 7 runs, 100000 loops each)\n"
     ]
    }
   ],
   "source": [
    "%%timeit\n",
    "def ll2ned(lat, lon):\n",
    "    return np.array([\n",
    "        [-sin(lat)*cos(lon), -sin(lat)*sin(lon), cos(lat)],\n",
    "        [-sin(lon), cos(lon), 0],\n",
    "        [-cos(lat)*cos(lon), -cos(lat)*sin(lon), -sin(lat)]\n",
    "    ])\n",
    "\n",
    "ll2ned(pi,-pi)"
   ]
  },
  {
   "cell_type": "code",
   "execution_count": 6,
   "metadata": {},
   "outputs": [
    {
     "name": "stdout",
     "output_type": "stream",
     "text": [
      "16 µs ± 719 ns per loop (mean ± std. dev. of 7 runs, 100000 loops each)\n"
     ]
    }
   ],
   "source": [
    "%%timeit\n",
    "ll2ned=lambda lat, lon: np.array([\n",
    "        [-sin(lat)*cos(lon), -sin(lat)*sin(lon), cos(lat)],\n",
    "        [-sin(lon), cos(lon), 0],\n",
    "        [-cos(lat)*cos(lon), -cos(lat)*sin(lon), -sin(lat)]\n",
    "    ])\n",
    "\n",
    "ll2ned(pi,-pi)"
   ]
  },
  {
   "cell_type": "code",
   "execution_count": null,
   "metadata": {},
   "outputs": [],
   "source": []
  }
 ],
 "metadata": {
  "kernelspec": {
   "display_name": "Python 3",
   "language": "python",
   "name": "python3"
  },
  "language_info": {
   "codemirror_mode": {
    "name": "ipython",
    "version": 3
   },
   "file_extension": ".py",
   "mimetype": "text/x-python",
   "name": "python",
   "nbconvert_exporter": "python",
   "pygments_lexer": "ipython3",
   "version": "3.8.3"
  }
 },
 "nbformat": 4,
 "nbformat_minor": 2
}
