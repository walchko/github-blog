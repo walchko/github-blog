{
 "cells": [
  {
   "cell_type": "markdown",
   "metadata": {},
   "source": [
    "![](https://images.pexels.com/photos/1167160/pexels-photo-1167160.jpeg?auto=compress&cs=tinysrgb&dpr=2&h=750&w=1260)\n",
    "\n",
    "# Rotations Euler\n",
    "\n",
    "Kevin J. Walchko, Phd\n",
    "\n",
    "28 June 2020\n",
    "\n",
    "---\n",
    "\n",
    "# Euler Angles\n",
    "\n",
    "The fundamental terms most  people understand in 3D space are: roll ($\\phi$), pitch ($\\theta$), yaw ($\\psi$).\n",
    "\n",
    "![](body-angles.png)\n",
    "\n",
    "Below is a NED (North, East, Down) frame (*inertial* in yellow) and a Global Hawk (GH) with a body frame (attached to center mass in black) moving within it. Using a sequence of the above terms, we can identify an object the GH sees in body space and transform it NED space via a rotation sequence (or visa versa).\n",
    "\n",
    "![](body-frame.png)\n",
    "\n",
    "This diagram comes from the Motion Imagery Standards Board (MISB). Also, the term inertial is *italicized* because the frame is not truely an inertial frame.\n",
    "\n",
    "## Euler Rotations\n",
    "\n",
    "Generally, you avoid euler angles and use quaternions to calculate 3D rigid body motion due to gimbol lock. However, quaternions are not intuitive to a human. Thus you use euler angles to visualize what is happening. \n",
    "\n",
    "The mathematical transformation between a body fixed frame and an inertial (non-moving) frame can be done with a rotation matrix (not accounting for translation). Euler developed a series of them, with the Aerospace Industry settling on the 3-2-1 sequence to go between an inertial frame and a moving body frame.\n",
    "\n",
    "Here, the $R_{321} = R_{zyx} = R_x(\\phi)R_y(\\theta)R_z(\\psi)$ is the standard sequence to transform a vector from inertial space to body space. \n",
    "\n",
    "$$\n",
    "\\vec{v}^b = R_{321} \\vec{v}^I\n",
    "$$\n",
    "\n",
    "Aerospace uses a frame attached to a vehicle's center of mass with the x-axis pointing out the nose, y-axis out the right wing, and z-axis pointing down. The local (*inertial*) frame for navigation is NED.\n",
    "\n",
    "- $R_{321} = R_{NED}$, transform inertial points to body\n",
    "- Compass is equal to yaw (positive clockwise)\n",
    "- Gimbal lock at $\\pm 90^\\circ$ pitch\n",
    "- Ranges\n",
    "    - $-180^\\circ \\leq Roll \\leq 180^\\circ$\n",
    "    - $-90^\\circ \\leq Pitch \\leq 90^\\circ$\n",
    "    - $0^\\circ \\leq Yaw \\leq 360^\\circ$\n",
    "\n",
    "The sequence is:\n",
    "\n",
    "1. Body and inertial frames are aligned\n",
    "1. Rotate body frame by $\\psi$ about z-axis\n",
    "1. Rotate body frame by $\\theta$ about new y'-axis\n",
    "1. Rotate body frame by $\\phi$ about new x''-axis\n",
    "\n",
    "![](dcm.png)\n",
    "\n",
    "$$\n",
    "\\vec{p}^b = R_{321} \\vec{p}^I = \n",
    "\\begin{bmatrix}\n",
    "           c_2c_3 &            c_2s_3 &   -s_2 \\\\\n",
    "-c_1s_3+s_1s_2c_3 &  c_1c_3+s_1s_2s_3 & s_1c_2 \\\\\n",
    " s_1s_3+c_1s_2c_3 & -s_1c_3+c_1s_2s_3 & c_1c_2\n",
    "\\end{bmatrix} \\vec{p}^I\n",
    "$$\n",
    "\n",
    "The simplest case occurs when the inertial and body frames align, then the matix is the identity:\n",
    "\n",
    "![](identity.png)\n",
    "\n",
    "Now to calculate the inertial vector from a body frame vector:\n",
    "\n",
    "$$\n",
    "\\begin{align*}\n",
    "\\vec{p}^I &= R_{123}\\vec{p}^b \\\\\n",
    "          &= inv(R_{321})\\vec{p}^b = R_{321}^T\\vec{p}^b\n",
    "\\end{align*}\n",
    "$$\n",
    "\n",
    "\n",
    "## Calculating Euler Angles from Body Rates (Gyros)\n",
    "\n",
    "Given the values $\\begin{bmatrix} p & q & r \\end{bmatrix}^T$ from a gyro, we want to be able to find the Euler angles ($\\Phi =\\begin{bmatrix} \\phi & \\theta & \\psi \\end{bmatrix}^T$). The relationship between the two are:\n",
    "\n",
    "![](euler_rotation.png)\n",
    "\n",
    "This is true when integrating fast and the angle are small values. You end up with the following equations:\n",
    "\n",
    "$$\n",
    "\\begin{bmatrix}\n",
    "p \\\\\n",
    "q \\\\\n",
    "r\n",
    "\\end{bmatrix} = \n",
    "\\begin{bmatrix}\n",
    "\\dot \\phi \\\\\n",
    "0 \\\\\n",
    "0\n",
    "\\end{bmatrix}^b + R(\\phi) \\begin{bmatrix}\n",
    "0 \\\\\n",
    "\\dot \\theta \\\\\n",
    "0\n",
    "\\end{bmatrix}^{b'} + R(\\phi) R(\\theta) \\begin{bmatrix}\n",
    "0 \\\\\n",
    "0 \\\\\n",
    "\\dot \\psi\n",
    "\\end{bmatrix}^{b''} = \\begin{bmatrix}\n",
    "1 & 0      & -s\\theta \\\\\n",
    "0 & c\\phi  & s\\phi c\\theta \\\\\n",
    "0 & -s\\phi & c\\phi c\\phi\n",
    "\\end{bmatrix} \\begin{bmatrix}\n",
    "\\dot \\phi \\\\\n",
    "\\dot \\theta \\\\\n",
    "\\dot \\psi\n",
    "\\end{bmatrix} = L^B_I \\dot \\Phi\n",
    "$$\n",
    "\n",
    "where $R$ is direct cosine matrix (DCM). Now $L^{-1} \\neq L^T$ since this is not a symetric matrix. However, this can be rearranged to get:\n",
    "\n",
    "$$\n",
    "\\dot \\Phi =\n",
    "\\begin{bmatrix}\n",
    "\\dot \\phi \\\\\n",
    "\\dot \\theta \\\\\n",
    "\\dot \\psi\n",
    "\\end{bmatrix} = \n",
    "\\begin{bmatrix}\n",
    "1 & s\\phi t\\theta & c\\phi t\\theta \\\\\n",
    "0 & c\\phi & -s\\phi \\\\\n",
    "0 & s\\phi sec\\theta & c\\phi sec\\theta\n",
    "\\end{bmatrix} \\begin{bmatrix}\n",
    "p \\\\\n",
    "q \\\\\n",
    "r\n",
    "\\end{bmatrix} = L^I_B \\omega_B\n",
    "$$\n",
    "\n",
    "Now you could integrate this equation in order to update the Euler angles given gyro measurements ($\\Phi \\mathrel{{+}{=}} \\omega_B \\Delta t$). However, Euler angles have issues (i.e., gimbal lock) so typically engineers use quaternions instead to track the orientation of a rigid body. However, since quaternions are a 4D representation of 3D space, they are highly non-intuitive. Therefore, the quaternion is typically transformed back into Euler angles for human understanding only."
   ]
  },
  {
   "cell_type": "markdown",
   "metadata": {},
   "source": [
    "## References\n",
    "\n",
    "- Wikipedia: [Aircraft principle axes](https://en.wikipedia.org/wiki/Aircraft_principal_axes)\n",
    "- Wikipedia: [Axis Convention](https://en.wikipedia.org/wiki/Axes_conventions)\n",
    "- Wikipedia: [Euler Angles](https://en.wikipedia.org/wiki/Euler_angles)\n",
    "- Wikipedia: [Transpose of matricies: $(AB)^T = B^TA^T$](https://en.wikipedia.org/wiki/Transpose)\n",
    "- [Explanation of Euler Rotations](https://charlestytler.com/measuring-quadcopter-attitude-sensors/)\n",
    "- Scipy: [Rotation](https://docs.scipy.org/doc/scipy/reference/generated/scipy.spatial.transform.Rotation.html)"
   ]
  },
  {
   "cell_type": "code",
   "execution_count": 1,
   "metadata": {},
   "outputs": [
    {
     "name": "stdout",
     "output_type": "stream",
     "text": [
      "[0.05987511 0.572693   0.89783636] deg\n"
     ]
    }
   ],
   "source": [
    "%load_ext autoreload\n",
    "%autoreload 2\n",
    "\n",
    "from math import sin, cos, tan, acos, pi\n",
    "import numpy as np\n",
    "\n",
    "# Derivative function\n",
    "def xdot(x,u):\n",
    "    x_dot = np.zeros(3)  # [0,0,0]\n",
    "    #   phidot = p + (q*sin(phi) + r*cos(phi))*tan(theta)\n",
    "    x_dot[0] = u[0] + (u[1]*sin(x[0]) + u[2]*cos(x[0]))*tan(x[1])\n",
    "    #   thetadot = q*cos(phi) - r*sin(phi)\n",
    "    x_dot[1] = u[1]*cos(x[0]) - u[2]*sin(x[0])\n",
    "    #   psidot = (q*sin(phi) + r*cos(phi))*sec(theta)\n",
    "    x_dot[2] = (u[1]*sin(x[0]) + u[2]*cos(x[0]))*acos(x[1])\n",
    "    return x_dot\n",
    "\n",
    "# Initial condition setup\n",
    "eulerAngles = np.zeros(3)  # Assume start up with phi = theta = psi = 0 radians\n",
    "deltaT = 0.01              # Sampling time (sec)\n",
    "\n",
    "# loop\n",
    "for i in range(10):\n",
    "    omegaRead = [0.01,0.1,0.1] # gyros.getAngularVelocity()\n",
    "    eulerAngles += xdot(eulerAngles,omegaRead) * deltaT\n",
    "    \n",
    "print(f\"{np.rad2deg(eulerAngles)} deg\")"
   ]
  },
  {
   "cell_type": "markdown",
   "metadata": {},
   "source": [
    "# Scipy\n",
    "\n",
    "`scipy` has a built in euler/quaternion/matrix capability. Just be **aware** that the order doesn't match:\n",
    "\n",
    "- `scipy` is (imaginary, real): `q = [x,y,z,w]`\n",
    "- `squaternion` is (real, imaginary):  `q = [w,x,y,z]`\n",
    "\n",
    "```\n",
    "class Quaternion(builtins.object)\n",
    " |  Quaternion(w=1.0, x=0.0, y=0.0, z=0.0) -> None\n",
    " |  \n",
    " |  q = Quaternion() # defaults to unit (1,0,0,0)\n",
    " |  q = Quaternion(w,x,y,z)\n",
    " |  \n",
    " |  class properties:\n",
    " |      q.scalar: q.w\n",
    " |      q.vector: (q.x, q.y, q.z)\n",
    " |      q.normalize: return a normalized quaternion\n",
    " |      q.magnitude: returns the magnitude of the quaternion\n",
    " |  \n",
    " |  class methods:\n",
    " |      q.to_euler: returns (roll, pitch, yaw)\n",
    " |      Quaternion.from_euler: returns a quaternion from euler angles (Z,Y,X)\n",
    " |      q*q: multiply 2 quaternions together\n",
    "```"
   ]
  },
  {
   "cell_type": "code",
   "execution_count": 95,
   "metadata": {},
   "outputs": [],
   "source": [
    "from scipy.spatial.transform import Rotation as R\n",
    "from squaternion import Quaternion"
   ]
  },
  {
   "cell_type": "code",
   "execution_count": 101,
   "metadata": {},
   "outputs": [
    {
     "name": "stdout",
     "output_type": "stream",
     "text": [
      "(0.5000000000000001, 0.0, 0.5, 0.7071067811865476) == Quaternion(w=0.5, x=0.0, y=0.49999999999999994, z=0.7071067811865475)\n"
     ]
    }
   ],
   "source": [
    "q = Quaternion(np.cos(np.pi/4), 0, np.sin(np.pi/4),1).normalize\n",
    "w,x,y,z = q\n",
    "r = R.from_quat([x,y,z,w])\n",
    "rq = r.as_quat()\n",
    "print(f\"{(rq[3], *rq[:3])} == {q}\")"
   ]
  },
  {
   "cell_type": "code",
   "execution_count": 102,
   "metadata": {},
   "outputs": [
    {
     "name": "stdout",
     "output_type": "stream",
     "text": [
      "[125.26438968  30.         -54.73561032] == (54.73561031724534, 29.999999999999996, 125.26438968275463)\n"
     ]
    }
   ],
   "source": [
    "print(f\"{r.as_euler('zyx', degrees=True)} == {q.to_euler(degrees=True)}\")"
   ]
  },
  {
   "cell_type": "code",
   "execution_count": 97,
   "metadata": {},
   "outputs": [
    {
     "name": "stdout",
     "output_type": "stream",
     "text": [
      "[0. 0. 0. 1.] == Quaternion(w=1.0, x=0.0, y=0.0, z=0.0)\n"
     ]
    }
   ],
   "source": [
    "r = R.from_euler('zyx',[0,0,0])\n",
    "q = Quaternion.from_euler(0,0,0)\n",
    "print(f\"{r.as_quat()} == {q}\")"
   ]
  },
  {
   "cell_type": "markdown",
   "metadata": {},
   "source": [
    "# Rotation\n",
    "\n",
    "```\n",
    "R321(a,b,c) -> R1(c)R2(b)R3(a)\n",
    "R313(a,b,c) -> R3(c)R1(b)R3(a)\n",
    "```"
   ]
  },
  {
   "cell_type": "code",
   "execution_count": 81,
   "metadata": {},
   "outputs": [],
   "source": [
    "from rotations import R1,R2,R3,R321,R123,R313"
   ]
  },
  {
   "cell_type": "code",
   "execution_count": 82,
   "metadata": {},
   "outputs": [
    {
     "name": "stdout",
     "output_type": "stream",
     "text": [
      "[[ 1.          0.          0.        ]\n",
      " [ 0.          0.70710678  0.70710678]\n",
      " [ 0.         -0.70710678  0.70710678]] \n",
      "\n",
      "[[ 0.70710678  0.         -0.70710678]\n",
      " [ 0.          1.          0.        ]\n",
      " [ 0.70710678  0.          0.70710678]] \n",
      "\n",
      "[[ 0.70710678  0.70710678  0.        ]\n",
      " [-0.70710678  0.70710678  0.        ]\n",
      " [ 0.          0.          1.        ]] \n",
      "\n"
     ]
    }
   ],
   "source": [
    "print(R1(45,True),\"\\n\") # x\n",
    "print(R2(45,True),\"\\n\") # y\n",
    "print(R3(45,True),\"\\n\") # z"
   ]
  },
  {
   "cell_type": "code",
   "execution_count": 83,
   "metadata": {},
   "outputs": [
    {
     "name": "stdout",
     "output_type": "stream",
     "text": [
      "R321:\n",
      " [[ 0.71984631  0.26200263 -0.64278761]\n",
      " [ 0.35208899  0.6602388   0.66341395]\n",
      " [ 0.59820952 -0.70387453  0.38302222]]\n"
     ]
    }
   ],
   "source": [
    "print(\"R321:\\n\", R1(60,True) @ R2(40,True) @ R3(20,True))"
   ]
  },
  {
   "cell_type": "code",
   "execution_count": 84,
   "metadata": {},
   "outputs": [
    {
     "name": "stdout",
     "output_type": "stream",
     "text": [
      "R321:\n",
      " [[ 0.71984631  0.26200263 -0.64278761]\n",
      " [ 0.35208899  0.6602388   0.66341395]\n",
      " [ 0.59820952 -0.70387453  0.38302222]]\n"
     ]
    }
   ],
   "source": [
    "print(\"R321:\\n\", R321(20,40,60,True))"
   ]
  },
  {
   "cell_type": "code",
   "execution_count": 85,
   "metadata": {},
   "outputs": [
    {
     "data": {
      "text/plain": [
       "True"
      ]
     },
     "execution_count": 85,
     "metadata": {},
     "output_type": "execute_result"
    }
   ],
   "source": [
    "r321 = R1(60,True) @ R2(40,True) @ R3(20,True)\n",
    "np.allclose(r321, R321(20,40,60,True))"
   ]
  },
  {
   "cell_type": "code",
   "execution_count": 86,
   "metadata": {},
   "outputs": [
    {
     "data": {
      "text/plain": [
       "True"
      ]
     },
     "execution_count": 86,
     "metadata": {},
     "output_type": "execute_result"
    }
   ],
   "source": [
    "r313 = R3(20, True) @ R1(40,True) @ R3(60,True)\n",
    "np.allclose(r313, R313(60,40,20,True))"
   ]
  },
  {
   "cell_type": "markdown",
   "metadata": {},
   "source": [
    "## Inverse\n",
    "\n",
    "So we know this:\n",
    "\n",
    "$$\n",
    "R(a)^{-1} = R(a)^T \\\\\n",
    "(AB)^T = B^TA^T\n",
    "$$\n",
    "\n",
    "But let's show the details a little more to prove it by moving individual matrices to the other side of the equation:\n",
    "\n",
    "$$\n",
    "\\begin{align*}\n",
    "                                 A &= R_{321}(a,b,c) B \\\\\n",
    "                                 A &= R_{1}(c) R_{2}(b) R_{3}(a) B \\\\\n",
    "R_{3}(a)^T R_{2}(b)^T R_{1}(c)^T A &= B \\\\\n",
    "                  R_{123}(c,b,a) A &= B\n",
    "\\end{align*}\n",
    "$$\n",
    "\n",
    "or we could use the transpose property above ($(AB)^T = B^TA^T$):\n",
    "\n",
    "$$\n",
    "\\begin{align*}\n",
    "                                 A &= R_{321}(a,b,c) B \\\\\n",
    "                R_{321}(a,b,c)^T A &= B \\\\\n",
    "  [R_{1}(c) R_{2}(b) R_{3}(a)]^T A &= B \\\\\n",
    "R_{3}(a)^T R_{2}(b)^T R_{1}(c)^T A &= B \\\\\n",
    "                  R_{123}(c,b,a) A &= B\n",
    "\\end{align*}\n",
    "$$\n",
    "\n",
    "Notice how the inverse of $R_{321}(a,b,c)$ is $R_{123}(c,b,a)$ with the values swapped around.\n",
    "Thus, from above, we can state:\n",
    "\n",
    "$$\n",
    "\\begin{align*}\n",
    "R_{321}(a,b,c)^{-1} &= R_{321}(a,b,c)^T \\\\\n",
    "             &= R_{3}(a)^T R_{2}(b)^T R_{1}(c)^T \\\\\n",
    "             &= R_{123}(c,b,a)\n",
    "\\end{align*}\n",
    "$$"
   ]
  },
  {
   "cell_type": "code",
   "execution_count": 87,
   "metadata": {},
   "outputs": [
    {
     "data": {
      "text/plain": [
       "True"
      ]
     },
     "execution_count": 87,
     "metadata": {},
     "output_type": "execute_result"
    }
   ],
   "source": [
    "# R321(c,b,a) == R123(a,b,c).T\n",
    "#             == [R3(c)R2(b)R1(a)].T\n",
    "#             == R1(a).T R2(b).T R3(c).T\n",
    "#             == R321(c,b,a)\n",
    "np.allclose(R321(20,40,60,True), R123(20,40,60,True).T)"
   ]
  },
  {
   "cell_type": "code",
   "execution_count": 88,
   "metadata": {},
   "outputs": [
    {
     "data": {
      "text/plain": [
       "True"
      ]
     },
     "execution_count": 88,
     "metadata": {},
     "output_type": "execute_result"
    }
   ],
   "source": [
    "rt123 = R3(20,True).T @ R2(40,True).T @ R1(60,True).T\n",
    "np.allclose(rt123, R123(20,40,60,True))"
   ]
  },
  {
   "cell_type": "code",
   "execution_count": 89,
   "metadata": {},
   "outputs": [
    {
     "data": {
      "text/plain": [
       "True"
      ]
     },
     "execution_count": 89,
     "metadata": {},
     "output_type": "execute_result"
    }
   ],
   "source": [
    "np.allclose(rt123, R321(20,40,60,True).T)"
   ]
  }
 ],
 "metadata": {
  "kernelspec": {
   "display_name": "Python 3",
   "language": "python",
   "name": "python3"
  },
  "language_info": {
   "codemirror_mode": {
    "name": "ipython",
    "version": 3
   },
   "file_extension": ".py",
   "mimetype": "text/x-python",
   "name": "python",
   "nbconvert_exporter": "python",
   "pygments_lexer": "ipython3",
   "version": "3.8.3"
  }
 },
 "nbformat": 4,
 "nbformat_minor": 2
}
