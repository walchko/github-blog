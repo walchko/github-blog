{
 "cells": [
  {
   "cell_type": "markdown",
   "metadata": {},
   "source": [
    "# Rotations Euler\n",
    "\n",
    "Kevin J. Walchko, Phd\n",
    "\n",
    "---\n",
    "\n",
    "## Euler Rotations\n",
    "\n",
    "The mathematical transformation between a body fixed frame and an inertial (non-moving) frame can be done with a rotation matrix. Euler developed a series of them, with the Aerospace Industry settling on the 3-2-1 sequence to go between a moving body and an inertial frame.\n",
    "\n",
    "Here, the $R_{321} = R_{zyx} = R(\\psi)R(\\theta)R(\\phi)$ is the standard. Thus a vector in body space is related to its inertial vector by $v^I = R_{321} v^b$. The sequence is:\n",
    "\n",
    "![](dcm.png)\n",
    "\n",
    "The simplest case occurs when the inertial and body frames align, then the matix is the identity:\n",
    "\n",
    "![](identity.png)\n",
    "\n",
    "## Calculating Euler Angles from Body Rates (Gyros)\n",
    "\n",
    "Given the values $\\begin{bmatrix} p & q & r \\end{bmatrix}^T$ from a gyro, we want to be able to find the Euler angles ($\\Phi =\\begin{bmatrix} \\phi & \\theta & \\psi \\end{bmatrix}^T$). The relationship between the two are:\n",
    "\n",
    "![](euler_rotation.png)\n",
    "\n",
    "This is true when integrating fast and the angle are small values. You end up with the following equations:\n",
    "\n",
    "$$\n",
    "\\begin{bmatrix}\n",
    "p \\\\\n",
    "q \\\\\n",
    "r\n",
    "\\end{bmatrix} = \n",
    "\\begin{bmatrix}\n",
    "\\dot \\phi \\\\\n",
    "0 \\\\\n",
    "0\n",
    "\\end{bmatrix}^b + R(\\phi) \\begin{bmatrix}\n",
    "0 \\\\\n",
    "\\dot \\theta \\\\\n",
    "0\n",
    "\\end{bmatrix}^{b'} + R(\\phi) R(\\theta) \\begin{bmatrix}\n",
    "0 \\\\\n",
    "0 \\\\\n",
    "\\dot \\psi\n",
    "\\end{bmatrix}^{b''} = \\begin{bmatrix}\n",
    "1 & 0      & -s\\theta \\\\\n",
    "0 & c\\phi  & s\\phi c\\theta \\\\\n",
    "0 & -s\\phi & c\\phi c\\phi\n",
    "\\end{bmatrix} \\begin{bmatrix}\n",
    "\\dot \\phi \\\\\n",
    "\\dot \\theta \\\\\n",
    "\\dot \\psi\n",
    "\\end{bmatrix} = L^B_I \\dot \\Phi\n",
    "$$\n",
    "\n",
    "where $R$ is direct cosine matrix (DCM). Now $L^{-1} \\neq L^T$ since this is not a symetric matrix. However, this can be rearranged to get:\n",
    "\n",
    "$$\n",
    "\\dot \\Phi =\n",
    "\\begin{bmatrix}\n",
    "\\dot \\phi \\\\\n",
    "\\dot \\theta \\\\\n",
    "\\dot \\psi\n",
    "\\end{bmatrix} = \n",
    "\\begin{bmatrix}\n",
    "1 & s\\phi t\\theta & c\\phi t\\theta \\\\\n",
    "0 & c\\phi & -s\\phi \\\\\n",
    "0 & s\\phi sec\\theta & c\\phi sec\\theta\n",
    "\\end{bmatrix} \\begin{bmatrix}\n",
    "p \\\\\n",
    "q \\\\\n",
    "r\n",
    "\\end{bmatrix} = L^I_B \\omega_B\n",
    "$$\n",
    "\n",
    "Now you could integrate this equation in order to update the Euler angles given gyro measurements ($\\Phi \\mathrel{{+}{=}} \\omega_B \\Delta t$). However, Euler angles have issues (i.e., gimbal lock) so typically engineers use quaternions instead to track the orientation of a rigid body. However, since quaternions are a 4D representation of 3D space, they are highly non-intuitive. Therefore, the quaternion is typically transformed back into Euler angles for human understanding only."
   ]
  },
  {
   "cell_type": "code",
   "execution_count": 9,
   "metadata": {},
   "outputs": [
    {
     "name": "stdout",
     "output_type": "stream",
     "text": [
      "[0.05987511 0.572693   0.89783636] deg\n"
     ]
    }
   ],
   "source": [
    "from math import sin, cos, tan, acos, pi\n",
    "import numpy as np\n",
    "\n",
    "# Derivative function\n",
    "def xdot(x,u):\n",
    "    x_dot = np.zeros(3)  # [0,0,0]\n",
    "    #   phidot = p + (q*sin(phi) + r*cos(phi))*tan(theta)\n",
    "    x_dot[0] = u[0] + (u[1]*sin(x[0]) + u[2]*cos(x[0]))*tan(x[1])\n",
    "    #   thetadot = q*cos(phi) - r*sin(phi)\n",
    "    x_dot[1] = u[1]*cos(x[0]) - u[2]*sin(x[0])\n",
    "    #   psidot = (q*sin(phi) + r*cos(phi))*sec(theta)\n",
    "    x_dot[2] = (u[1]*sin(x[0]) + u[2]*cos(x[0]))*acos(x[1])\n",
    "    return x_dot\n",
    "\n",
    "# Initial condition setup\n",
    "eulerAngles = np.zeros(3)  # Assume start up with phi = theta = psi = 0 radians\n",
    "deltaT = 0.01              # Sampling time (sec)\n",
    "\n",
    "# loop\n",
    "for i in range(10):\n",
    "    omegaRead = [0.01,0.1,0.1] # gyros.getAngularVelocity()\n",
    "    eulerAngles += xdot(eulerAngles,omegaRead) * deltaT\n",
    "    \n",
    "print(f\"{np.rad2deg(eulerAngles)} deg\")"
   ]
  },
  {
   "cell_type": "markdown",
   "metadata": {},
   "source": [
    "# References\n",
    "\n",
    "- [Explanation of Euler Rotations](https://charlestytler.com/measuring-quadcopter-attitude-sensors/)"
   ]
  },
  {
   "cell_type": "code",
   "execution_count": null,
   "metadata": {},
   "outputs": [],
   "source": []
  }
 ],
 "metadata": {
  "kernelspec": {
   "display_name": "Python 3",
   "language": "python",
   "name": "python3"
  },
  "language_info": {
   "codemirror_mode": {
    "name": "ipython",
    "version": 3
   },
   "file_extension": ".py",
   "mimetype": "text/x-python",
   "name": "python",
   "nbconvert_exporter": "python",
   "pygments_lexer": "ipython3",
   "version": "3.7.6"
  }
 },
 "nbformat": 4,
 "nbformat_minor": 2
}
