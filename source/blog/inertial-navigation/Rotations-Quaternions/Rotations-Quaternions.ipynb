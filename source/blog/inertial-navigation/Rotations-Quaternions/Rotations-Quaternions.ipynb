{
 "cells": [
  {
   "cell_type": "markdown",
   "metadata": {},
   "source": [
    "![](https://images.pexels.com/photos/59822/household-cavalry-soldier-mounted-royal-soldier-59822.jpeg?auto=compress&cs=tinysrgb&dpr=2&h=750&w=1260)\n",
    "\n",
    "# Quaternions\n",
    "\n",
    "Kevin J. Walchko, Phd\n",
    "\n",
    "---\n",
    "\n",
    "Unit quaternions provide a convenient mathematical notation for representing orientations and rotations of objects in three dimensions. Compared to Euler angles they are simpler to compose and avoid the problem of gimbal lock. Compared to rotation matrices they are more compact, more numerically stable, and more efficient.\n",
    "\n",
    "Quaternions are composed of a real component (w) and an imaginary component (x,y,z) which has 3 elements. Thus quaternions use 4 variables to represent 3 rotational elements (think Euler: roll, pitch, and yaw) which means they have a redundant parameter. This redundancy allows them to avoid issues seen in Euler. The only problem with them is you have to be able to visualize 3D rotations in 4D space ... good luck! Thus, for humans to visualize them, we typically transform them back to Euler angles. However, the issues we see in Euler angles (gimbal lock) can reappear when we transform them. Note, the gimbal lock only is an issue in Euler angles, quaternions are fine, it is just the transformation to Euler that can have an issue."
   ]
  },
  {
   "cell_type": "markdown",
   "metadata": {},
   "source": [
    "## References\n",
    "\n",
    "- [Quaternion Integration](https://www.ashwinnarayan.com/post/how-to-integrate-quaternions/)\n",
    "- Wikipedia: [Convert Between Quaternions and Euler Angles](https://en.wikipedia.org/wiki/Conversion_between_quaternions_and_Euler_angles)\n",
    "- Wikipedia: [Euler Angle Definitions](https://en.wikipedia.org/wiki/Euler_angles#Conventions_2)\n",
    "- Wikipedia: [Gimbal Lock](https://en.wikipedia.org/wiki/Gimbal_lock)"
   ]
  },
  {
   "cell_type": "code",
   "execution_count": 1,
   "metadata": {},
   "outputs": [],
   "source": [
    "from squaternion import Quaternion\n",
    "from math import pi\n",
    "from math import sqrt, sin, cos, atan2, asin, acos\n",
    "import numpy as np\n",
    "from numpy.testing import assert_allclose"
   ]
  },
  {
   "cell_type": "markdown",
   "metadata": {},
   "source": [
    "### Rigid Bodies Rotations\n",
    "\n",
    "A rigid body can be rotated angle $\\mu$ about an arbitrary moving/fixed axis ($\\hat e$) in space by:\n",
    "\n",
    "$$\n",
    "q_{x,y,z} = \\hat e \\sin( \\frac{\\mu}{2} ) \\\\\n",
    "q_r = \\cos(\\frac{\\mu}{2} )\n",
    "$$\n",
    "\n",
    "Quaternion multiplication ($\\otimes$) is:\n",
    "\n",
    "$$\n",
    "q \\otimes p =\n",
    "\\begin{bmatrix}\n",
    "    a & -b & -c & -d \\\\\n",
    "    b &  a & -d &  c \\\\\n",
    "    c &  d &  a & -b \\\\\n",
    "    d & -c &  b &  a \\\\\n",
    "\\end{bmatrix} \\cdot p = Q \\cdot p \\\\\n",
    "$$\n",
    "\n",
    "Quaternion differential equation:\n",
    "\n",
    "$$\n",
    "\\dot q = \\frac{1}{2} q \\otimes w \\\\\n",
    "w = \\begin{bmatrix} 0 & \\omega_b \\end{bmatrix}^T \\\\\n",
    "\\dot q = \\frac{1}{2} W q \\\\\n",
    "W =\n",
    "\\begin{bmatrix}\n",
    "    0   & -w_x & -w_y & -w_z \\\\\n",
    "    w_x & 0    & w_z  & -w_y \\\\\n",
    "    w_y & -w_z & 0    & w_x \\\\\n",
    "    w_z & w_y  & -w_x & 0\n",
    "\\end{bmatrix}\n",
    "$$\n",
    "\n",
    "For discrete timeframes:\n",
    "\n",
    "$$\n",
    "q_{k+1} = exp(\\frac{1}{2} w \\Delta T) \\otimes q_k \\\\\n",
    "q_{k+1} = q_k + (\\frac{1}{2} w \\Delta T) \\otimes q_k \n",
    "$$"
   ]
  },
  {
   "cell_type": "markdown",
   "metadata": {},
   "source": [
    "# Simple Quaternions\n",
    "\n",
    "Generally I don't need all of the capabilities (or complexity) of quaternion math libraries. Basically I just need a way to convert between Euler and Quaternion representations and have a nice way to print them out.\n",
    "\n",
    "[squaterion](https://pypi.org/project/squaternion/) is a quaterion library. You can install it with:\n",
    "\n",
    "```\n",
    "pip3 install squaternion\n",
    "```"
   ]
  },
  {
   "cell_type": "code",
   "execution_count": 2,
   "metadata": {},
   "outputs": [
    {
     "name": "stdout",
     "output_type": "stream",
     "text": [
      "Quaternion(w=1.0, x=0.0, y=0.0, z=0.0)\n",
      "1.0 0.0 0.0 0.0\n"
     ]
    }
   ],
   "source": [
    "# create a simple quaterion with no rotation\n",
    "q = Quaternion.from_euler(0,0,0)\n",
    "w,x,y,z = q\n",
    "print(q)\n",
    "print(w, x, y, z)"
   ]
  },
  {
   "cell_type": "code",
   "execution_count": 3,
   "metadata": {},
   "outputs": [
    {
     "name": "stdout",
     "output_type": "stream",
     "text": [
      "Euler: (90, 45, 180) deg\n",
      "----------------------------------------\n",
      "Quaternion(w=0.2705980500730985, x=-0.27059805007309845, y=0.6532814824381882, z=0.6532814824381883)\n",
      "----------------------------------------\n",
      "Euler: (89.99999999999997, 44.99999999999999, 180.0) deg\n"
     ]
    }
   ],
   "source": [
    "# let's make up some euler angles (roll, pitch, yaw)\n",
    "euler = (90,45,180,)\n",
    "print(f\"Euler: {euler} deg\")\n",
    "\n",
    "# let's create a quaternion\n",
    "print('-'*40)\n",
    "q = Quaternion.from_euler(*euler, degrees=True)\n",
    "print(q)\n",
    "\n",
    "# let's double check euler => quaternion => euler worked\n",
    "e = q.to_euler(degrees=True)\n",
    "\n",
    "print('-'*40)\n",
    "print(f\"Euler: {e} deg\")\n",
    "\n",
    "# if you look at the answers they are the same except for some small rounding errors"
   ]
  },
  {
   "cell_type": "markdown",
   "metadata": {},
   "source": [
    "# Test\n",
    "\n",
    "![](https://upload.wikimedia.org/wikipedia/en/thumb/3/30/Plane_with_ENU_embedded_axes.svg/425px-Plane_with_ENU_embedded_axes.svg.png)\n",
    "\n",
    "So let's do a simple test of iterating over a bunch of Euler angles, convert them to a quaternion and then back to Euler and see if we get the same answer.\n",
    "\n",
    "    euler => quaternion => euler\n",
    "\n",
    "Now, Euler angles have a sinularity around the following locations:\n",
    "\n",
    "- Roll:  [-$\\pi$, $\\pi$]\n",
    "- Pitch: [-$\\pi$/2, $\\pi$/2]\n",
    "- Yaw:   [-$\\pi$, $\\pi$]\n",
    "\n",
    "Anything outside of these Euler angle ranges will not work, unless you take special percausions. For my applications, this isn't an issue.\n",
    "\n",
    "So let's run through a range of valid Euler angles and do the transforms and see if we have an issue. Note, because of small rounding errors, we check if the answers are the same within 0.001 degrees. If **no errors print out** and all you see is **Done**, then everything went well."
   ]
  },
  {
   "cell_type": "code",
   "execution_count": 4,
   "metadata": {},
   "outputs": [
    {
     "name": "stdout",
     "output_type": "stream",
     "text": [
      "Done\n"
     ]
    }
   ],
   "source": [
    "# run though and make sure there are no errors\n",
    "# https://en.wikipedia.org/wiki/Euler_angles#Conventions_2\n",
    "# valid ranges:\n",
    "# asin: [-pi/2, pi/2]\n",
    "# cos: [0, pi]\n",
    "# atan2: [-pi,pi]\n",
    "#---------------------\n",
    "# valid euler angles, meaning no gimbal lock issues\n",
    "# roll: [-pi,pi]\n",
    "# pitch: [-pi/2, pi/2]\n",
    "# yaw: [-pi,pi]\n",
    "delta = 10\n",
    "for i in range(-179, 180, delta):\n",
    "    for j in range(-89, 90, delta):\n",
    "        for k in range(-179,180, delta):\n",
    "            q = Quaternion.from_euler(i,j,k, degrees=True)  # euler => quat\n",
    "            e = q.to_euler(degrees=True)     # quat => euler\n",
    "            for a, b in zip((i,j,k,), e):\n",
    "                if abs(a - b) > 0.001:  # are the answers within 0.001 degrees?\n",
    "                    print('-'*40)\n",
    "                    print('Error')\n",
    "                    print(i,j,k, '==', e)\n",
    "                    print(q)\n",
    "print(\"Done\")"
   ]
  },
  {
   "cell_type": "markdown",
   "metadata": {},
   "source": [
    "# Misc"
   ]
  },
  {
   "cell_type": "code",
   "execution_count": 5,
   "metadata": {},
   "outputs": [
    {
     "name": "stdout",
     "output_type": "stream",
     "text": [
      "Quaternion(w=0.8923991008325228, x=0.23911761839433449, y=0.3696438106143861, z=-0.09904576054128762)\n",
      "53.64743527556287\n",
      "(0.5299040755263686, 0.8191607253909541, -0.21949345483979882)\n"
     ]
    }
   ],
   "source": [
    "# https://www.mathworks.com/help/fusion/ref/quaternion.rotmat.html\n",
    "# my stuff follows ZYX frame not point\n",
    "q = Quaternion.from_euler(30,45,0,True)\n",
    "print(q) # 0.8924 +  0.23912i +  0.36964j - 0.099046k\n",
    "\n",
    "print(q.angle*180/pi)\n",
    "print(q.axis)"
   ]
  },
  {
   "cell_type": "code",
   "execution_count": 6,
   "metadata": {},
   "outputs": [
    {
     "name": "stdout",
     "output_type": "stream",
     "text": [
      "[[ 7.07106781e-01 -2.77555756e-17 -7.07106781e-01]\n",
      " [ 3.53553391e-01  8.66025404e-01  3.53553391e-01]\n",
      " [ 6.12372436e-01 -5.00000000e-01  6.12372436e-01]]\n"
     ]
    }
   ],
   "source": [
    "# point\n",
    "#  0.7071   -0.0000    0.7071\n",
    "#  0.3536    0.8660   -0.3536\n",
    "# -0.6124    0.5000    0.6124\n",
    "#\n",
    "# frame [works]\n",
    "# 0.7071   -0.0000   -0.7071\n",
    "# 0.3536    0.8660    0.3536\n",
    "# 0.6124   -0.5000    0.6124\n",
    "a,b,c,d = q\n",
    "# r = np.array([ # point [broke]\n",
    "#     [2*a**2-1+2*b**2, 2*b*c-2*a*d, 2*b*d+2*a*c],\n",
    "#     [2*b*c+2*a*d, 2*a**2-1+2*c**2, 2*c*d-2*a*b],\n",
    "#     [2*b*d-2*a*c, 2*c*d+2*a*b, 2*a**2-1+2*d**2]\n",
    "# ])\n",
    "r = np.array([ # frame [works]\n",
    "    [2*a**2-1+2*b**2, 2*b*c+2*a*d, 2*b*d-2*a*c],\n",
    "    [2*b*c-2*a*d, 2*a**2-1+2*c**2, 2*c*d+2*a*b],\n",
    "    [2*b*d+2*a*c, 2*c*d-2*a*b, 2*a**2-1+2*d**2]\n",
    "])\n",
    "print(r)"
   ]
  },
  {
   "cell_type": "code",
   "execution_count": 7,
   "metadata": {},
   "outputs": [],
   "source": [
    "from rotations.rotations import R1,R2"
   ]
  },
  {
   "cell_type": "code",
   "execution_count": 8,
   "metadata": {},
   "outputs": [
    {
     "name": "stdout",
     "output_type": "stream",
     "text": [
      "[[ 0.70710678  0.35355339 -0.61237244]\n",
      " [ 0.          0.8660254   0.5       ]\n",
      " [ 0.70710678 -0.35355339  0.61237244]]\n"
     ]
    }
   ],
   "source": [
    "rr = R2(45,True).dot(R1(30,True))\n",
    "print(rr)"
   ]
  },
  {
   "cell_type": "code",
   "execution_count": null,
   "metadata": {},
   "outputs": [],
   "source": []
  },
  {
   "cell_type": "code",
   "execution_count": 9,
   "metadata": {},
   "outputs": [],
   "source": [
    "v = np.array([1,2,3])\n",
    "qc=np.array(q.conjugate)\n",
    "qq=np.array(q)\n",
    "vq=np.array([0,*v])"
   ]
  },
  {
   "cell_type": "code",
   "execution_count": 10,
   "metadata": {},
   "outputs": [
    {
     "name": "stdout",
     "output_type": "stream",
     "text": [
      "[[ 0.          0.8923991   1.7847982   2.6771973 ]\n",
      " [-0.         -0.23911762 -0.47823524 -0.71735286]\n",
      " [-0.         -0.36964381 -0.73928762 -1.10893143]\n",
      " [ 0.          0.09904576  0.19809152  0.29713728]]\n",
      "[ 0.60796291 -0.16290317 -0.25182648  0.0674767 ]\n"
     ]
    },
    {
     "data": {
      "text/plain": [
       "array([-0.26794919, -0.41421356,  0.11098819])"
      ]
     },
     "execution_count": 10,
     "metadata": {},
     "output_type": "execute_result"
    }
   ],
   "source": [
    "s=np.outer(qc,vq)\n",
    "print(s)\n",
    "x=s.dot(qq)\n",
    "print(x)\n",
    "x[1:]/x[0]"
   ]
  },
  {
   "cell_type": "code",
   "execution_count": 11,
   "metadata": {},
   "outputs": [
    {
     "name": "stdout",
     "output_type": "stream",
     "text": [
      "[[ 7.07106781e-01 -2.77555756e-17 -7.07106781e-01]\n",
      " [ 3.53553391e-01  8.66025404e-01  3.53553391e-01]\n",
      " [ 6.12372436e-01 -5.00000000e-01  6.12372436e-01]]\n"
     ]
    },
    {
     "data": {
      "text/plain": [
       "array([-1.41421356,  3.14626437,  1.44948974])"
      ]
     },
     "execution_count": 11,
     "metadata": {},
     "output_type": "execute_result"
    }
   ],
   "source": [
    "# matlab seems to the transpose of wikipedia???\n",
    "a,b,c,d = q\n",
    "r = np.array([ # frame [works]\n",
    "    [2*a**2-1+2*b**2, 2*b*c+2*a*d, 2*b*d-2*a*c],\n",
    "    [2*b*c-2*a*d, 2*a**2-1+2*c**2, 2*c*d+2*a*b],\n",
    "    [2*b*d+2*a*c, 2*c*d-2*a*b, 2*a**2-1+2*d**2]\n",
    "])\n",
    "print(r)\n",
    "\n",
    "r.dot(v)"
   ]
  },
  {
   "cell_type": "code",
   "execution_count": 12,
   "metadata": {},
   "outputs": [
    {
     "data": {
      "text/plain": [
       "((0.7071067811865476, 0.35355339059327373, 0.6123724356957946),\n",
       " (-2.7755575615628914e-17, 0.8660254037844387, -0.49999999999999994),\n",
       " (-0.7071067811865476, 0.3535533905932737, 0.6123724356957946))"
      ]
     },
     "execution_count": 12,
     "metadata": {},
     "output_type": "execute_result"
    }
   ],
   "source": [
    "q.to_rot()"
   ]
  },
  {
   "cell_type": "code",
   "execution_count": 15,
   "metadata": {},
   "outputs": [
    {
     "data": {
      "text/plain": [
       "True"
      ]
     },
     "execution_count": 15,
     "metadata": {},
     "output_type": "execute_result"
    }
   ],
   "source": [
    "np.allclose(np.array(q.to_rot()).T, r) # all good rot.T == rot ???"
   ]
  },
  {
   "cell_type": "code",
   "execution_count": 16,
   "metadata": {},
   "outputs": [
    {
     "data": {
      "text/plain": [
       "False"
      ]
     },
     "execution_count": 16,
     "metadata": {},
     "output_type": "execute_result"
    }
   ],
   "source": [
    "np.allclose(np.array(q.to_rot()), r) # fail"
   ]
  },
  {
   "cell_type": "code",
   "execution_count": null,
   "metadata": {},
   "outputs": [],
   "source": []
  }
 ],
 "metadata": {
  "kernelspec": {
   "display_name": "Python 3",
   "language": "python",
   "name": "python3"
  },
  "language_info": {
   "codemirror_mode": {
    "name": "ipython",
    "version": 3
   },
   "file_extension": ".py",
   "mimetype": "text/x-python",
   "name": "python",
   "nbconvert_exporter": "python",
   "pygments_lexer": "ipython3",
   "version": "3.8.3"
  }
 },
 "nbformat": 4,
 "nbformat_minor": 2
}
