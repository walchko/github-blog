{
 "cells": [
  {
   "cell_type": "markdown",
   "metadata": {},
   "source": [
    "# Camera Calibration with OpenCV\n",
    "\n",
    "Some good background for calibration is found in the OpenCV [documentation](http://docs.opencv.org/3.1.0/d4/d94/tutorial_camera_calibration.html)."
   ]
  },
  {
   "cell_type": "code",
   "execution_count": null,
   "metadata": {},
   "outputs": [],
   "source": [
    "%matplotlib inline"
   ]
  },
  {
   "cell_type": "code",
   "execution_count": null,
   "metadata": {},
   "outputs": [],
   "source": [
    "from __future__ import print_function\n",
    "from __future__ import division\n",
    "import numpy as np\n",
    "from matplotlib import pyplot as plt\n",
    "import cv2"
   ]
  },
  {
   "cell_type": "code",
   "execution_count": null,
   "metadata": {},
   "outputs": [],
   "source": [
    "import pylab                                   # this allows you to control figure size \n",
    "pylab.rcParams['figure.figsize'] = (10.0, 8.0)  # width height"
   ]
  },
  {
   "cell_type": "markdown",
   "metadata": {},
   "source": [
    "Let's print what version of `OpenCV` we have and grab some tools from `pygecko` to make things easier."
   ]
  },
  {
   "cell_type": "code",
   "execution_count": null,
   "metadata": {},
   "outputs": [],
   "source": [
    "print('OpenCV version {}'.format(cv2.__version__))\n",
    "from opencvutils.CameraCalibrate import CameraCalibration\n",
    "import glob"
   ]
  },
  {
   "cell_type": "markdown",
   "metadata": {},
   "source": [
    "## Calibrate Camera\n",
    "\n",
    "Now grab a bunch of calibration images from a folder:"
   ]
  },
  {
   "cell_type": "code",
   "execution_count": null,
   "metadata": {},
   "outputs": [],
   "source": [
    "def printImages(imgs, size=(5,4)):\n",
    "    print('Displaying {} images'.format(len(imgs)))\n",
    "    for i, im in enumerate(imgs):\n",
    "        plt.subplot(size[0], size[1], i+1)\n",
    "        if len(im.shape) > 2:\n",
    "            cim = cv2.cvtColor(im, cv2.COLOR_BGR2RGB)\n",
    "            plt.imshow(cim)\n",
    "        else:\n",
    "            plt.imshow(im, cmap=\"gray\")"
   ]
  },
  {
   "cell_type": "code",
   "execution_count": null,
   "metadata": {},
   "outputs": [],
   "source": [
    "# calibration_images = '{0!s}/IMG_*.JPG'.format(('cal_pics'))\n",
    "calibration_images = 'IMG_*.JPG'\n",
    "fnames = glob.glob(calibration_images)"
   ]
  },
  {
   "cell_type": "code",
   "execution_count": null,
   "metadata": {},
   "outputs": [],
   "source": [
    "images = []\n",
    "# for i, fname in enumerate(fnames):\n",
    "#     im = cv2.imread(fname)\n",
    "#     im = cv2.resize(im, (1920, 1080)) # width, height\n",
    "#     images.append(im)"
   ]
  },
  {
   "cell_type": "code",
   "execution_count": null,
   "metadata": {},
   "outputs": [],
   "source": [
    "# plt.imshow(cv2.cvtColor(images[0], cv2.COLOR_BGR2RGB))\n",
    "# print(len(images[0].shape))"
   ]
  },
  {
   "cell_type": "code",
   "execution_count": null,
   "metadata": {},
   "outputs": [],
   "source": [
    "# pylab.rcParams['figure.figsize'] = (8.0, 8.0)\n",
    "# print(images[0].shape)\n",
    "# printImages(images, (5,4))"
   ]
  },
  {
   "cell_type": "markdown",
   "metadata": {},
   "source": [
    "Create a calibration object and set it up to find a 9x6 checkerboard:"
   ]
  },
  {
   "cell_type": "code",
   "execution_count": null,
   "metadata": {},
   "outputs": [],
   "source": [
    "cal = CameraCalibration()\n",
    "cal.marker_checkerboard = True\n",
    "cal_mat = cal.calibrate(fnames, marker_size=(10, 7))"
   ]
  },
  {
   "cell_type": "code",
   "execution_count": null,
   "metadata": {},
   "outputs": [],
   "source": [
    "# # pylab.rcParams['figure.figsize'] = (8.0, 18.0)\n",
    "# cimg = []\n",
    "# cimgs = cal.save_cal_imgs\n",
    "# printImages(cimgs, (10,2))\n",
    "# plt.imshow(cv2.cvtColor(cimgs[0], cv2.COLOR_BGR2RGB));"
   ]
  },
  {
   "cell_type": "markdown",
   "metadata": {},
   "source": [
    "The resulting camera info shows a low level of distortion, so the effect with and without the correction will be small to the human eye. However, for computer vision, it will make a small difference."
   ]
  },
  {
   "cell_type": "code",
   "execution_count": null,
   "metadata": {},
   "outputs": [],
   "source": [
    "cal.printMatrix()\n",
    "# import pprint as pp\n",
    "# pp.pprint(cal.data)"
   ]
  },
  {
   "cell_type": "markdown",
   "metadata": {},
   "source": [
    "## Undistort Image\n",
    "\n",
    "Now let's read back in an image and use the calibration matrix to undistort it."
   ]
  },
  {
   "cell_type": "code",
   "execution_count": null,
   "metadata": {},
   "outputs": [],
   "source": [
    "image = cv2.cvtColor(images[1], cv2.COLOR_BGR2GRAY)\n",
    "dst = cal.undistort(image, 1)\n",
    "\n",
    "plt.subplot(2,1,1)\n",
    "plt.imshow(image, cmap='gray', interpolation = 'bicubic');\n",
    "plt.title('Distorted')\n",
    "\n",
    "plt.subplot(2,1,2)\n",
    "plt.imshow(dst, cmap='gray', interpolation = 'bicubic');\n",
    "plt.title('Undistorted');"
   ]
  },
  {
   "cell_type": "markdown",
   "metadata": {},
   "source": [
    "## Save\n",
    "\n",
    "We can save the calibration matrix for later:"
   ]
  },
  {
   "cell_type": "code",
   "execution_count": null,
   "metadata": {},
   "outputs": [],
   "source": [
    "cal.save_file = 'cal.npy'\n",
    "cal.save()"
   ]
  },
  {
   "cell_type": "code",
   "execution_count": null,
   "metadata": {},
   "outputs": [],
   "source": [
    "image = images[0]\n",
    "h,  w = image.shape[:2]\n",
    "alpha = 1.0\n",
    "newcameramtx, roi=cv2.getOptimalNewCameraMatrix(\n",
    "    cal_mat['camera_matrix'],\n",
    "    cal_mat['dist_coeff'],\n",
    "    (w,h),\n",
    "    alpha)\n",
    "\n",
    "dst = cv2.undistort(\n",
    "    image, \n",
    "    cal_mat['camera_matrix'], \n",
    "    cal_mat['dist_coeff'], \n",
    "    None, \n",
    "    newcameramtx)\n",
    "plt.imshow(dst)"
   ]
  },
  {
   "cell_type": "code",
   "execution_count": null,
   "metadata": {},
   "outputs": [],
   "source": [
    "plt.imshow(image)"
   ]
  },
  {
   "cell_type": "code",
   "execution_count": null,
   "metadata": {},
   "outputs": [],
   "source": [
    "help(cv2.getOptimalNewCameraMatrix)"
   ]
  },
  {
   "cell_type": "code",
   "execution_count": null,
   "metadata": {},
   "outputs": [],
   "source": [
    "help(cv2.calibrateCamera)"
   ]
  },
  {
   "cell_type": "code",
   "execution_count": null,
   "metadata": {},
   "outputs": [],
   "source": [
    "print(image.shape)\n",
    "print(image.shape[::-1])"
   ]
  },
  {
   "cell_type": "code",
   "execution_count": null,
   "metadata": {},
   "outputs": [],
   "source": [
    "(1,2)[::-1]"
   ]
  },
  {
   "cell_type": "code",
   "execution_count": null,
   "metadata": {},
   "outputs": [],
   "source": []
  }
 ],
 "metadata": {
  "kernelspec": {
   "display_name": "Python 2",
   "language": "python",
   "name": "python2"
  },
  "language_info": {
   "codemirror_mode": {
    "name": "ipython",
    "version": 2
   },
   "file_extension": ".py",
   "mimetype": "text/x-python",
   "name": "python",
   "nbconvert_exporter": "python",
   "pygments_lexer": "ipython2",
   "version": "2.7.14"
  }
 },
 "nbformat": 4,
 "nbformat_minor": 2
}
