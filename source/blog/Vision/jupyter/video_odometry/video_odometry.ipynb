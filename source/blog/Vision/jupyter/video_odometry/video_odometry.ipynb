{
 "cells": [
  {
   "cell_type": "markdown",
   "metadata": {},
   "source": [
    "# Video Odometry\n",
    "\n",
    "Kevin J. Walchko\n",
    "\n",
    "Created: 15 Jan 2018\n",
    "\n",
    "---\n",
    "\n",
    "I grabbed the test video with my iPhone which saves it in `.mov` format. To convert it to a more portable `.mp4` that OpenCV can easily read, I used `ffmpeg` to convert it.\n",
    "\n",
    "    ffmpeg -i vo.mov vo.mp4\n",
    "\n",
    "The true movement of the camera was in an arc across the floor with it canted forward ~30 degrees.\n",
    "\n",
    "iPhone 7 rear camera\n",
    "- Resolution: 12MP\n",
    "- Sensor: Sony Exmor RS (1.22 $\\mu$m, 1/3\")\n",
    "- Focal Length: 28mm\n",
    "- Max Aperture: f/1.8\n",
    "\n",
    "## References\n",
    "\n",
    "- [FAST Algorithm for Corner Detection](https://docs.opencv.org/3.4.0/df/d0c/tutorial_py_fast.html)\n",
    "- [iPhone 7 specs](https://www.apple.com/iphone-7/specs/)\n",
    "- [more camera specs](https://www.gsmarena.com/apple_iphone_7-8064.php)\n",
    "- [Avi Singh, KS Venkatesh, *Monocular Visual Odometry*](monocular_vo.pdf)\n",
    "- [J. Campbell, R. Sukthankar, I. Nourbakhsh, A. Pahwa, *A Robust Visual Odometry and Precipice Detection System Using Consumer-grade Monocular Vision*, Robotics and Automation, 2005. ICRA 2005. Proceedings of the 2005 IEEE International Conference, p. 3421 - 3427, 18-22 April 2005.](robust_vo.pdf)"
   ]
  },
  {
   "cell_type": "markdown",
   "metadata": {},
   "source": [
    "![](vo_example.png)\n",
    "\n",
    "Visual odometry is using a camera to figure out how far a robot has gone. It is very accurate when doing stereo vision because the system can determine how far points have travelled between frames. Monocular vision can be just as useful, except there is a scaling issue that needs to be determined (from another sensor) in order to determine the distance travelled. \n",
    "\n",
    "Why would you use video odometry (vo) instead of wheel encoders? Well, Mars rovers use it as they cross the shifting sands of Mars. Basically, anywhere you expect to wheel slip. Some good places are: sand dunes, uneven terain (jungles, disaster areas, etc), or ice/snow. Also, walking robots are good candidates for this.\n",
    "\n",
    "### Process Overview\n",
    "\n",
    "The basic idea of video odometry is:\n",
    "\n",
    "- Grab image $I^t$\n",
    "- Rectify image\n",
    "- Use a feature detector like FAST to find features in $I^t$ and track those features in image $I^{t+1}$\n",
    "    - Obviously, features will drop off the image as we move, so when the number of features becomes too small, we find new features to track.\n",
    "    - In the code, a loss of one frame when the number of features becomes too small is assumed to not be critical to recovering the entire path\n",
    "- Use RANSAC to calculate the essential matrix (E)\n",
    "- Estimate R and t from E\n",
    "- Concatinate the translations and rotation\n",
    "\n",
    "### Equations\n",
    "\n",
    "$$\n",
    "s \\circ (u, v, 1)^T = C \\circ E \\circ (x, y, z, 1)^T\n",
    "$$\n",
    "\n",
    "**(u, v):** Features detected in the image.\n",
    "\n",
    "**(x,y,z):** Real world 3D position.\n",
    "\n",
    "**Scale Factor (s):** Since we are trying to recover 3D information from a 2D image, we use a scale factor to help recover real world movement.\n",
    "\n",
    "**Essential Matrix (E):** Contains the rotation and translation (R|t) of a second camera relative to the first camera in stereo vision.\n",
    "\n",
    "**Fundamental Matrix (F):** Same as E, but with intrinsics. If the images are already rectified, then F = E.\n",
    "\n",
    "**Camera Matrix (C):** The camera matrix contains both the focal lengths (x,y) and the center point (x,y) of the image for the camera. You can use the the camera matrix to move between 2D (in the image) and 3D (in the real world) points.\n",
    "\n",
    "\n",
    "In the image above, the camera is angled such that it sees both sky and ground. The system is setup to only track objects on the ground. Instead of that setup, here the camera is canted so all it sees is ground. It will allow more image space to find and track features. However, more image space means more computational time ... it is a double edged sword. In order to recover the movement, we need to understand how pixels in the image are moving in\n",
    "the real world.\n",
    "\n",
    "<img src=\"vo_ref.png\" width=\"50%\">\n",
    "\n",
    "$$\n",
    "\\tan(\\alpha)= \\frac{H}{D} \\\\\n",
    "\\tan(\\beta)=(2 v - V) \\tan( \\frac{VFOV}{2}) \\\\\n",
    "y = \\frac{H}{\\tan(\\alpha + \\beta)} \\\\\n",
    "z = \\frac{H \\cos(\\beta)}{\\sin(\\alpha + \\beta)}\n",
    "$$\n",
    "\n",
    "where VFOV is the vertical field of view, v is the vertical location of the feature on the image plane, V is the vertical dimension of the image in pixels (e.g. 1920 rows)."
   ]
  },
  {
   "cell_type": "code",
   "execution_count": 9,
   "metadata": {},
   "outputs": [],
   "source": [
    "%matplotlib inline "
   ]
  },
  {
   "cell_type": "code",
   "execution_count": 10,
   "metadata": {},
   "outputs": [],
   "source": [
    "from __future__ import print_function, division\n",
    "import numpy as np\n",
    "import cv2\n",
    "import time\n",
    "from matplotlib import pyplot as plt\n",
    "from math import atan2, pi, sin, tan, atan, cos, asin"
   ]
  },
  {
   "cell_type": "code",
   "execution_count": 79,
   "metadata": {},
   "outputs": [],
   "source": [
    "def plotAngles(angles):\n",
    "    \"\"\"\n",
    "    Plot the angular change\n",
    "    \"\"\"\n",
    "    saver = []\n",
    "    savep = []\n",
    "    saveh = []\n",
    "\n",
    "    for r,p,h in angles:\n",
    "        saver.append(r)\n",
    "        savep.append(p)\n",
    "        saveh.append(h)\n",
    "\n",
    "    plt.subplot(3,1,1)\n",
    "    plt.ylabel('roll')\n",
    "    plt.grid(True)\n",
    "    plt.plot(saver)\n",
    "    plt.subplot(3,1,2)\n",
    "    plt.ylabel('pitch')\n",
    "    plt.grid(True)\n",
    "    plt.plot(savep)\n",
    "    plt.subplot(3,1,3)\n",
    "    plt.ylabel('yaw')\n",
    "    plt.grid(True)\n",
    "    plt.plot(saveh)"
   ]
  },
  {
   "cell_type": "code",
   "execution_count": 80,
   "metadata": {},
   "outputs": [],
   "source": [
    "def plotGroundPath(pts):\n",
    "    \"\"\"\n",
    "    Plot the ground path (x,y) location of the movement\n",
    "    \"\"\"\n",
    "    savex = []\n",
    "    savey = []\n",
    "    savez = []\n",
    "\n",
    "    for x,y,z in pts:\n",
    "        savex.append(x)\n",
    "        savey.append(y)\n",
    "        savez.append(z)\n",
    "    \n",
    "    plt.subplot(1,2,1)\n",
    "    plt.plot(savey, savex)\n",
    "    plt.grid(True)\n",
    "    plt.title('x,y');\n",
    "\n",
    "    plt.subplot(1,2,2)\n",
    "    plt.plot(savey, label='y')\n",
    "    plt.plot(savex, label='x')\n",
    "    plt.grid(True)\n",
    "    plt.legend()\n",
    "    plt.xlabel('samples')"
   ]
  },
  {
   "cell_type": "code",
   "execution_count": 12,
   "metadata": {},
   "outputs": [
    {
     "data": {
      "text/html": [
       "<iframe src=\"vo.mp4\" width=\"640\" height=\"360\" frameborder=\"0\" webkitallowfullscreen mozallowfullscreen allowfullscreen></iframe>"
      ],
      "text/plain": [
       "<IPython.core.display.HTML object>"
      ]
     },
     "execution_count": 12,
     "metadata": {},
     "output_type": "execute_result"
    }
   ],
   "source": [
    "# Show the raw video\n",
    "# Note the sloppy movement and total lack of consistent camera orientation :)\n",
    "from IPython.display import HTML # need this for embedding a movie in an iframe\n",
    "HTML('<iframe src=\"vo.mp4\" width=\"640\" height=\"360\" frameborder=\"0\" webkitallowfullscreen mozallowfullscreen allowfullscreen></iframe>')"
   ]
  },
  {
   "cell_type": "code",
   "execution_count": 13,
   "metadata": {},
   "outputs": [
    {
     "name": "stdout",
     "output_type": "stream",
     "text": [
      "True\n",
      "All done, read 254 images\n",
      "Read in 254 frames, each 1920x1080 pixles\n"
     ]
    }
   ],
   "source": [
    "# read in the video and store it for processing\n",
    "video = cv2.VideoCapture(\"vo.mp4\")\n",
    "print(video.isOpened())\n",
    "buffer = []\n",
    "try:\n",
    "    while True:\n",
    "        ok, frame = video.read()\n",
    "        if ok:\n",
    "            frame = cv2.cvtColor(frame, cv2.COLOR_BGR2GRAY)\n",
    "            buffer.append(frame.copy())\n",
    "        else:\n",
    "            print('All done, read {} images'.format(len(buffer)))\n",
    "            \n",
    "            print('Read in {} frames, each {}x{} pixles'.format(\n",
    "                len(buffer),\n",
    "                buffer[0].shape[0],\n",
    "                buffer[0].shape[1]))\n",
    "            break\n",
    "except Exception as e:\n",
    "    print('Oops ... something happened')\n",
    "    print(e)\n",
    "video.release()"
   ]
  },
  {
   "cell_type": "code",
   "execution_count": 81,
   "metadata": {},
   "outputs": [],
   "source": [
    "# functions for drawing things on images\n",
    "# def drawKeyPointTracks(frame, mask, p1, p0):\n",
    "# #     print('p0:', p0.shape)\n",
    "# #     print('p1:', p1.shape)\n",
    "        \n",
    "#     f = cv2.cvtColor(frame, cv2.COLOR_GRAY2RGB)\n",
    "    \n",
    "#     if not mask:\n",
    "#         mask = np.zeros_like(f)\n",
    "        \n",
    "#     for i,(new,old) in enumerate(zip(p1,p0)):\n",
    "# #         print(new, old)\n",
    "#         a,b = new.ravel()\n",
    "#         c,d = old.ravel()\n",
    "#         mask = cv2.line(mask, (a,b),(c,d), color[i%100].tolist(), 2)\n",
    "#         f = cv2.circle(f,(a,b),5,color[i%100].tolist(),-1)\n",
    "        \n",
    "# #     print('frame', frame.shape, frame.dtype)\n",
    "# #     print('maks', mask.shape, mask.dtype)\n",
    "#     img = cv2.add(f,mask)\n",
    "#     return img\n",
    "\n",
    "def drawKeyPoints(im,keypoints):\n",
    "    # im2 = cv2.drawKeypoints(im,keypoints,im,color=(255,0,0))\n",
    "    # cv2.imshow('keypoints',im2)\n",
    "    im2 = cv2.cvtColor(im, cv2.COLOR_GRAY2RGB)\n",
    "    for i in keypoints:\n",
    "        cv2.circle(im2,(int(i[0][0]),int(i[0][1])),3,(0,255,0),-1)\n",
    "    \n",
    "    cv2.putText(im2,str(len(keypoints)),(50,250),\n",
    "                cv2.FONT_HERSHEY_SIMPLEX,4,(255,0,0),2,cv2.LINE_AA)\n",
    "    return im2"
   ]
  },
  {
   "cell_type": "code",
   "execution_count": 82,
   "metadata": {},
   "outputs": [],
   "source": [
    "def map2D(v,u,zz):\n",
    "    \"\"\"\n",
    "    Because the camera is canted downward, which gives \n",
    "    us more features to track, we have to adjust (mathematically)\n",
    "    the movement of the pixels.\n",
    "    \n",
    "    See the discussion and diagram at the start of this\n",
    "    \"\"\"\n",
    "    H = .11\n",
    "    D = .2\n",
    "    V = 1920 # vertical pixels\n",
    "    VFOV = 75*pi/180\n",
    "    aa = atan2(H,D)\n",
    "    B = atan((2*v-V)*tan(VFOV/2))\n",
    "    y = H/tan(aa+B)\n",
    "    z = H*cos(B)/sin(aa+B)\n",
    "    return (y,u,z)"
   ]
  },
  {
   "cell_type": "code",
   "execution_count": 83,
   "metadata": {},
   "outputs": [],
   "source": [
    "def DCM2Eul(R):\n",
    "    \"\"\"\n",
    "    Given a rotation matrix, return the roll, pitch and yaw angles in degrees\n",
    "    \"\"\"\n",
    "    return (180/pi*atan2(R[1,2],R[2,2]), 180/pi*asin(-R[0,2]), 180/pi*atan2(R[0,2],R[0,0]))"
   ]
  },
  {
   "cell_type": "code",
   "execution_count": 94,
   "metadata": {},
   "outputs": [],
   "source": [
    "# This is just a collection of different feature detectors\n",
    "def FAST(im):\n",
    "    fast = cv2.FastFeatureDetector_create()\n",
    "    fast.setNonmaxSuppression(True)\n",
    "    fast.setThreshold(5)  # 20\n",
    "    # find and draw the keypoints\n",
    "    keypoints = fast.detect(im)\n",
    "    keypoints=np.array([[k.pt] for k in keypoints],dtype='f4')\n",
    "    return keypoints\n",
    "\n",
    "def ORB(im):\n",
    "    # this seems to loose points quickly\n",
    "    orb = cv2.ORB_create()\n",
    "    keypoints = orb.detect(im,None)\n",
    "    keypoints=np.array([[k.pt] for k in keypoints],dtype='f4')\n",
    "    return keypoints\n",
    "\n",
    "def ShiTomasi(im):\n",
    "    # params for ShiTomasi corner detection\n",
    "    feature_params = dict( maxCorners = 500,\n",
    "        qualityLevel = 0.3,\n",
    "        minDistance = 7,\n",
    "        blockSize = 7 )\n",
    "    keypoints = cv2.goodFeaturesToTrack(im, mask = None, **feature_params)\n",
    "    return keypoints\n",
    "\n",
    "def featureDetection(im, method=0):\n",
    "    \"\"\"\n",
    "    This initializes the feature to track OR finds new features when the \n",
    "    current group of tracked features falls off the image plane (or said\n",
    "    anther way, are no longer in the image).\n",
    "    \"\"\"\n",
    "    keypoints = None\n",
    "    if method == 0:\n",
    "        keypoints = FAST(im)\n",
    "    elif method == 1:\n",
    "        keypoints = ORB(im)\n",
    "    elif method == 2:\n",
    "        keypoints = ShiTomasi(im)\n",
    "    else:\n",
    "        print('ERROR: no method selected for feature detection')\n",
    "\n",
    "    return keypoints\n",
    "\n",
    "\n",
    "def featureTrack(new_gray,old_gray,p0):\n",
    "    \"\"\"\n",
    "    Given some initial feature (p0) find the new location of those \n",
    "    features in the new image. All images are grayscale.\n",
    "    \"\"\"\n",
    "    # Parameters for lucas kanade optical flow\n",
    "    lk_params = dict(\n",
    "        winSize  = (10,10),\n",
    "        maxLevel = 3,\n",
    "        criteria = (cv2.TERM_CRITERIA_EPS | cv2.TERM_CRITERIA_COUNT, 10, 0.03)\n",
    "    )\n",
    "\n",
    "    p1, st, err = cv2.calcOpticalFlowPyrLK(old_gray, new_gray, p0, None, **lk_params)\n",
    "\n",
    "    # good points have st==1, so weed out the bad\n",
    "    new = p0[st==1]\n",
    "    old = p1[st==1]\n",
    "    \n",
    "    p1 = np.array([[k] for k in new],dtype=np.float32)\n",
    "    p0 = np.array([[k] for k in old],dtype=np.float32)\n",
    "\n",
    "    return p0, p1"
   ]
  },
  {
   "cell_type": "code",
   "execution_count": 98,
   "metadata": {},
   "outputs": [
    {
     "name": "stdout",
     "output_type": "stream",
     "text": [
      "----------------------------\n",
      " Focal Length[pixels]: 200.0\n",
      " Principle Point: (540, 960)\n",
      "----------------------------\n",
      ">> [108] Not enough pts, p0 3220 p1 195\n",
      ">> [152] Not enough pts, p0 3603 p1 197\n",
      "Done\n"
     ]
    }
   ],
   "source": [
    "pp = (buffer[0].shape[1]//2, buffer[0].shape[0]//2)\n",
    "focal = 200.0\n",
    "print('----------------------------')\n",
    "print(' Focal Length[pixels]:', focal)\n",
    "print(' Principle Point:', pp)\n",
    "print('----------------------------')\n",
    "\n",
    "R_f = np.eye(3,3,dtype=np.float)\n",
    "t_f = np.array([0,0,0],dtype=np.float)\n",
    "R = R_f.copy()\n",
    "t = np.array([0,0,0],dtype=np.float)\n",
    "t_prev = t.copy()\n",
    "dist = 0.0\n",
    "\n",
    "min_pts = 200\n",
    "\n",
    "old_im = buffer[0]\n",
    "p0 = featureDetection(old_im)\n",
    "# print(p0)\n",
    "# print(\">> Inital features found:\", p0.shape[0])\n",
    "\n",
    "draw_mask = None\n",
    "color = np.random.randint(0,255,(100,3))\n",
    "\n",
    "save_pts = []\n",
    "save_angles = []\n",
    "save_im = []\n",
    "for count, im in enumerate(buffer[1:]):\n",
    "        # p0 - old pts\n",
    "        # p1 - new pts\n",
    "        p0, p1 = featureTrack(im,old_im,p0)\n",
    "        \n",
    "        save_im.append(drawKeyPoints(im, p0))\n",
    "#         save_im.append(drawKeyPointTracks(im, draw_mask, p1, p0))\n",
    "\n",
    "        # not enough new points p1\n",
    "        if p1.shape[0] < min_pts:\n",
    "            p0 = featureDetection(im)\n",
    "            old_im = im.copy()\n",
    "            print('>> [{}] Not enough pts, p0 {} p1 {}'.format(\n",
    "                count,\n",
    "                p0.shape[0],\n",
    "                p1.shape[0]\n",
    "                )\n",
    "            )\n",
    "            continue\n",
    "\n",
    "        # print('>> [{}] pts, p0 {} p1 {}'.format(count,p0.shape[0],p1.shape[0]))\n",
    "\n",
    "        # since these are rectified images, fundatmental (F) = essential (E)\n",
    "        # E, mask = cv2.findEssentialMat(p0,p1,focal,pp,cv2.FM_RANSAC)\n",
    "        # retval, R, t, mask = cv2.recoverPose(E,p0,p1,R_f,t_f,focal,pp,mask)\n",
    "\n",
    "        # since these are rectified images, fundatmental (F) = essential (E)\n",
    "        E, mask = cv2.findEssentialMat(p0,p1,focal,pp,cv2.FM_RANSAC, 0.999, 1.0)\n",
    "        retval, R, t, mask = cv2.recoverPose(E,p0,p1,R,t,focal,pp,mask)\n",
    "\n",
    "        # Now update the previous frame and previous points\n",
    "        old_im = im.copy()\n",
    "        p0 = p1\n",
    "\n",
    "        # honestly I have not done the calibration to figure out what this\n",
    "        # should be. As long as the gross motion is what I expect, I am happy\n",
    "        scale = 1.0\n",
    "\n",
    "        tt = map2D(*t)\n",
    "        t_f = t_f + scale*R_f.dot(tt)\n",
    "        R_f = R.dot(R_f)\n",
    "        \n",
    "        save_pts.append(t_f)\n",
    "        save_angles.append(DCM2Eul(R_f))\n",
    "\n",
    "print('Done')"
   ]
  },
  {
   "cell_type": "code",
   "execution_count": 99,
   "metadata": {},
   "outputs": [
    {
     "data": {
      "image/png": "[encoded data removed]",
      "text/plain": [
       "<matplotlib.figure.Figure at 0x11a2b3990>"
      ]
     },
     "metadata": {},
     "output_type": "display_data"
    }
   ],
   "source": [
    "plotAngles(save_angles)"
   ]
  },
  {
   "cell_type": "code",
   "execution_count": 100,
   "metadata": {},
   "outputs": [
    {
     "data": {
      "image/png": "[encoded data removed]",
      "text/plain": [
       "<matplotlib.figure.Figure at 0x119d63c10>"
      ]
     },
     "metadata": {},
     "output_type": "display_data"
    }
   ],
   "source": [
    "plotGroundPath(save_pts)"
   ]
  },
  {
   "cell_type": "code",
   "execution_count": 101,
   "metadata": {},
   "outputs": [],
   "source": [
    "import platform\n",
    "def videoWrite(frames, fname='out.mp4'):\n",
    "    frame_height, frame_width, _ = frames[0].shape\n",
    "\n",
    "    # pick a good encoder for the current OS\n",
    "    sys = platform.system()\n",
    "    if sys in ['Darwin']:  # this is on macOS\n",
    "        fourcc = 'avc1'\n",
    "    else:  # this is for Windoze\n",
    "        fourcc = 'mjpg'\n",
    "\n",
    "    out = cv2.VideoWriter(\n",
    "        fname,\n",
    "        cv2.VideoWriter_fourcc(*fourcc), \n",
    "        30, \n",
    "        (frame_width,frame_height))\n",
    "    for frame in frames:\n",
    "        out.write(frame)\n",
    "    out.release()"
   ]
  },
  {
   "cell_type": "code",
   "execution_count": 102,
   "metadata": {},
   "outputs": [],
   "source": [
    "# videoWrite(save_im, fname='interesting.mp4')"
   ]
  },
  {
   "cell_type": "code",
   "execution_count": 104,
   "metadata": {},
   "outputs": [],
   "source": [
    "# HTML('<iframe src=\"interesting.mp4\" width=\"640\" height=\"360\" frameborder=\"0\" webkitallowfullscreen mozallowfullscreen allowfullscreen></iframe>')"
   ]
  },
  {
   "cell_type": "code",
   "execution_count": null,
   "metadata": {},
   "outputs": [],
   "source": []
  }
 ],
 "metadata": {
  "kernelspec": {
   "display_name": "Python 2",
   "language": "python",
   "name": "python2"
  },
  "language_info": {
   "codemirror_mode": {
    "name": "ipython",
    "version": 2
   },
   "file_extension": ".py",
   "mimetype": "text/x-python",
   "name": "python",
   "nbconvert_exporter": "python",
   "pygments_lexer": "ipython2",
   "version": "2.7.14"
  }
 },
 "nbformat": 4,
 "nbformat_minor": 2
}
