{
 "cells": [
  {
   "cell_type": "markdown",
   "metadata": {},
   "source": [
    "![](https://images.pexels.com/photos/2092718/pexels-photo-2092718.jpeg?auto=compress&cs=tinysrgb&h=750&w=1260)\n",
    "\n",
    "# Classes with `attr.slots` and `attr.frozen`\n",
    "\n",
    "Kevin J. Walchko\n",
    "\n",
    "25 Apr 2020\n",
    "\n",
    "---\n",
    "\n",
    "After writing a lot of python and classes, `attr` module is *attractive* because\n",
    "it promises the ability to write less and provide some simple things that make\n",
    "`collections.namedtuple` *attractive*.\n",
    "\n",
    "- `slots`: increase memory efficiency of the class\n",
    "- `frozen`: produce an immutable data class like a `namedtuple`\n",
    "\n",
    "This is just me playing around with 2 attractive aspects of `attr`."
   ]
  },
  {
   "cell_type": "markdown",
   "metadata": {},
   "source": [
    "I am going to use `timeit` and save off a few simple runs. The data structure gives me:\n",
    "\n",
    "```python\n",
    "dir(timeit) =>\n",
    "[...\n",
    " 'all_runs',\n",
    " 'average',\n",
    " 'best',\n",
    " 'compile_time',\n",
    " 'loops',\n",
    " 'repeat',\n",
    " 'stdev',\n",
    " 'timings',\n",
    " 'worst']\n",
    "```"
   ]
  },
  {
   "cell_type": "code",
   "execution_count": 61,
   "metadata": {
    "scrolled": true
   },
   "outputs": [],
   "source": [
    "def go(p=False):\n",
    "    m = (1,2,3,4,5,6)\n",
    "    a = Vec(1,2,3)\n",
    "    for i in a:\n",
    "        x = i + 5\n",
    "    assert a + (1,2,3) == Vec(2,4,6)\n",
    "    assert a + m[3:] == Vec(5,7,9)\n",
    "    assert a.km == (0.001,0.002,0.003)"
   ]
  },
  {
   "cell_type": "code",
   "execution_count": 104,
   "metadata": {},
   "outputs": [],
   "source": [
    "# resets everything\n",
    "results = {}\n",
    "states = [(False, False), (True, False), (False, True), (True, True)]\n",
    "cnt = 0"
   ]
  },
  {
   "cell_type": "code",
   "execution_count": 90,
   "metadata": {},
   "outputs": [],
   "source": [
    "import attr\n",
    "from pprint import pprint\n",
    "import pandas as pd"
   ]
  },
  {
   "cell_type": "code",
   "execution_count": 119,
   "metadata": {},
   "outputs": [
    {
     "name": "stdout",
     "output_type": "stream",
     "text": [
      "7.12 µs ± 184 ns per loop (mean ± std. dev. of 7 runs, 100000 loops each)\n",
      "slots: True   frozen: True\n"
     ]
    }
   ],
   "source": [
    "s, f = states[cnt]\n",
    "cnt = (cnt + 1)%4\n",
    "\n",
    "@attr.s(slots=s, frozen=f)\n",
    "class Vec:\n",
    "    x=attr.ib()\n",
    "    y=attr.ib()\n",
    "    z=attr.ib()\n",
    "    def __add__(self, b):\n",
    "        if isinstance(b, tuple) and len(b) >= 3:\n",
    "            x = self.x + b[0]\n",
    "            y = self.y + b[1]\n",
    "            z = self.z + b[2]\n",
    "        else:\n",
    "            x = self.x + b.x\n",
    "            y = self.y + b.y\n",
    "            z = self.z + b.z\n",
    "        return Vec(x,y,z)\n",
    "    def __iter__(self):\n",
    "        for i in (self.x, self.y, self.z):\n",
    "            yield i\n",
    "    @property\n",
    "    def km(self):\n",
    "        return (self.x/1000, self.y/1000, self.z/1000)\n",
    "    \n",
    "a = %timeit -o go()\n",
    "print(f\"slots: {s}   frozen: {f}\")\n",
    "results[(s,f)] = (a, Vec(1000,-2.36,33e-19).__sizeof__())\n",
    "go(True)"
   ]
  },
  {
   "cell_type": "code",
   "execution_count": 120,
   "metadata": {},
   "outputs": [
    {
     "name": "stdout",
     "output_type": "stream",
     "text": [
      "{(False, False): (<IPython.core.magics.execution.TimeitResult object at 0x7f9ac1dbb690>,\n",
      "                  32),\n",
      " (False, True): (<IPython.core.magics.execution.TimeitResult object at 0x7f9aedf84210>,\n",
      "                 32),\n",
      " (True, False): (<IPython.core.magics.execution.TimeitResult object at 0x7f9ac1e2d290>,\n",
      "                 48),\n",
      " (True, True): (<IPython.core.magics.execution.TimeitResult object at 0x7f9ac1dbbcd0>,\n",
      "                48)}\n"
     ]
    }
   ],
   "source": [
    "pprint(results)"
   ]
  },
  {
   "cell_type": "code",
   "execution_count": 121,
   "metadata": {},
   "outputs": [],
   "source": [
    "# build a list of performance\n",
    "# ave = usec\n",
    "# stdev = nsec\n",
    "m = [[s,f,a.average*1e6, a.stdev*1e6, sz] for (s,f),(a,sz) in results.items()]"
   ]
  },
  {
   "cell_type": "code",
   "execution_count": 122,
   "metadata": {},
   "outputs": [
    {
     "data": {
      "text/plain": [
       "[[False, False, 5.553422401260053, 0.3225070696245372, 32],\n",
       " [False, True, 5.630893077302193, 0.20103028908316836, 32],\n",
       " [True, True, 7.118934657025551, 0.1838108938731178, 48],\n",
       " [True, False, 5.321727893980486, 0.23522055508820028, 48]]"
      ]
     },
     "execution_count": 122,
     "metadata": {},
     "output_type": "execute_result"
    }
   ],
   "source": [
    "m"
   ]
  },
  {
   "cell_type": "code",
   "execution_count": 123,
   "metadata": {},
   "outputs": [
    {
     "data": {
      "text/html": [
       "<div>\n",
       "<style scoped>\n",
       "    .dataframe tbody tr th:only-of-type {\n",
       "        vertical-align: middle;\n",
       "    }\n",
       "\n",
       "    .dataframe tbody tr th {\n",
       "        vertical-align: top;\n",
       "    }\n",
       "\n",
       "    .dataframe thead th {\n",
       "        text-align: right;\n",
       "    }\n",
       "</style>\n",
       "<table border=\"1\" class=\"dataframe\">\n",
       "  <thead>\n",
       "    <tr style=\"text-align: right;\">\n",
       "      <th></th>\n",
       "      <th>slots</th>\n",
       "      <th>frozen</th>\n",
       "      <th>ave</th>\n",
       "      <th>stdev</th>\n",
       "      <th>size</th>\n",
       "    </tr>\n",
       "  </thead>\n",
       "  <tbody>\n",
       "    <tr>\n",
       "      <th>0</th>\n",
       "      <td>False</td>\n",
       "      <td>False</td>\n",
       "      <td>5.553422</td>\n",
       "      <td>0.322507</td>\n",
       "      <td>32</td>\n",
       "    </tr>\n",
       "    <tr>\n",
       "      <th>1</th>\n",
       "      <td>False</td>\n",
       "      <td>True</td>\n",
       "      <td>5.630893</td>\n",
       "      <td>0.201030</td>\n",
       "      <td>32</td>\n",
       "    </tr>\n",
       "    <tr>\n",
       "      <th>2</th>\n",
       "      <td>True</td>\n",
       "      <td>True</td>\n",
       "      <td>7.118935</td>\n",
       "      <td>0.183811</td>\n",
       "      <td>48</td>\n",
       "    </tr>\n",
       "    <tr>\n",
       "      <th>3</th>\n",
       "      <td>True</td>\n",
       "      <td>False</td>\n",
       "      <td>5.321728</td>\n",
       "      <td>0.235221</td>\n",
       "      <td>48</td>\n",
       "    </tr>\n",
       "  </tbody>\n",
       "</table>\n",
       "</div>"
      ],
      "text/plain": [
       "   slots  frozen       ave     stdev  size\n",
       "0  False   False  5.553422  0.322507    32\n",
       "1  False    True  5.630893  0.201030    32\n",
       "2   True    True  7.118935  0.183811    48\n",
       "3   True   False  5.321728  0.235221    48"
      ]
     },
     "execution_count": 123,
     "metadata": {},
     "output_type": "execute_result"
    }
   ],
   "source": [
    "df = pd.DataFrame(m, columns=['slots','frozen','ave','stdev','size'])\n",
    "df.head()"
   ]
  },
  {
   "cell_type": "code",
   "execution_count": null,
   "metadata": {},
   "outputs": [],
   "source": []
  },
  {
   "cell_type": "markdown",
   "metadata": {},
   "source": [
    "Looking at the table, we can say:\n",
    "\n",
    "- `slots` are smaller and `frozen` is bigger\n",
    "- `frozen` `slots` are  big and slow\n",
    "- `slots` by them selves are the fastest\n",
    "- Doing nothing, is really close to the fastest/smallest\n",
    "\n",
    "Baically, `slots` only seem to bring limited performance improvement and `frozen` gives you decent performance at a larger memory foot print. However, **never ever** use `frozen` `slots` ... they suck! "
   ]
  },
  {
   "cell_type": "code",
   "execution_count": null,
   "metadata": {},
   "outputs": [],
   "source": []
  }
 ],
 "metadata": {
  "kernelspec": {
   "display_name": "Python 3",
   "language": "python",
   "name": "python3"
  },
  "language_info": {
   "codemirror_mode": {
    "name": "ipython",
    "version": 3
   },
   "file_extension": ".py",
   "mimetype": "text/x-python",
   "name": "python",
   "nbconvert_exporter": "python",
   "pygments_lexer": "ipython3",
   "version": "3.7.7"
  }
 },
 "nbformat": 4,
 "nbformat_minor": 4
}
