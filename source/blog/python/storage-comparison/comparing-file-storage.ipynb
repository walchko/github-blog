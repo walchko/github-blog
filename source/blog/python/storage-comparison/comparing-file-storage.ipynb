{
 "cells": [
  {
   "cell_type": "markdown",
   "metadata": {},
   "source": [
    "![](https://images.pexels.com/photos/373290/pexels-photo-373290.jpeg?auto=compress&cs=tinysrgb&h=750&w=1260)\n",
    "\n",
    "# Comparing File Storeage\n",
    "\n",
    "Kevin J. Walchko, Phd\n",
    "\n",
    "9 Aug 2017\n",
    "\n",
    "---\n",
    "\n",
    "Ok, this is far from complete, but I was interested in looking at simple protocols like"
   ]
  },
  {
   "cell_type": "code",
   "execution_count": 36,
   "metadata": {},
   "outputs": [],
   "source": [
    "import pickle\n",
    "import gzip\n",
    "import os\n",
    "import simplejson as json\n",
    "import msgpack"
   ]
  },
  {
   "cell_type": "code",
   "execution_count": 29,
   "metadata": {},
   "outputs": [],
   "source": [
    "# create a bunch of data\n",
    "a = {}\n",
    "a['a'] = list(range(10000))\n",
    "a['b'] = list(range(20000))\n",
    "a['c'] = list(range(30000))\n",
    "# a['d'] = bytearray(2000000) # json won't handle binary data"
   ]
  },
  {
   "cell_type": "code",
   "execution_count": 43,
   "metadata": {},
   "outputs": [
    {
     "name": "stdout",
     "output_type": "stream",
     "text": [
      "2.8 ms ± 306 µs per loop (mean ± std. dev. of 7 runs, 10 loops each)\n"
     ]
    }
   ],
   "source": [
    "%%timeit\n",
    "with open(\"data.pickle\", 'wb') as f:\n",
    "    f.write(pickle.dumps(a, pickle.HIGHEST_PROTOCOL))"
   ]
  },
  {
   "cell_type": "code",
   "execution_count": 42,
   "metadata": {},
   "outputs": [
    {
     "name": "stdout",
     "output_type": "stream",
     "text": [
      "7.44 ms ± 356 µs per loop (mean ± std. dev. of 7 runs, 10 loops each)\n"
     ]
    }
   ],
   "source": [
    "%%timeit\n",
    "with gzip.open(\"data.pickle.gz\", 'wb') as f:\n",
    "    f.write(pickle.dumps(a, pickle.HIGHEST_PROTOCOL))"
   ]
  },
  {
   "cell_type": "code",
   "execution_count": 41,
   "metadata": {},
   "outputs": [
    {
     "name": "stdout",
     "output_type": "stream",
     "text": [
      "77.3 ms ± 3.3 ms per loop (mean ± std. dev. of 7 runs, 10 loops each)\n"
     ]
    }
   ],
   "source": [
    "%%timeit\n",
    "with open(\"data.json\", 'w') as f:\n",
    "    json.dump(a,f)"
   ]
  },
  {
   "cell_type": "code",
   "execution_count": 40,
   "metadata": {},
   "outputs": [
    {
     "name": "stdout",
     "output_type": "stream",
     "text": [
      "5.84 ms ± 2.78 ms per loop (mean ± std. dev. of 7 runs, 10 loops each)\n"
     ]
    }
   ],
   "source": [
    "%%timeit\n",
    "with open(\"data.msgpack\", 'wb') as f:\n",
    "    f.write(msgpack.packb(a, use_bin_type=True))"
   ]
  },
  {
   "cell_type": "code",
   "execution_count": 45,
   "metadata": {},
   "outputs": [
    {
     "name": "stdout",
     "output_type": "stream",
     "text": [
      "Pickle: 175 kb\n",
      "Pickle gzip: 103 kb\n",
      "Json: 377 kb\n",
      "Msgpack: 174 kb\n"
     ]
    }
   ],
   "source": [
    "print(f\"Pickle: {os.path.getsize('data.pickle')//1024} kb\")\n",
    "print(f\"Pickle gzip: {os.path.getsize('data.pickle.gz')//1024} kb\")\n",
    "print(f\"Json: {os.path.getsize('data.json')//1024} kb\")\n",
    "print(f\"Msgpack: {os.path.getsize('data.msgpack')//1024} kb\")"
   ]
  },
  {
   "cell_type": "markdown",
   "metadata": {},
   "source": [
    "So best (smallest/fastest) is `pickle` while worst (largest/slowest) is `json`. `msgpack` came close to `pickle` but it has the issue of not handling both `lists` and `tuples` at the same time (you have to pick one) while `pickle` handles anything."
   ]
  },
  {
   "cell_type": "code",
   "execution_count": null,
   "metadata": {},
   "outputs": [],
   "source": []
  }
 ],
 "metadata": {
  "kernelspec": {
   "display_name": "Python 3",
   "language": "python",
   "name": "python3"
  },
  "language_info": {
   "codemirror_mode": {
    "name": "ipython",
    "version": 3
   },
   "file_extension": ".py",
   "mimetype": "text/x-python",
   "name": "python",
   "nbconvert_exporter": "python",
   "pygments_lexer": "ipython3",
   "version": "3.7.5"
  }
 },
 "nbformat": 4,
 "nbformat_minor": 4
}
