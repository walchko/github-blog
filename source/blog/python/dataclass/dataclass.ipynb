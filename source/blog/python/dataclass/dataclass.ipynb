{
 "cells": [
  {
   "cell_type": "markdown",
   "metadata": {},
   "source": [
    "![](https://images.pexels.com/photos/2218384/pexels-photo-2218384.jpeg?auto=compress&cs=tinysrgb&dpr=2&h=650&w=940)\n",
    "\n",
    "# DataClass\n",
    "\n",
    "Kevin J. Walchko, Phd\n",
    "\n",
    "19 July 2020\n",
    "\n",
    "---\n",
    "\n",
    "`dataclass` compared to other alternatives:\n",
    "\n",
    "- `namedtuple`: is an alternative, but has the issue of\n",
    "    - immutable\n",
    "    - doesn't know what type it is except for type `tuple`\n",
    "    - difficult to add default values\n",
    "- `attr`: have been around a long time and an inspiration with a lot of similarities\n",
    "    - not in the standard library, need to do: `pip install attr`\n",
    "    - supported by python 2.7 and >3.4 while `dataclass` are >=3.7\n",
    "\n",
    "There is a backport of `dataclass` to 3.6, install with: `pip install dataclasses`\n",
    "\n",
    "## References\n",
    "\n",
    "- Python docs: [dataclasses](https://docs.python.org/3/library/dataclasses.html)\n",
    "- Real Python: [dataclasses](https://realpython.com/python-data-classes/)"
   ]
  },
  {
   "cell_type": "code",
   "execution_count": 47,
   "metadata": {},
   "outputs": [],
   "source": [
    "from dataclasses import dataclass, field\n",
    "from dataclasses import asdict, astuple\n",
    "from dataclasses import InitVar\n",
    "import time"
   ]
  },
  {
   "cell_type": "code",
   "execution_count": 79,
   "metadata": {},
   "outputs": [
    {
     "name": "stdout",
     "output_type": "stream",
     "text": [
      "C(a=1, b=0)\n"
     ]
    }
   ],
   "source": [
    "@dataclass\n",
    "class C:\n",
    "    a: int       # 'a' has no default value\n",
    "    b: int = 0   # assign a default value for 'b'\n",
    "        \n",
    "c = C(1)\n",
    "print(c)"
   ]
  },
  {
   "cell_type": "code",
   "execution_count": 36,
   "metadata": {},
   "outputs": [],
   "source": [
    "@dataclass\n",
    "class Point:\n",
    "    x: int\n",
    "    y: int"
   ]
  },
  {
   "cell_type": "code",
   "execution_count": 80,
   "metadata": {},
   "outputs": [
    {
     "name": "stdout",
     "output_type": "stream",
     "text": [
      "Point(x=10, y=20)\n"
     ]
    }
   ],
   "source": [
    "p = Point(10, 20)\n",
    "print(p)\n",
    "\n",
    "# represent objects as dicts or tuples\n",
    "assert asdict(p) == {'x': 10, 'y': 20}\n",
    "assert astuple(p) == (10, 20)"
   ]
  },
  {
   "cell_type": "code",
   "execution_count": 46,
   "metadata": {},
   "outputs": [
    {
     "name": "stdout",
     "output_type": "stream",
     "text": [
      "(10, 20)\n",
      "Point(x=10, y=20)\n"
     ]
    }
   ],
   "source": [
    "pp = astuple(p)\n",
    "print(pp)\n",
    "ppp = Point(*pp)\n",
    "print(ppp)"
   ]
  },
  {
   "cell_type": "code",
   "execution_count": 91,
   "metadata": {},
   "outputs": [
    {
     "name": "stdout",
     "output_type": "stream",
     "text": [
      "CircleArea(r=3, pi=3.14)\n",
      "28.26\n"
     ]
    }
   ],
   "source": [
    "@dataclass\n",
    "class CircleArea:\n",
    "    r: int\n",
    "    pi: float = 3.14\n",
    "\n",
    "    @property\n",
    "    def area(self):\n",
    "        return self.pi * (self.r ** 2)\n",
    "    \n",
    "cir = CircleArea(3)\n",
    "print(cir)\n",
    "print(cir.area)"
   ]
  },
  {
   "cell_type": "markdown",
   "metadata": {},
   "source": [
    "## Inheritance"
   ]
  },
  {
   "cell_type": "code",
   "execution_count": 66,
   "metadata": {},
   "outputs": [
    {
     "name": "stdout",
     "output_type": "stream",
     "text": [
      "H(x=15, y=0, z=10)\n",
      "H(x=15, y=22, z=5)\n"
     ]
    }
   ],
   "source": [
    "from typing import Any\n",
    "\n",
    "@dataclass\n",
    "class Base:\n",
    "    x: Any = 15.0\n",
    "    y: int = 0\n",
    "\n",
    "@dataclass\n",
    "class H(Base):\n",
    "    z: int = 10\n",
    "    x: int = 15\n",
    "        \n",
    "h = H()\n",
    "print(h)\n",
    "\n",
    "# order is base, then derived\n",
    "# H(x,y,z)\n",
    "hh = H(15,22,5)\n",
    "print(hh)"
   ]
  },
  {
   "cell_type": "code",
   "execution_count": 81,
   "metadata": {},
   "outputs": [
    {
     "ename": "TypeError",
     "evalue": "non-default argument 'country' follows default argument",
     "output_type": "error",
     "traceback": [
      "\u001b[0;31m---------------------------------------------------------------------------\u001b[0m",
      "\u001b[0;31mTypeError\u001b[0m                                 Traceback (most recent call last)",
      "\u001b[0;32m<ipython-input-81-a69ab0f2da18>\u001b[0m in \u001b[0;36m<module>\u001b[0;34m\u001b[0m\n\u001b[1;32m      6\u001b[0m \u001b[0;34m\u001b[0m\u001b[0m\n\u001b[1;32m      7\u001b[0m \u001b[0;34m@\u001b[0m\u001b[0mdataclass\u001b[0m\u001b[0;34m\u001b[0m\u001b[0;34m\u001b[0m\u001b[0m\n\u001b[0;32m----> 8\u001b[0;31m \u001b[0;32mclass\u001b[0m \u001b[0mCapital\u001b[0m\u001b[0;34m(\u001b[0m\u001b[0mPosition\u001b[0m\u001b[0;34m)\u001b[0m\u001b[0;34m:\u001b[0m\u001b[0;34m\u001b[0m\u001b[0;34m\u001b[0m\u001b[0m\n\u001b[0m\u001b[1;32m      9\u001b[0m     \u001b[0mcountry\u001b[0m\u001b[0;34m:\u001b[0m \u001b[0mstr\u001b[0m  \u001b[0;31m# this will FAIL\u001b[0m\u001b[0;34m\u001b[0m\u001b[0;34m\u001b[0m\u001b[0m\n\u001b[1;32m     10\u001b[0m \u001b[0;34m\u001b[0m\u001b[0m\n",
      "\u001b[0;32m/usr/local/Cellar/python@3.8/3.8.3_2/Frameworks/Python.framework/Versions/3.8/lib/python3.8/dataclasses.py\u001b[0m in \u001b[0;36mdataclass\u001b[0;34m(cls, init, repr, eq, order, unsafe_hash, frozen)\u001b[0m\n\u001b[1;32m   1017\u001b[0m \u001b[0;34m\u001b[0m\u001b[0m\n\u001b[1;32m   1018\u001b[0m     \u001b[0;31m# We're called as @dataclass without parens.\u001b[0m\u001b[0;34m\u001b[0m\u001b[0;34m\u001b[0m\u001b[0;34m\u001b[0m\u001b[0m\n\u001b[0;32m-> 1019\u001b[0;31m     \u001b[0;32mreturn\u001b[0m \u001b[0mwrap\u001b[0m\u001b[0;34m(\u001b[0m\u001b[0mcls\u001b[0m\u001b[0;34m)\u001b[0m\u001b[0;34m\u001b[0m\u001b[0;34m\u001b[0m\u001b[0m\n\u001b[0m\u001b[1;32m   1020\u001b[0m \u001b[0;34m\u001b[0m\u001b[0m\n\u001b[1;32m   1021\u001b[0m \u001b[0;34m\u001b[0m\u001b[0m\n",
      "\u001b[0;32m/usr/local/Cellar/python@3.8/3.8.3_2/Frameworks/Python.framework/Versions/3.8/lib/python3.8/dataclasses.py\u001b[0m in \u001b[0;36mwrap\u001b[0;34m(cls)\u001b[0m\n\u001b[1;32m   1009\u001b[0m \u001b[0;34m\u001b[0m\u001b[0m\n\u001b[1;32m   1010\u001b[0m     \u001b[0;32mdef\u001b[0m \u001b[0mwrap\u001b[0m\u001b[0;34m(\u001b[0m\u001b[0mcls\u001b[0m\u001b[0;34m)\u001b[0m\u001b[0;34m:\u001b[0m\u001b[0;34m\u001b[0m\u001b[0;34m\u001b[0m\u001b[0m\n\u001b[0;32m-> 1011\u001b[0;31m         \u001b[0;32mreturn\u001b[0m \u001b[0m_process_class\u001b[0m\u001b[0;34m(\u001b[0m\u001b[0mcls\u001b[0m\u001b[0;34m,\u001b[0m \u001b[0minit\u001b[0m\u001b[0;34m,\u001b[0m \u001b[0mrepr\u001b[0m\u001b[0;34m,\u001b[0m \u001b[0meq\u001b[0m\u001b[0;34m,\u001b[0m \u001b[0morder\u001b[0m\u001b[0;34m,\u001b[0m \u001b[0munsafe_hash\u001b[0m\u001b[0;34m,\u001b[0m \u001b[0mfrozen\u001b[0m\u001b[0;34m)\u001b[0m\u001b[0;34m\u001b[0m\u001b[0;34m\u001b[0m\u001b[0m\n\u001b[0m\u001b[1;32m   1012\u001b[0m \u001b[0;34m\u001b[0m\u001b[0m\n\u001b[1;32m   1013\u001b[0m     \u001b[0;31m# See if we're being called as @dataclass or @dataclass().\u001b[0m\u001b[0;34m\u001b[0m\u001b[0;34m\u001b[0m\u001b[0;34m\u001b[0m\u001b[0m\n",
      "\u001b[0;32m/usr/local/Cellar/python@3.8/3.8.3_2/Frameworks/Python.framework/Versions/3.8/lib/python3.8/dataclasses.py\u001b[0m in \u001b[0;36m_process_class\u001b[0;34m(cls, init, repr, eq, order, unsafe_hash, frozen)\u001b[0m\n\u001b[1;32m    923\u001b[0m                 if f._field_type in (_FIELD, _FIELD_INITVAR)]\n\u001b[1;32m    924\u001b[0m         _set_new_attribute(cls, '__init__',\n\u001b[0;32m--> 925\u001b[0;31m                            _init_fn(flds,\n\u001b[0m\u001b[1;32m    926\u001b[0m                                     \u001b[0mfrozen\u001b[0m\u001b[0;34m,\u001b[0m\u001b[0;34m\u001b[0m\u001b[0;34m\u001b[0m\u001b[0m\n\u001b[1;32m    927\u001b[0m                                     \u001b[0mhas_post_init\u001b[0m\u001b[0;34m,\u001b[0m\u001b[0;34m\u001b[0m\u001b[0;34m\u001b[0m\u001b[0m\n",
      "\u001b[0;32m/usr/local/Cellar/python@3.8/3.8.3_2/Frameworks/Python.framework/Versions/3.8/lib/python3.8/dataclasses.py\u001b[0m in \u001b[0;36m_init_fn\u001b[0;34m(fields, frozen, has_post_init, self_name, globals)\u001b[0m\n\u001b[1;32m    500\u001b[0m                 \u001b[0mseen_default\u001b[0m \u001b[0;34m=\u001b[0m \u001b[0;32mTrue\u001b[0m\u001b[0;34m\u001b[0m\u001b[0;34m\u001b[0m\u001b[0m\n\u001b[1;32m    501\u001b[0m             \u001b[0;32melif\u001b[0m \u001b[0mseen_default\u001b[0m\u001b[0;34m:\u001b[0m\u001b[0;34m\u001b[0m\u001b[0;34m\u001b[0m\u001b[0m\n\u001b[0;32m--> 502\u001b[0;31m                 raise TypeError(f'non-default argument {f.name!r} '\n\u001b[0m\u001b[1;32m    503\u001b[0m                                 'follows default argument')\n\u001b[1;32m    504\u001b[0m \u001b[0;34m\u001b[0m\u001b[0m\n",
      "\u001b[0;31mTypeError\u001b[0m: non-default argument 'country' follows default argument"
     ]
    }
   ],
   "source": [
    "@dataclass\n",
    "class Position:\n",
    "    name: str\n",
    "    lon: float = 0.0\n",
    "    lat: float = 0.0\n",
    "\n",
    "@dataclass\n",
    "class Capital(Position):\n",
    "    country: str  # this will FAIL, no default\n",
    "        \n",
    "# the constructor would look like this ... FAIL, need a default after other defaults\n",
    "# def __init__(name: str, lon: float = 0.0, lat: float = 0.0, country: str)"
   ]
  },
  {
   "cell_type": "markdown",
   "metadata": {},
   "source": [
    "## `field`\n",
    "\n",
    "There are also `fields` for multiple fields and `Field` (not sure why). Additionally, you can add `default_factory` to create things from `list` or do `__post_init__()` to set a class member."
   ]
  },
  {
   "cell_type": "code",
   "execution_count": 42,
   "metadata": {},
   "outputs": [
    {
     "name": "stdout",
     "output_type": "stream",
     "text": [
      "J(x=[1, 2, 3, 4, 5])\n",
      "J(x=[])\n"
     ]
    }
   ],
   "source": [
    "@dataclass\n",
    "class J:\n",
    "    x: list = field(default_factory=list)\n",
    "        \n",
    "j = J([1,2,3,4,5])\n",
    "print(j)\n",
    "print(J())"
   ]
  },
  {
   "cell_type": "code",
   "execution_count": 108,
   "metadata": {},
   "outputs": [
    {
     "name": "stdout",
     "output_type": "stream",
     "text": [
      "K(mylist=[1, 2, 3])\n"
     ]
    }
   ],
   "source": [
    "from typing import List\n",
    "\n",
    "@dataclass\n",
    "class K:\n",
    "    mylist: List[int] = field(default_factory=list)\n",
    "\n",
    "k = K()\n",
    "k.mylist += [1, 2, 3]\n",
    "print(k)"
   ]
  },
  {
   "cell_type": "code",
   "execution_count": 126,
   "metadata": {},
   "outputs": [
    {
     "name": "stdout",
     "output_type": "stream",
     "text": [
      "R(a=defaultdict(<class 'list'>, {'bob': [5]}))\n",
      "R(a=defaultdict(<class 'list'>, {'a': [1, 2, 3, 4, 5], 'b': [5]}))\n"
     ]
    }
   ],
   "source": [
    "from collections import defaultdict\n",
    "from typing import DefaultDict\n",
    "\n",
    "@dataclass\n",
    "class R:\n",
    "    a: DefaultDict[str, List] = field(init=False, default_factory=defaultdict)\n",
    "    \n",
    "    def __post_init__(self):\n",
    "        self.a = defaultdict(list)\n",
    "\n",
    "r = R()\n",
    "r.a[\"bob\"].append(5)\n",
    "print(r)\n",
    "\n",
    "# print(R({'a':[1,2,3,4]}))  # FAIL\n",
    "\n",
    "rr = R()\n",
    "rr.a['a'] = [1,2,3,4,5]\n",
    "rr.a[\"b\"].append(5)\n",
    "print(rr)"
   ]
  },
  {
   "cell_type": "code",
   "execution_count": 113,
   "metadata": {},
   "outputs": [
    {
     "name": "stdout",
     "output_type": "stream",
     "text": [
      "F(a=3.1, b=4, c=7.1, ts=1595208795.258878)\n"
     ]
    }
   ],
   "source": [
    "@dataclass\n",
    "class F:\n",
    "    a: float\n",
    "    b: float\n",
    "    c: float = field(init=False)\n",
    "    ts: float = field(init=False, default=time.time())\n",
    "\n",
    "    def __post_init__(self):\n",
    "        self.c = self.a + self.b\n",
    "\n",
    "f = F(3.1,4)\n",
    "print(f)"
   ]
  },
  {
   "cell_type": "code",
   "execution_count": 78,
   "metadata": {},
   "outputs": [
    {
     "name": "stdout",
     "output_type": "stream",
     "text": [
      "D(x=1, t=20)\n",
      "D(x=1, t=4)\n",
      "D(x=1, t=20)\n",
      "2 2 10 20\n"
     ]
    }
   ],
   "source": [
    "@dataclass\n",
    "class D:\n",
    "    x: int\n",
    "    y: int = field(repr=False)\n",
    "    z: int = field(repr=False, default=10)\n",
    "    t: int = 20\n",
    "        \n",
    "print(D(1,2))\n",
    "print(D(1,2,3,4))\n",
    "print(D(1,1))\n",
    "\n",
    "d = D(2,2)\n",
    "print(d.x,d.y,d.z,d.t)"
   ]
  },
  {
   "cell_type": "markdown",
   "metadata": {},
   "source": [
    "## `namedtuple`"
   ]
  },
  {
   "cell_type": "code",
   "execution_count": 55,
   "metadata": {},
   "outputs": [
    {
     "name": "stdout",
     "output_type": "stream",
     "text": [
      "Position(name='bob', lat=12.3, lon=34.5)\n",
      "True\n",
      "<class 'types.Position'>\n"
     ]
    },
    {
     "ename": "TypeError",
     "evalue": "__init__() missing 3 required positional arguments: 'name', 'lat', and 'lon'",
     "output_type": "error",
     "traceback": [
      "\u001b[0;31m---------------------------------------------------------------------------\u001b[0m",
      "\u001b[0;31mTypeError\u001b[0m                                 Traceback (most recent call last)",
      "\u001b[0;32m<ipython-input-55-905bdae8fa42>\u001b[0m in \u001b[0;36m<module>\u001b[0;34m\u001b[0m\n\u001b[1;32m      7\u001b[0m \u001b[0mprint\u001b[0m\u001b[0;34m(\u001b[0m\u001b[0mp\u001b[0m \u001b[0;34m==\u001b[0m \u001b[0mp\u001b[0m\u001b[0;34m)\u001b[0m\u001b[0;34m\u001b[0m\u001b[0;34m\u001b[0m\u001b[0m\n\u001b[1;32m      8\u001b[0m \u001b[0mprint\u001b[0m\u001b[0;34m(\u001b[0m\u001b[0mtype\u001b[0m\u001b[0;34m(\u001b[0m\u001b[0mp\u001b[0m\u001b[0;34m)\u001b[0m\u001b[0;34m)\u001b[0m\u001b[0;34m\u001b[0m\u001b[0;34m\u001b[0m\u001b[0m\n\u001b[0;32m----> 9\u001b[0;31m \u001b[0mprint\u001b[0m\u001b[0;34m(\u001b[0m\u001b[0mPosition\u001b[0m\u001b[0;34m(\u001b[0m\u001b[0;34m)\u001b[0m\u001b[0;34m)\u001b[0m \u001b[0;31m# this will FAIL\u001b[0m\u001b[0;34m\u001b[0m\u001b[0;34m\u001b[0m\u001b[0m\n\u001b[0m",
      "\u001b[0;31mTypeError\u001b[0m: __init__() missing 3 required positional arguments: 'name', 'lat', and 'lon'"
     ]
    }
   ],
   "source": [
    "# act like namedtuples\n",
    "from dataclasses import make_dataclass\n",
    "\n",
    "Position = make_dataclass('Position', ['name', 'lat', 'lon'])\n",
    "p = Position(\"bob\", 12.3,34.5)\n",
    "print(p)\n",
    "print(p == p)\n",
    "print(type(p))\n",
    "print(Position()) # this will FAIL"
   ]
  },
  {
   "cell_type": "markdown",
   "metadata": {},
   "source": [
    "## Immutable (Frozen)\n",
    "\n",
    "Not as good as `attr`, has unexpected results"
   ]
  },
  {
   "cell_type": "code",
   "execution_count": 56,
   "metadata": {},
   "outputs": [
    {
     "name": "stdout",
     "output_type": "stream",
     "text": [
      "Position(name='a', lon=1, lat=2)\n"
     ]
    },
    {
     "ename": "FrozenInstanceError",
     "evalue": "cannot assign to field 'lon'",
     "output_type": "error",
     "traceback": [
      "\u001b[0;31m---------------------------------------------------------------------------\u001b[0m",
      "\u001b[0;31mFrozenInstanceError\u001b[0m                       Traceback (most recent call last)",
      "\u001b[0;32m<ipython-input-56-e1726570b66c>\u001b[0m in \u001b[0;36m<module>\u001b[0;34m\u001b[0m\n\u001b[1;32m      7\u001b[0m \u001b[0mp\u001b[0m \u001b[0;34m=\u001b[0m \u001b[0mPosition\u001b[0m\u001b[0;34m(\u001b[0m\u001b[0;34m\"a\"\u001b[0m\u001b[0;34m,\u001b[0m\u001b[0;36m1\u001b[0m\u001b[0;34m,\u001b[0m\u001b[0;36m2\u001b[0m\u001b[0;34m)\u001b[0m\u001b[0;34m\u001b[0m\u001b[0;34m\u001b[0m\u001b[0m\n\u001b[1;32m      8\u001b[0m \u001b[0mprint\u001b[0m\u001b[0;34m(\u001b[0m\u001b[0mp\u001b[0m\u001b[0;34m)\u001b[0m\u001b[0;34m\u001b[0m\u001b[0;34m\u001b[0m\u001b[0m\n\u001b[0;32m----> 9\u001b[0;31m \u001b[0mp\u001b[0m\u001b[0;34m.\u001b[0m\u001b[0mlon\u001b[0m \u001b[0;34m=\u001b[0m \u001b[0;36m4\u001b[0m\u001b[0;34m\u001b[0m\u001b[0;34m\u001b[0m\u001b[0m\n\u001b[0m",
      "\u001b[0;32m<string>\u001b[0m in \u001b[0;36m__setattr__\u001b[0;34m(self, name, value)\u001b[0m\n",
      "\u001b[0;31mFrozenInstanceError\u001b[0m: cannot assign to field 'lon'"
     ]
    }
   ],
   "source": [
    "@dataclass(frozen=True)\n",
    "class Position:\n",
    "    name: str\n",
    "    lon: float = 0.0\n",
    "    lat: float = 0.0\n",
    "\n",
    "p = Position(\"a\",1,2)\n",
    "print(p)\n",
    "p.lon = 4 # this will FAIL"
   ]
  },
  {
   "cell_type": "code",
   "execution_count": 62,
   "metadata": {},
   "outputs": [
    {
     "name": "stdout",
     "output_type": "stream",
     "text": [
      "Position(name='a', lon=1, lat=2, ww=[])\n",
      "Position(name='a', lon=1, lat=2, ww=[5])\n"
     ]
    },
    {
     "ename": "FrozenInstanceError",
     "evalue": "cannot assign to field 'name'",
     "output_type": "error",
     "traceback": [
      "\u001b[0;31m---------------------------------------------------------------------------\u001b[0m",
      "\u001b[0;31mFrozenInstanceError\u001b[0m                       Traceback (most recent call last)",
      "\u001b[0;32m<ipython-input-62-5e8f7a6df8bd>\u001b[0m in \u001b[0;36m<module>\u001b[0;34m\u001b[0m\n\u001b[1;32m     12\u001b[0m \u001b[0mprint\u001b[0m\u001b[0;34m(\u001b[0m\u001b[0mp\u001b[0m\u001b[0;34m)\u001b[0m\u001b[0;34m\u001b[0m\u001b[0;34m\u001b[0m\u001b[0m\n\u001b[1;32m     13\u001b[0m \u001b[0;34m\u001b[0m\u001b[0m\n\u001b[0;32m---> 14\u001b[0;31m \u001b[0mp\u001b[0m\u001b[0;34m.\u001b[0m\u001b[0mname\u001b[0m \u001b[0;34m=\u001b[0m \u001b[0;34m\"bob\"\u001b[0m\u001b[0;34m\u001b[0m\u001b[0;34m\u001b[0m\u001b[0m\n\u001b[0m",
      "\u001b[0;32m<string>\u001b[0m in \u001b[0;36m__setattr__\u001b[0;34m(self, name, value)\u001b[0m\n",
      "\u001b[0;31mFrozenInstanceError\u001b[0m: cannot assign to field 'name'"
     ]
    }
   ],
   "source": [
    "@dataclass(frozen=True)\n",
    "class Position:\n",
    "    name: str\n",
    "    lon: float = 0.0\n",
    "    lat: float = 0.0\n",
    "    ww: List[int] = field(default_factory=list)\n",
    "\n",
    "p = Position(\"a\",1,2)\n",
    "print(p)\n",
    "\n",
    "p.ww.append(5)  # expect to FAIL, but PASS ... list isn't immutable\n",
    "print(p)\n",
    "\n",
    "p.name = \"bob\" # this will FAIL"
   ]
  },
  {
   "cell_type": "markdown",
   "metadata": {},
   "source": [
    "## Slots\n",
    "\n",
    "`dataclass` uses a `dict` to store everything, but we can use slots to reduce memory and speed up performance. However, `attr` does it better."
   ]
  },
  {
   "cell_type": "code",
   "execution_count": 90,
   "metadata": {},
   "outputs": [],
   "source": [
    "@dataclass\n",
    "class SimplePosition:\n",
    "    name: str\n",
    "    lon: float\n",
    "    lat: float\n",
    "\n",
    "# WARNING: for some reason, you cannot have default values for slots!!\n",
    "@dataclass\n",
    "class SlotPosition:\n",
    "    __slots__ = ['name', 'lon', 'lat']\n",
    "    name: str\n",
    "    lon: float\n",
    "    lat: float"
   ]
  },
  {
   "cell_type": "code",
   "execution_count": null,
   "metadata": {},
   "outputs": [],
   "source": []
  }
 ],
 "metadata": {
  "kernelspec": {
   "display_name": "Python 3",
   "language": "python",
   "name": "python3"
  },
  "language_info": {
   "codemirror_mode": {
    "name": "ipython",
    "version": 3
   },
   "file_extension": ".py",
   "mimetype": "text/x-python",
   "name": "python",
   "nbconvert_exporter": "python",
   "pygments_lexer": "ipython3",
   "version": "3.8.3"
  }
 },
 "nbformat": 4,
 "nbformat_minor": 4
}
