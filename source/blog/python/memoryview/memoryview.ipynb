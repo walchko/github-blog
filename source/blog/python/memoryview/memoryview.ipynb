{
 "cells": [
  {
   "cell_type": "markdown",
   "metadata": {},
   "source": [
    "![](https://i.pinimg.com/564x/98/30/56/9830568eef901c954530ca710168e9e3.jpg)\n",
    "\n",
    "# Memoryview\n",
    "\n",
    "Kevin J. Walchko\n",
    "\n",
    "27 Jun 2020\n",
    "\n",
    "---\n",
    "\n",
    "For large binary data sets, `memoryview` can be sliced without copying the underlying data, unlike `bytes`/`str`.\n",
    "\n",
    "## References\n",
    "\n",
    "- StackExchange: [What exactly is the point of memoryview in Python](https://stackoverflow.com/a/54920879/5374768)"
   ]
  },
  {
   "cell_type": "code",
   "execution_count": 1,
   "metadata": {},
   "outputs": [],
   "source": [
    "import time"
   ]
  },
  {
   "cell_type": "code",
   "execution_count": 3,
   "metadata": {},
   "outputs": [
    {
     "name": "stdout",
     "output_type": "stream",
     "text": [
      "bytes 100000 0.21957087516784668\n",
      "bytes 200000 0.7219278812408447\n",
      "bytes 300000 1.9775810241699219\n",
      "bytes 400000 3.3055429458618164\n"
     ]
    }
   ],
   "source": [
    "for n in (100000, 200000, 300000, 400000):\n",
    "    data = bytes(n)\n",
    "    start = time.time()\n",
    "    b = data\n",
    "    while b:\n",
    "        b = b[1:]\n",
    "    print('bytes', n, time.time()-start)"
   ]
  },
  {
   "cell_type": "code",
   "execution_count": 4,
   "metadata": {},
   "outputs": [
    {
     "name": "stdout",
     "output_type": "stream",
     "text": [
      "memoryview 100000 0.026743173599243164\n",
      "memoryview 200000 0.04850602149963379\n",
      "memoryview 300000 0.05262494087219238\n",
      "memoryview 400000 0.0709371566772461\n"
     ]
    }
   ],
   "source": [
    "for n in (100000, 200000, 300000, 400000):\n",
    "    data = bytes(n)\n",
    "    start = time.time()\n",
    "    b = memoryview(data)\n",
    "    while b:\n",
    "        b = b[1:]\n",
    "    print('memoryview', n, time.time()-start)"
   ]
  },
  {
   "cell_type": "code",
   "execution_count": null,
   "metadata": {},
   "outputs": [],
   "source": []
  }
 ],
 "metadata": {
  "kernelspec": {
   "display_name": "Python 3",
   "language": "python",
   "name": "python3"
  },
  "language_info": {
   "codemirror_mode": {
    "name": "ipython",
    "version": 3
   },
   "file_extension": ".py",
   "mimetype": "text/x-python",
   "name": "python",
   "nbconvert_exporter": "python",
   "pygments_lexer": "ipython3",
   "version": "3.8.3"
  }
 },
 "nbformat": 4,
 "nbformat_minor": 4
}
