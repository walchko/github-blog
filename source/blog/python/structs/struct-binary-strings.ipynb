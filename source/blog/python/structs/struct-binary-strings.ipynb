{
 "cells": [
  {
   "cell_type": "markdown",
   "metadata": {},
   "source": [
    "![](https://images.pexels.com/photos/3771803/pexels-photo-3771803.jpeg?auto=compress&cs=tinysrgb&h=750&w=1260)\n",
    "\n",
    "# Converting Data to Binary Strings\n",
    "\n",
    "Kevin J. Walchko, Phd\n",
    "\n",
    "---\n",
    "\n",
    "`struct` allows you to convert data to binary to a binary string which is useful for serial transmitting. Usually, you have some sort of data frame with a header, frame size, and error correction.\n",
    "\n",
    "```\n",
    "Notional Data Frame = [Header, Size, Binary_data, Error_Detection]\n",
    "```"
   ]
  },
  {
   "cell_type": "code",
   "execution_count": 6,
   "metadata": {},
   "outputs": [],
   "source": [
    "import struct\n",
    "from math import pi"
   ]
  },
  {
   "cell_type": "code",
   "execution_count": 4,
   "metadata": {},
   "outputs": [
    {
     "name": "stdout",
     "output_type": "stream",
     "text": [
      "Binary: b'\\x01\\x02\\x03\\x04'\n"
     ]
    }
   ],
   "source": [
    "# I use a tuple here, because unpack \n",
    "# returns a tuple not a list\n",
    "d = (1,2,3,4)\n",
    "\n",
    "b = struct.pack(\"BBBB\", *d)\n",
    "print(f\"Binary: {b}\")"
   ]
  },
  {
   "cell_type": "code",
   "execution_count": 5,
   "metadata": {},
   "outputs": [
    {
     "name": "stdout",
     "output_type": "stream",
     "text": [
      "Data: (1, 2, 3, 4)\n",
      "Good recovery: True\n"
     ]
    }
   ],
   "source": [
    "dd = struct.unpack(\"BBBB\", b)\n",
    "print(f\"Data: {dd}\")\n",
    "print(f\"Good recovery: {d==dd}\")"
   ]
  },
  {
   "cell_type": "code",
   "execution_count": 8,
   "metadata": {},
   "outputs": [
    {
     "name": "stdout",
     "output_type": "stream",
     "text": [
      "tuple of floats: (3.141592653589793, -3.141592653589793, 0.3183098861837907)\n",
      "Binary: b'\\xdb\\x0fI@\\xdb\\x0fI\\xc0\\x83\\xf9\\xa2>'\n"
     ]
    }
   ],
   "source": [
    "d = (pi, -pi, 1/pi)\n",
    "print(f\"tuple of floats: {d}\")\n",
    "\n",
    "b = struct.pack(\"fff\", *d)\n",
    "print(f\"Binary: {b}\")"
   ]
  },
  {
   "cell_type": "code",
   "execution_count": 9,
   "metadata": {},
   "outputs": [
    {
     "name": "stdout",
     "output_type": "stream",
     "text": [
      "Data: (3.1415927410125732, -3.1415927410125732, 0.31830987334251404)\n",
      "Good recovery: False\n"
     ]
    }
   ],
   "source": [
    "dd = struct.unpack(\"fff\", b)\n",
    "print(f\"Data: {dd}\")\n",
    "print(f\"Good recovery: {d==dd}\")"
   ]
  },
  {
   "cell_type": "code",
   "execution_count": null,
   "metadata": {},
   "outputs": [],
   "source": []
  }
 ],
 "metadata": {
  "kernelspec": {
   "display_name": "Python 3",
   "language": "python",
   "name": "python3"
  },
  "language_info": {
   "codemirror_mode": {
    "name": "ipython",
    "version": 3
   },
   "file_extension": ".py",
   "mimetype": "text/x-python",
   "name": "python",
   "nbconvert_exporter": "python",
   "pygments_lexer": "ipython3",
   "version": "3.7.5"
  }
 },
 "nbformat": 4,
 "nbformat_minor": 4
}
