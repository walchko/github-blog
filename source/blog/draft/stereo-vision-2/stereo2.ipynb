{
 "cells": [
  {
   "cell_type": "markdown",
   "metadata": {},
   "source": [
    "# OpenCV Camera"
   ]
  },
  {
   "cell_type": "code",
   "execution_count": 1,
   "metadata": {},
   "outputs": [],
   "source": [
    "# reload library\n",
    "%load_ext autoreload\n",
    "%autoreload 2"
   ]
  },
  {
   "cell_type": "code",
   "execution_count": 3,
   "metadata": {},
   "outputs": [],
   "source": [
    "import numpy as np\n",
    "np.set_printoptions(precision=1)\n",
    "np.set_printoptions(suppress=True)\n",
    "\n",
    "import cv2\n",
    "\n",
    "import matplotlib.pyplot as plt\n",
    "plt.rcParams[\"figure.figsize\"] = (20,10) # set default figure width\n",
    "\n",
    "from slurm import storage\n",
    "from pprint import pprint\n",
    "from pathlib import Path"
   ]
  },
  {
   "cell_type": "code",
   "execution_count": 4,
   "metadata": {},
   "outputs": [],
   "source": [
    "import opencv_camera as oc"
   ]
  },
  {
   "cell_type": "code",
   "execution_count": 5,
   "metadata": {},
   "outputs": [
    {
     "name": "stdout",
     "output_type": "stream",
     "text": [
      "3d-pics   floor    imgs3\t  stereo-camera-2.ipynb  table4\r\n",
      "cal_pics  grab.py  misc\t\t  stereopics\t\t test.py\r\n",
      "cb.ply\t  imgs1    pics\t\t  table\t\t\t videogames\r\n",
      "docs\t  imgs2    stereo2.ipynb  table2\r\n"
     ]
    }
   ],
   "source": [
    "!ls"
   ]
  },
  {
   "cell_type": "code",
   "execution_count": 45,
   "metadata": {},
   "outputs": [
    {
     "name": "stdout",
     "output_type": "stream",
     "text": [
      "Left camera K1 and D1\n",
      "----------------------------------------\n",
      "[[534.8   0.  335.7]\n",
      " [  0.  534.8 240.7]\n",
      " [  0.    0.    1. ]]\n",
      "[[ 0.3 -1.   0.   0.   0. ]]\n",
      "\n",
      "Right camera K2 and D2\n",
      "----------------------------------------\n",
      "[[534.8   0.  334.6]\n",
      " [  0.  534.8 242.1]\n",
      " [  0.    0.    1. ]]\n",
      "[[-0.2 -0.1  0.   0.   0. ]]\n"
     ]
    }
   ],
   "source": [
    "# See the answer from OpenCV Tutorials\n",
    "ans = cv2.FileStorage(\"cal_pics/intrinsics.yml\", cv2.FILE_STORAGE_READ)\n",
    "print(\"Left camera K1 and D1\")\n",
    "print(\"-\"*40)\n",
    "print(ans.getNode(\"M1\").mat())\n",
    "print(ans.getNode(\"D1\").mat())\n",
    "print(\"\")\n",
    "print(\"Right camera K2 and D2\")\n",
    "print(\"-\"*40)\n",
    "print(ans.getNode(\"M2\").mat())\n",
    "print(ans.getNode(\"D2\").mat())"
   ]
  },
  {
   "cell_type": "code",
   "execution_count": null,
   "metadata": {},
   "outputs": [],
   "source": []
  },
  {
   "cell_type": "code",
   "execution_count": 13,
   "metadata": {},
   "outputs": [],
   "source": [
    "def readImages(pattern):\n",
    "    p = Path(\"cal_pics\").glob(pattern)\n",
    "    return [cv2.imread(str(f),0) for f in p]\n",
    "\n",
    "imgL = readImages(\"left*.jpg\")\n",
    "imgR = readImages(\"right*.jpg\")"
   ]
  },
  {
   "cell_type": "code",
   "execution_count": 48,
   "metadata": {
    "scrolled": true
   },
   "outputs": [],
   "source": [
    "# plt.imshow(imgL[0], cmap=\"gray\")\n",
    "# plt.title(f\"{imgL[0].shape}\");"
   ]
  },
  {
   "cell_type": "code",
   "execution_count": 18,
   "metadata": {},
   "outputs": [],
   "source": [
    "from opencv_camera import CameraCalibration\n",
    "from opencv_camera.stereo_calibrate import StereoCalibration\n",
    "from opencv_camera.targets.chessboard import ChessboardFinder\n",
    "from opencv_camera import UnDistort\n",
    "from opencv_camera.color_space import bgr2gray, gray2bgr"
   ]
  },
  {
   "cell_type": "code",
   "execution_count": 107,
   "metadata": {},
   "outputs": [],
   "source": [
    "stereoCal = StereoCalibration()\n",
    "board = ChessboardFinder((9,6), 1)"
   ]
  },
  {
   "cell_type": "code",
   "execution_count": 108,
   "metadata": {
    "scrolled": false
   },
   "outputs": [
    {
     "name": "stdout",
     "output_type": "stream",
     "text": [
      "Images: 13 @ (480, 640)\n",
      "Chessboard (9, 6)\n",
      "----------------------------------------\n",
      "[0] + found 54.0 of 54 corners\n",
      "[1] + found 54.0 of 54 corners\n",
      "[2] + found 54.0 of 54 corners\n",
      "[3] + found 54.0 of 54 corners\n",
      "[4] + found 54.0 of 54 corners\n",
      "[5] + found 54.0 of 54 corners\n",
      "[6] + found 54.0 of 54 corners\n",
      "[7] + found 54.0 of 54 corners\n",
      "[8] + found 54.0 of 54 corners\n",
      "[9] + found 54.0 of 54 corners\n",
      "[10] + found 54.0 of 54 corners\n",
      "[11] + found 54.0 of 54 corners\n",
      "[12] + found 54.0 of 54 corners\n",
      "\n",
      "RMS error: 0.1954335878493804\n",
      "\n",
      "----------------------------------------\n",
      "Images: 13 @ (480, 640)\n",
      "Chessboard (9, 6)\n",
      "----------------------------------------\n",
      "[0] + found 54.0 of 54 corners\n",
      "[1] + found 54.0 of 54 corners\n",
      "[2] + found 54.0 of 54 corners\n",
      "[3] + found 54.0 of 54 corners\n",
      "[4] + found 54.0 of 54 corners\n",
      "[5] + found 54.0 of 54 corners\n",
      "[6] + found 54.0 of 54 corners\n",
      "[7] + found 54.0 of 54 corners\n",
      "[8] + found 54.0 of 54 corners\n",
      "[9] + found 54.0 of 54 corners\n",
      "[10] + found 54.0 of 54 corners\n",
      "[11] + found 54.0 of 54 corners\n",
      "[12] + found 54.0 of 54 corners\n",
      "\n",
      "RMS error: 0.2070273948258302\n",
      "\n",
      "----------------------------------------\n"
     ]
    }
   ],
   "source": [
    "ok, cm, sc = stereoCal.calibrate(imgL, imgR, board)"
   ]
  },
  {
   "cell_type": "code",
   "execution_count": 110,
   "metadata": {
    "scrolled": false
   },
   "outputs": [
    {
     "name": "stdout",
     "output_type": "stream",
     "text": [
      "\u001b[34mCamera 1 --------------------------\n",
      "  focalLength(x,y): 564.0 571.4 px \n",
      "  principlePoint(x,y): 332.7 313.1 px\n",
      "  distortionCoeffs: [ -1.598   5.686  -0.174   0.108 -17.621]\n",
      "\u001b[32mCamera 2 --------------------------\n",
      "  focalLength(x,y): 564.0 571.4 px \n",
      "  principlePoint(x,y): 350.9 113.0 px\n",
      "  distortionCoeffs: [-0.466  7.828  0.231  0.484 -8.676]\n",
      "\u001b[35mExtrinsic Camera Parameters -------\n",
      "  Translation between Left/Right Camera: [-9.641 13.95  10.019]\n",
      "  Rotation between Left/Right Camera:\n",
      "    [[ 0.947 -0.139  0.289]\n",
      "     [ 0.321  0.391 -0.863]\n",
      "     [ 0.006  0.91   0.415]]\n",
      "  Essential Matrix:\n",
      "    [[ -3.126   8.776  14.428]\n",
      "     [  9.55    7.384   6.898]\n",
      "     [-16.305  -1.837   4.279]]\n",
      "  Fundatmental Matrix:\n",
      "    [[-0.     0.     0.002]\n",
      "     [ 0.     0.    -0.001]\n",
      "     [-0.003 -0.002  1.   ]]\n",
      "\u001b[39m\n"
     ]
    }
   ],
   "source": [
    "print(sc)"
   ]
  },
  {
   "cell_type": "code",
   "execution_count": 129,
   "metadata": {},
   "outputs": [],
   "source": [
    "from numpy.linalg import inv, norm\n",
    "\n",
    "def computeF(K1, K2, R, t):\n",
    "    \"\"\"\n",
    "    OpenCV appears to normalize the F matrix. It can contain\n",
    "    some really large and really small values. See CSE486\n",
    "    lecture 19 notes [1] for examples of the F matrix.\n",
    "    Also see Epipolar Geometery, Table 9.1, last line (Cameras \n",
    "    not at inf)[2] for how to calculate it.\n",
    "    \n",
    "    [1] http://www.cse.psu.edu/~rtc12/CSE486/lecture19.pdf\n",
    "    [2] http://www.robots.ox.ac.uk/~vgg/hzbook/hzbook2/HZepipolar.pdf\n",
    "    \"\"\"\n",
    "    t = t.T[0]\n",
    "    A = (K1 @ R.T @ t)\n",
    "    print(A)\n",
    "    C = np.array([\n",
    "        [    0, -A[2], A[1]],\n",
    "        [ A[2],     0,-A[0]],\n",
    "        [-A[1],  A[0],    0]\n",
    "    ])\n",
    "    ret = inv(K2).T @ R @ K1.T @ C\n",
    "    return ret/norm(ret)"
   ]
  },
  {
   "cell_type": "code",
   "execution_count": 132,
   "metadata": {},
   "outputs": [
    {
     "name": "stdout",
     "output_type": "stream",
     "text": [
      "[-6139.9    5747.431   -10.669]\n",
      "[[-0.     0.     0.002]\n",
      " [ 0.     0.    -0.001]\n",
      " [-0.003 -0.002  1.   ]]\n"
     ]
    }
   ],
   "source": [
    "ee = computeF(sc.K1, sc.K2, sc.R, sc.T)\n",
    "print(ee)"
   ]
  },
  {
   "cell_type": "code",
   "execution_count": 134,
   "metadata": {},
   "outputs": [
    {
     "data": {
      "text/plain": [
       "array([ 0.002, -0.   ,  0.859])"
      ]
     },
     "execution_count": 134,
     "metadata": {},
     "output_type": "execute_result"
    }
   ],
   "source": [
    "ee @ np.array([30,20,1])"
   ]
  },
  {
   "cell_type": "code",
   "execution_count": null,
   "metadata": {},
   "outputs": [],
   "source": []
  }
 ],
 "metadata": {
  "kernelspec": {
   "display_name": "Python 3",
   "language": "python",
   "name": "python3"
  },
  "language_info": {
   "codemirror_mode": {
    "name": "ipython",
    "version": 3
   },
   "file_extension": ".py",
   "mimetype": "text/x-python",
   "name": "python",
   "nbconvert_exporter": "python",
   "pygments_lexer": "ipython3",
   "version": "3.8.5"
  }
 },
 "nbformat": 4,
 "nbformat_minor": 4
}
