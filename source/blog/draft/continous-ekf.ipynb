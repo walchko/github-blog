{
 "cells": [
  {
   "cell_type": "markdown",
   "metadata": {},
   "source": [
    "Continuous ekf"
   ]
  },
  {
   "cell_type": "markdown",
   "metadata": {},
   "source": [
    "\n",
    "### Model\n",
    "\n",
    "$$\n",
    "\\dot x(t) = f(x(t), u(t)) + w(t) \\quad w(t) \\sim \\mathcal{N}(0,Q(t))\\\\\n",
    "z(t) = h(x(t)) + v(t) \\quad v(t) \\sim \\mathcal{N}(0,R(t))\n",
    "$$\n",
    "\n",
    "### Initialize\n",
    "\n",
    "$$\n",
    "\\hat x(t_0) = E[x(t_x)] \\\\\n",
    "P(t_0) = Var[x(t_0)]\n",
    "$$\n",
    "\n",
    "### State Estimate and Error Covariance Propagation\n",
    "\n",
    "$$\n",
    "\\dot{\\hat x}(t) = f(\\hat x(t), u(t)) + K(t)(z(t)-h(\\hat x(t))) \\\\\n",
    "\\dot P(t)=F(t)P(t)+P(t)F(t)^T-K(t)H(t)P(t)+Q(t)\n",
    "$$\n",
    "\n",
    "### Calculate Gain Matrix\n",
    "\n",
    "$$\n",
    "K(t)=P(t)H(t)^T R(t)^{-1} \\\\\n",
    "$$\n",
    "\n",
    "\n",
    "$$\n",
    "F(t)=\\frac{\\partial f}{\\partial x} \\Bigr|_{\\hat x(t), u(t)} \\\\\n",
    "H(t)=\\frac{\\partial h}{\\partial x} \\Bigr|_{\\hat x(t)}\n",
    "$$\n"
   ]
  },
  {
   "cell_type": "code",
   "execution_count": null,
   "metadata": {},
   "outputs": [],
   "source": []
  }
 ],
 "metadata": {
  "kernelspec": {
   "display_name": "Python 3",
   "language": "python",
   "name": "python3"
  },
  "language_info": {
   "codemirror_mode": {
    "name": "ipython",
    "version": 3
   },
   "file_extension": ".py",
   "mimetype": "text/x-python",
   "name": "python",
   "nbconvert_exporter": "python",
   "pygments_lexer": "ipython3",
   "version": "3.8.5"
  }
 },
 "nbformat": 4,
 "nbformat_minor": 4
}
