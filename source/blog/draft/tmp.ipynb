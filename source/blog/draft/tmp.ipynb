{
 "cells": [
  {
   "cell_type": "markdown",
   "metadata": {},
   "source": [
    "\n",
    "\n",
    "$$\n",
    "\\usepackage[]{algorithm2e}\n",
    "\\begin{algorithm}[H]\n",
    " \\KwData{this text}\n",
    " \\KwResult{how to write algorithm with \\LaTeX2e }\n",
    " initialization\\;\n",
    " \\While{not at end of this document}{\n",
    "  read current\\;\n",
    "  \\eIf{understand}{\n",
    "   go to next section\\;\n",
    "   current section becomes this one\\;\n",
    "   }{\n",
    "   go back to the beginning of current section\\;\n",
    "  }\n",
    " }\n",
    " \\caption{How to write algorithms}\n",
    "\\end{algorithm}\n",
    "$$"
   ]
  },
  {
   "cell_type": "code",
   "execution_count": null,
   "metadata": {},
   "outputs": [],
   "source": []
  }
 ],
 "metadata": {
  "kernelspec": {
   "display_name": "Python 3",
   "language": "python",
   "name": "python3"
  },
  "language_info": {
   "codemirror_mode": {
    "name": "ipython",
    "version": 3
   },
   "file_extension": ".py",
   "mimetype": "text/x-python",
   "name": "python",
   "nbconvert_exporter": "python",
   "pygments_lexer": "ipython3",
   "version": "3.8.5"
  }
 },
 "nbformat": 4,
 "nbformat_minor": 4
}
