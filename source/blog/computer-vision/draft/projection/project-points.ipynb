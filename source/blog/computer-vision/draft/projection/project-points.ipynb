{
 "cells": [
  {
   "cell_type": "code",
   "execution_count": 2,
   "metadata": {},
   "outputs": [],
   "source": [
    "import numpy as np\n",
    "import cv2\n",
    "    \n",
    "# mapping 3d points on to 2d image plane\n",
    "def projectPoints(X, K, R, t, Kd):\n",
    "    \"\"\" Projects points X (3xN) using camera intrinsics K (3x3),\n",
    "    extrinsics (R,t) and distortion parameters Kd=[k1,k2,p1,p2,k3].\n",
    "    \n",
    "    Roughly, x = K*(R*X + t) + distortion\n",
    "    \n",
    "    See http://docs.opencv.org/2.4/doc/tutorials/calib3d/camera_calibration/camera_calibration.html\n",
    "    or cv2.projectPoints\n",
    "    \"\"\"\n",
    "    \n",
    "    x = np.asarray(R*X + t)\n",
    "    \n",
    "    x[0:2,:] = x[0:2,:]/x[2,:]\n",
    "    \n",
    "    r = x[0,:]*x[0,:] + x[1,:]*x[1,:]\n",
    "    \n",
    "    x[0,:] = x[0,:]*(1 + Kd[0]*r + Kd[1]*r*r + Kd[4]*r*r*r) + 2*Kd[2]*x[0,:]*x[1,:] + Kd[3]*(r + 2*x[0,:]*x[0,:])\n",
    "    x[1,:] = x[1,:]*(1 + Kd[0]*r + Kd[1]*r*r + Kd[4]*r*r*r) + 2*Kd[3]*x[0,:]*x[1,:] + Kd[2]*(r + 2*x[1,:]*x[1,:])\n",
    "\n",
    "    x[0,:] = K[0,0]*x[0,:] + K[0,1]*x[1,:] + K[0,2]\n",
    "    x[1,:] = K[1,0]*x[0,:] + K[1,1]*x[1,:] + K[1,2]\n",
    "    \n",
    "    return x"
   ]
  },
  {
   "cell_type": "code",
   "execution_count": 15,
   "metadata": {},
   "outputs": [],
   "source": [
    "src = np.ones((6, 3))\n",
    "src[:,1] = 2\n",
    "src[:,2] = range(6) # source points\n",
    "rvec = np.array([0,0,0], np.float) # rotation vector\n",
    "tvec = np.array([0,0,0], np.float) # translation vector\n",
    "fx = fy = 1 # meters\n",
    "cx = cy = 0.0\n",
    "cameraMatrix = np.array([[fx,0,cx],[0,fy,cy],[0,0,1]])\n",
    "result = cv2.projectPoints(src, rvec, tvec, cameraMatrix, None)"
   ]
  },
  {
   "cell_type": "code",
   "execution_count": 10,
   "metadata": {},
   "outputs": [
    {
     "name": "stdout",
     "output_type": "stream",
     "text": [
      "[1. 2. 0.] ==> [[0.03 0.06]]\n",
      "[1. 2. 1.] ==> [[0.03 0.06]]\n",
      "[1. 2. 2.] ==> [[0.015 0.03 ]]\n",
      "[1. 2. 3.] ==> [[0.01 0.02]]\n",
      "[1. 2. 4.] ==> [[0.0075 0.015 ]]\n",
      "[1. 2. 5.] ==> [[0.006 0.012]]\n"
     ]
    }
   ],
   "source": [
    "for n in range(len(src)):\n",
    "    print(src[n], '==>', result[0][n])"
   ]
  },
  {
   "cell_type": "code",
   "execution_count": 5,
   "metadata": {},
   "outputs": [
    {
     "data": {
      "text/plain": [
       "array([[1., 2., 0.],\n",
       "       [1., 2., 1.],\n",
       "       [1., 2., 2.],\n",
       "       [1., 2., 3.],\n",
       "       [1., 2., 4.],\n",
       "       [1., 2., 5.]])"
      ]
     },
     "execution_count": 5,
     "metadata": {},
     "output_type": "execute_result"
    }
   ],
   "source": [
    "src"
   ]
  },
  {
   "cell_type": "code",
   "execution_count": 6,
   "metadata": {},
   "outputs": [
    {
     "data": {
      "text/plain": [
       "array([[1., 0., 0.],\n",
       "       [0., 1., 0.],\n",
       "       [0., 0., 1.]])"
      ]
     },
     "execution_count": 6,
     "metadata": {},
     "output_type": "execute_result"
    }
   ],
   "source": [
    "cameraMatrix"
   ]
  },
  {
   "cell_type": "code",
   "execution_count": null,
   "metadata": {},
   "outputs": [],
   "source": []
  }
 ],
 "metadata": {
  "kernelspec": {
   "display_name": "Python 3",
   "language": "python",
   "name": "python3"
  },
  "language_info": {
   "codemirror_mode": {
    "name": "ipython",
    "version": 3
   },
   "file_extension": ".py",
   "mimetype": "text/x-python",
   "name": "python",
   "nbconvert_exporter": "python",
   "pygments_lexer": "ipython3",
   "version": "3.7.7"
  }
 },
 "nbformat": 4,
 "nbformat_minor": 4
}
