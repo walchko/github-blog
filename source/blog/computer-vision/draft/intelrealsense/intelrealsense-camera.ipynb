{
 "cells": [
  {
   "cell_type": "markdown",
   "metadata": {},
   "source": [
    "![]()\n",
    "\n",
    "# Intelrealsense Tracking Camera\n",
    "\n",
    "Kevin J. Walchko, Phd\n",
    "\n",
    "xxx\n",
    "\n",
    "----\n",
    "\n",
    "![](t265.png)\n",
    "\n",
    "![](trajectory.gif)\n",
    "\n",
    "## Reference\n",
    "\n",
    "- [T265 Tracking Camera](https://github.com/IntelRealSense/librealsense/blob/master/doc/t265.md)"
   ]
  },
  {
   "cell_type": "code",
   "execution_count": null,
   "metadata": {},
   "outputs": [],
   "source": []
  }
 ],
 "metadata": {
  "kernelspec": {
   "display_name": "Python 3",
   "language": "python",
   "name": "python3"
  },
  "language_info": {
   "codemirror_mode": {
    "name": "ipython",
    "version": 3
   },
   "file_extension": ".py",
   "mimetype": "text/x-python",
   "name": "python",
   "nbconvert_exporter": "python",
   "pygments_lexer": "ipython3",
   "version": "3.8.5"
  }
 },
 "nbformat": 4,
 "nbformat_minor": 4
}
