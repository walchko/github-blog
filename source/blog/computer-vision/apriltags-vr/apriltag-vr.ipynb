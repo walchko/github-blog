{
 "cells": [
  {
   "cell_type": "markdown",
   "metadata": {},
   "source": [
    "![](https://images.pexels.com/photos/507410/pexels-photo-507410.jpeg?auto=compress&cs=tinysrgb&dpr=2&h=650&w=940)\n",
    "\n",
    "# Apriltag VR\n",
    "\n",
    "Kevin J. Walchko, Phd\n",
    "\n",
    "18 July 2020\n",
    "\n",
    "---\n",
    "\n",
    "Apriltags provide the ability to produce virtual \n",
    "\n",
    "![](a.png)\n",
    "\n",
    "![](b.jpg)\n",
    "\n",
    "![](c.png)\n",
    "\n",
    "\n",
    "\n",
    "## References\n",
    "\n",
    "- Rosebrock: [Find distance from camera to object/marker using Python and OpenCV](https://www.pyimagesearch.com/2015/01/19/find-distance-camera-objectmarker-using-python-opencv/)\n",
    "- [iPhone Calibration](https://medium.com/@tomas789/iphone-calibration-camera-imu-and-kalibr-33b8645fb0aa)"
   ]
  },
  {
   "cell_type": "code",
   "execution_count": 1,
   "metadata": {},
   "outputs": [],
   "source": [
    "# reload library\n",
    "%load_ext autoreload\n",
    "%autoreload 2\n",
    "\n",
    "# plotting\n",
    "%matplotlib inline "
   ]
  },
  {
   "cell_type": "code",
   "execution_count": 12,
   "metadata": {},
   "outputs": [],
   "source": [
    "%matplotlib inline\n",
    "import numpy as np\n",
    "np.set_printoptions(precision=1)\n",
    "np.set_printoptions(suppress=True)\n",
    "\n",
    "from matplotlib import pyplot as plt\n",
    "import pylab                                 \n",
    "pylab.rcParams['figure.figsize'] = (10.0, 18.0)\n",
    "\n",
    "import time\n",
    "\n",
    "from pupil_apriltags import Detector\n",
    "import apriltag_gen as apt\n",
    "\n",
    "import imageio\n",
    "import cv2"
   ]
  },
  {
   "cell_type": "markdown",
   "metadata": {},
   "source": [
    "## Helper Functions"
   ]
  },
  {
   "cell_type": "code",
   "execution_count": 13,
   "metadata": {},
   "outputs": [],
   "source": [
    "def draw_tag(color_img, corners, tag_id=None):\n",
    "    \"\"\"\n",
    "    color_img: image to draw on, must be color\n",
    "    corners: corner points from apriltag detector, v[0] is the \n",
    "             lower left of the tag and the point move CCW.\n",
    "    \"\"\" \n",
    "    pts = corners.reshape((-1,1,2)).astype('int32')\n",
    "    cv2.polylines(color_img,[pts],True,(0,255,0),thickness=4)\n",
    "\n",
    "    y = color_img.shape[0]\n",
    "    r = max(int(y/200),1)\n",
    "    c = (255,0,0)\n",
    "    oc = (0,0,255)\n",
    "    v = corners.astype('int32')\n",
    "    cv2.circle(color_img, tuple(v[0]),r,oc,thickness=-1)\n",
    "    cv2.circle(color_img, tuple(v[1]),r,c,thickness=-1)\n",
    "    cv2.circle(color_img, tuple(v[2]),r,c,thickness=-1)\n",
    "    cv2.circle(color_img, tuple(v[3]),r,c,thickness=-1)\n",
    "    \n",
    "    sz = np.abs(v[0] - v[2])\n",
    "    sz = sz[0]*sz[1]\n",
    "    \n",
    "    if tag_id is not None:\n",
    "        offset = int((v[1][0]-v[0][0])/4)\n",
    "        fontScale = sz / (100 * 100 * 3)\n",
    "        cv2.putText(color_img, str(tag_id),\n",
    "                    org=(v[0][0]+offset,v[0][1]-offset,),\n",
    "                    fontFace=cv2.FONT_HERSHEY_SIMPLEX,\n",
    "                    fontScale=fontScale,\n",
    "                    thickness=4,\n",
    "                    color=(255, 0, 255))\n",
    "    \n",
    "    return color_img\n",
    "\n",
    "def draw_id(img, tags):\n",
    "    \"\"\"\n",
    "    Draws the tag IDs on the found tags\n",
    "    \n",
    "    img: single color image\n",
    "    tags: array of tags found in image\n",
    "    \"\"\"\n",
    "    if len(img.shape) == 2:\n",
    "        color_img = cv2.cvtColor(img, cv2.COLOR_GRAY2BGR)\n",
    "    else:\n",
    "        color_img = img.copy()\n",
    "\n",
    "    for tag in tags:\n",
    "        color_img = draw_tag(color_img, tag.corners, tag.tag_id)\n",
    "    return color_img\n",
    "\n",
    "def draw_imgpts(img, tags):\n",
    "    if len(img.shape) == 2:\n",
    "        color_img = cv2.cvtColor(img, cv2.COLOR_GRAY2BGR)\n",
    "    else:\n",
    "        color_img = img.copy()\n",
    "\n",
    "    for t in tags:\n",
    "            color_img = draw_tag(color_img, t.corners)\n",
    "        \n",
    "    return color_img"
   ]
  }
 ],
 "metadata": {
  "kernelspec": {
   "display_name": "Python 3",
   "language": "python",
   "name": "python3"
  },
  "language_info": {
   "codemirror_mode": {
    "name": "ipython",
    "version": 3
   },
   "file_extension": ".py",
   "mimetype": "text/x-python",
   "name": "python",
   "nbconvert_exporter": "python",
   "pygments_lexer": "ipython3",
   "version": "3.8.3"
  }
 },
 "nbformat": 4,
 "nbformat_minor": 4
}
