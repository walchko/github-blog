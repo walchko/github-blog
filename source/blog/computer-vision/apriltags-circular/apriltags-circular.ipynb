{
 "cells": [
  {
   "cell_type": "markdown",
   "metadata": {},
   "source": [
    "Having a hard time making this work"
   ]
  },
  {
   "cell_type": "code",
   "execution_count": 7,
   "metadata": {},
   "outputs": [],
   "source": [
    "import cv2\n",
    "from pupil_apriltags import Detector\n",
    "\n",
    "%matplotlib inline\n",
    "import numpy as np\n",
    "from matplotlib import pyplot as plt\n",
    "\n",
    "import imageio"
   ]
  },
  {
   "cell_type": "code",
   "execution_count": 22,
   "metadata": {},
   "outputs": [
    {
     "data": {
      "image/png": "[encoded data removed]",
      "text/plain": [
       "<Figure size 432x288 with 1 Axes>"
      ]
     },
     "metadata": {
      "needs_background": "light"
     },
     "output_type": "display_data"
    }
   ],
   "source": [
    "im = cv2.imread(\"pics/tag21_07_00020.png\", cv2.IMREAD_UNCHANGED)\n",
    "# plt.imshow(im, cmap=\"gray\")\n",
    "# im = imageio.imread(\"pics/tag21_07_00020.png\")\n",
    "# im[:,:,3] = 0\n",
    "plt.imshow(im[:,:,:3])\n",
    "plt.title(im.shape);"
   ]
  },
  {
   "cell_type": "code",
   "execution_count": 21,
   "metadata": {},
   "outputs": [
    {
     "data": {
      "image/png": "[encoded data removed]",
      "text/plain": [
       "<Figure size 432x288 with 2 Axes>"
      ]
     },
     "metadata": {
      "needs_background": "light"
     },
     "output_type": "display_data"
    }
   ],
   "source": [
    "plt.imshow(im[:,:,3])\n",
    "plt.colorbar();"
   ]
  },
  {
   "cell_type": "code",
   "execution_count": 61,
   "metadata": {},
   "outputs": [],
   "source": [
    "ii = im[:,:,0].copy()\n",
    "for i in range(9):\n",
    "    for j in range(9):\n",
    "        ii[i,j] = im[i,j,0] if im[i,j,3] != 0 else 127"
   ]
  },
  {
   "cell_type": "code",
   "execution_count": 62,
   "metadata": {},
   "outputs": [
    {
     "data": {
      "image/png": "[encoded data removed]",
      "text/plain": [
       "<Figure size 432x288 with 1 Axes>"
      ]
     },
     "metadata": {
      "needs_background": "light"
     },
     "output_type": "display_data"
    }
   ],
   "source": [
    "plt.imshow(ii, cmap=\"gray\");"
   ]
  },
  {
   "cell_type": "code",
   "execution_count": 59,
   "metadata": {},
   "outputs": [],
   "source": [
    "d = Detector(families='tagCircle21h7',\n",
    "        nthreads=1,\n",
    "        quad_decimate=1.0,\n",
    "        quad_sigma=0.0,\n",
    "        refine_edges=1,\n",
    "        decode_sharpening=0.25,\n",
    "        debug=1)"
   ]
  },
  {
   "cell_type": "code",
   "execution_count": 60,
   "metadata": {},
   "outputs": [
    {
     "name": "stdout",
     "output_type": "stream",
     "text": [
      "0 tags found\n"
     ]
    }
   ],
   "source": [
    "tags = d.detect(ii, estimate_tag_pose=False, camera_params=None, tag_size=None)\n",
    "print(f\"{len(tags)} tags found\")"
   ]
  },
  {
   "cell_type": "code",
   "execution_count": 52,
   "metadata": {},
   "outputs": [],
   "source": [
    "#https://stackoverflow.com/questions/59044973/how-do-i-draw-a-line-indicating-the-orientation-of-an-apriltag\n",
    "def draw_pose(overlay, camera_params, tag_size, pose, z_sign=1):\n",
    "    opoints = np.array([\n",
    "        -2, -2, 0,\n",
    "        2, -2, 0,\n",
    "        2, 2, 0,\n",
    "        2, -2, -4 * z_sign,\n",
    "    ]).reshape(-1, 1, 3) * 0.5 * tag_size\n",
    "\n",
    "    fx, fy, cx, cy = camera_params\n",
    "\n",
    "    K = np.array([fx, 0, cx, 0, fy, cy, 0, 0, 1]).reshape(3, 3)\n",
    "\n",
    "    rvec, _ = cv2.Rodrigues(pose[:3, :3])\n",
    "    tvec = pose[:3, 3]\n",
    "\n",
    "    dcoeffs = np.zeros(5)\n",
    "\n",
    "    ipoints, _ = cv2.projectPoints(opoints, rvec, tvec, K, dcoeffs)\n",
    "\n",
    "    ipoints = np.round(ipoints).astype(int)\n",
    "\n",
    "    ipoints = [tuple(pt) for pt in ipoints.reshape(-1, 2)]\n",
    "\n",
    "    cv2.line(overlay, ipoints[0], ipoints[1], (0,0,255), 2)\n",
    "    cv2.line(overlay, ipoints[1], ipoints[2], (0,255,0), 2)\n",
    "    cv2.line(overlay, ipoints[1], ipoints[3], (255,0,0), 2)\n",
    "    font = cv2.FONT_HERSHEY_SIMPLEX\n",
    "    cv2.putText(overlay, 'X', ipoints[0], font, 0.5, (0,0,255), 2, cv2.LINE_AA)\n",
    "    cv2.putText(overlay, 'Y', ipoints[2], font, 0.5, (0,255,0), 2, cv2.LINE_AA)\n",
    "    cv2.putText(overlay, 'Z', ipoints[3], font, 0.5, (255,0,0), 2, cv2.LINE_AA)\n",
    "\n",
    "def _draw_cube(overlay, camera_params, tag_size, pose,centroid, z_sign=1):\n",
    "\n",
    "    opoints = np.array([\n",
    "        -10, -8, 0,\n",
    "        10, -8, 0,\n",
    "        10, 8, 0,\n",
    "        -10, 8, 0,\n",
    "        -10, -8, 2 * z_sign,\n",
    "        10, -8, 2 * z_sign,\n",
    "        10, 8, 2 * z_sign,\n",
    "        -10, 8, 2 * z_sign,\n",
    "    ]).reshape(-1, 1, 3) * 0.5 * tag_size\n",
    "\n",
    "    edges = np.array([\n",
    "        0, 1,\n",
    "        1, 2,\n",
    "        2, 3,\n",
    "        3, 0,\n",
    "        0, 4,\n",
    "        1, 5,\n",
    "        2, 6,\n",
    "        3, 7,\n",
    "        4, 5,\n",
    "        5, 6,\n",
    "        6, 7,\n",
    "        7, 4\n",
    "    ]).reshape(-1, 2)\n",
    "\n",
    "    fx, fy, cx, cy = camera_params\n",
    "\n",
    "    K = np.array([fx, 0, cx, 0, fy, cy, 0, 0, 1]).reshape(3, 3)\n",
    "\n",
    "    rvec, _ = cv2.Rodrigues(pose[:3, :3])\n",
    "    tvec = pose[:3, 3]\n",
    "\n",
    "    dcoeffs = np.zeros(5)\n",
    "\n",
    "    ipoints, _ = cv2.projectPoints(opoints, rvec, tvec, K, dcoeffs)\n",
    "\n",
    "    ipoints = np.round(ipoints).astype(int)\n",
    "\n",
    "    ipoints = [tuple(pt) for pt in ipoints.reshape(-1, 2)]\n",
    "\n",
    "    for i, j in edges:\n",
    "        cv2.line(overlay, ipoints[i], ipoints[j], (0, 255, 0), 1, 16)"
   ]
  },
  {
   "cell_type": "code",
   "execution_count": null,
   "metadata": {},
   "outputs": [],
   "source": []
  }
 ],
 "metadata": {
  "kernelspec": {
   "display_name": "Python 3",
   "language": "python",
   "name": "python3"
  },
  "language_info": {
   "codemirror_mode": {
    "name": "ipython",
    "version": 3
   },
   "file_extension": ".py",
   "mimetype": "text/x-python",
   "name": "python",
   "nbconvert_exporter": "python",
   "pygments_lexer": "ipython3",
   "version": "3.8.3"
  }
 },
 "nbformat": 4,
 "nbformat_minor": 4
}
