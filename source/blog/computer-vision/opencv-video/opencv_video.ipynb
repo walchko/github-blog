{
 "cells": [
  {
   "cell_type": "markdown",
   "metadata": {},
   "source": [
    "![](https://i.pinimg.com/564x/19/35/fa/1935fa12ad4acd014867b67b912c6e9c.jpg)\n",
    "\n",
    "# OpenCV Video\n",
    "\n",
    "Kevin J. Walchko, Phd\n",
    "\n",
    "created 23 July 2017\n",
    "\n",
    "-----------\n",
    "\n",
    "<a rel=\"license\" href=\"http://creativecommons.org/licenses/by-sa/4.0/\"><img alt=\"Creative Commons License\" style=\"border-width:0\" src=\"https://i.creativecommons.org/l/by-sa/4.0/88x31.png\" /></a><br />This work is licensed under a <a rel=\"license\" href=\"http://creativecommons.org/licenses/by-sa/4.0/\">Creative Commons Attribution-ShareAlike 4.0 International License</a>.\n",
    "\n",
    "---\n",
    "\n",
    "\n",
    "## References\n",
    "\n",
    "- [OpenCV source code on github](https://github.com/opencv/opencv)\n",
    "- [OpenCV 3.3 Docs](http://docs.opencv.org/3.3.0/)\n",
    "- [OpenCV 3.3 Python Tutorials](http://docs.opencv.org/3.3.0/d6/d00/tutorial_py_root.html)\n",
    "\n",
    "## Setup"
   ]
  },
  {
   "cell_type": "markdown",
   "metadata": {},
   "source": []
  },
  {
   "cell_type": "markdown",
   "metadata": {},
   "source": [
    "# Videos\n",
    "\n",
    "We can play a movie in a notebook by inserting a little html code and read an mpeg4 file."
   ]
  },
  {
   "cell_type": "code",
   "execution_count": 1,
   "metadata": {},
   "outputs": [
    {
     "data": {
      "application/vnd.jupyter.widget-view+json": {
       "model_id": "25b5fa26c18d41dfa4a047e8afec88a2",
       "version_major": 2,
       "version_minor": 0
      },
      "text/plain": [
       "Video(value=b'\\x00\\x00\\x00 ftypisom\\x00\\x00\\x02\\x00isomiso2avc1mp41\\x00\\x00\\x00\\x08free\\x00\\x0eA6mdat\\x00\\x00\\…"
      ]
     },
     "metadata": {},
     "output_type": "display_data"
    }
   ],
   "source": [
    "from ipywidgets import Video\n",
    "Video.from_file(\"Megamind.mp4\")"
   ]
  },
  {
   "cell_type": "markdown",
   "metadata": {},
   "source": [
    "We can also save image frames from a camera to an mpeg4 file:\n",
    "\n",
    "```python\n",
    "# simple function to save a video\n",
    "import platform\n",
    "def videoWrite(frames, fname='out.mp4'):\n",
    "    frame_height, frame_width, _ = frames[0].shape\n",
    "    \n",
    "    # pick a good encoder for the current OS\n",
    "    sys = platform.system()\n",
    "    if sys in ['Darwin']:  # this is on macOS\n",
    "        fourcc = 'avc1'\n",
    "    else:  # this is for Windoze\n",
    "        fourcc = 'mjpg'\n",
    "        \n",
    "    out = cv2.VideoWriter(\n",
    "        fname,\n",
    "        cv2.VideoWriter_fourcc(*fourcc), \n",
    "        30, \n",
    "        (frame_width,frame_height))\n",
    "    for frame in frames:\n",
    "        out.write(frame)\n",
    "    out.release()\n",
    "```\n",
    "\n",
    "Don't worry about Linux, we are doing to do something different when saving video files."
   ]
  },
  {
   "cell_type": "markdown",
   "metadata": {},
   "source": []
  }
 ],
 "metadata": {
  "kernelspec": {
   "display_name": "Python 3",
   "language": "python",
   "name": "python3"
  },
  "language_info": {
   "codemirror_mode": {
    "name": "ipython",
    "version": 3
   },
   "file_extension": ".py",
   "mimetype": "text/x-python",
   "name": "python",
   "nbconvert_exporter": "python",
   "pygments_lexer": "ipython3",
   "version": "3.8.3"
  }
 },
 "nbformat": 4,
 "nbformat_minor": 4
}
