{
 "cells": [
  {
   "cell_type": "markdown",
   "metadata": {},
   "source": [
    "# Video Files\n",
    "\n",
    "We can play a movie in a notebook by inserting a little html code and read an mpeg4 file."
   ]
  },
  {
   "cell_type": "code",
   "execution_count": 1,
   "metadata": {},
   "outputs": [
    {
     "data": {
      "application/vnd.jupyter.widget-view+json": {
       "model_id": "a62b153578444c4293350cc431f82156",
       "version_major": 2,
       "version_minor": 0
      },
      "text/plain": [
       "Video(value=b'\\x00\\x00\\x00 ftypisom\\x00\\x00\\x02\\x00isomiso2avc1mp41\\x00\\x00\\x00\\x08free\\x00\\x0eA6mdat\\x00\\x00\\…"
      ]
     },
     "metadata": {},
     "output_type": "display_data"
    }
   ],
   "source": [
    "from ipywidgets import Video\n",
    "Video.from_file(\"Megamind.mp4\")"
   ]
  },
  {
   "cell_type": "markdown",
   "metadata": {},
   "source": [
    "We can also save image frames from a camera to an mpeg4 file:\n",
    "\n",
    "```python\n",
    "# simple function to save a video\n",
    "import platform\n",
    "def videoWrite(frames, fname='out.mp4'):\n",
    "    frame_height, frame_width, _ = frames[0].shape\n",
    "    \n",
    "    # pick a good encoder for the current OS\n",
    "    sys = platform.system()\n",
    "    if sys in ['Darwin']:  # this is on macOS\n",
    "        fourcc = 'avc1'\n",
    "    else:  # this is for Windoze\n",
    "        fourcc = 'mjpg'\n",
    "        \n",
    "    out = cv2.VideoWriter(\n",
    "        fname,\n",
    "        cv2.VideoWriter_fourcc(*fourcc), \n",
    "        30, \n",
    "        (frame_width,frame_height))\n",
    "    for frame in frames:\n",
    "        out.write(frame)\n",
    "    out.release()\n",
    "```\n",
    "\n",
    "Don't worry about Linux, we are doing to do something different when saving video files."
   ]
  },
  {
   "cell_type": "code",
   "execution_count": null,
   "metadata": {},
   "outputs": [],
   "source": []
  }
 ],
 "metadata": {
  "kernelspec": {
   "display_name": "Python 3",
   "language": "python",
   "name": "python3"
  },
  "language_info": {
   "codemirror_mode": {
    "name": "ipython",
    "version": 3
   },
   "file_extension": ".py",
   "mimetype": "text/x-python",
   "name": "python",
   "nbconvert_exporter": "python",
   "pygments_lexer": "ipython3",
   "version": "3.8.3"
  }
 },
 "nbformat": 4,
 "nbformat_minor": 4
}
