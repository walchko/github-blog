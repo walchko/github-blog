{
 "cells": [
  {
   "cell_type": "markdown",
   "metadata": {},
   "source": [
    "![](https://www.gstatic.com/devrel-devsite/va3a0eb1ff00a004a87e2f93101f27917d794beecfd23556fc6d8627bba2ff3cf/tensorflow/images/lockup.svg)\n",
    "\n",
    "# RNN with Keras and Tensorflow Backend\n",
    "\n",
    "Kevin Walchko\n",
    "\n",
    "10 Aug 2019\n",
    "\n",
    "---\n",
    "\n",
    "Cat detector, trained using the tiny imagenet dataset. The images from n02120xx - n02129xx are all some kind of cat.\n",
    "\n",
    "### References\n",
    "\n",
    "- [ResNet with Tensorflow](https://github.com/taki0112/ResNet-Tensorflow)\n",
    "- [c231 Image Data: tiny-imagenet](https://tiny-imagenet.herokuapp.com/)\n",
    "---"
   ]
  },
  {
   "cell_type": "code",
   "execution_count": 1,
   "metadata": {},
   "outputs": [],
   "source": [
    "%matplotlib inline"
   ]
  },
  {
   "cell_type": "code",
   "execution_count": 19,
   "metadata": {},
   "outputs": [],
   "source": [
    "# math and plotting things loaded\n",
    "import matplotlib.pyplot as plt\n",
    "import numpy as np"
   ]
  },
  {
   "cell_type": "code",
   "execution_count": 28,
   "metadata": {},
   "outputs": [],
   "source": [
    "import simplejson as json"
   ]
  },
  {
   "cell_type": "code",
   "execution_count": 18,
   "metadata": {},
   "outputs": [],
   "source": [
    "# get some file/directory stuff setup\n",
    "import os\n",
    "from os import listdir as ls\n",
    "def mkdir(path):\n",
    "    try:\n",
    "        os.mkdir(path)\n",
    "    except FileExistsError:\n",
    "        # folder was already created ... it's ok\n",
    "        pass"
   ]
  },
  {
   "cell_type": "code",
   "execution_count": 67,
   "metadata": {},
   "outputs": [],
   "source": [
    "# import cv2\n",
    "from PIL import Image"
   ]
  },
  {
   "cell_type": "code",
   "execution_count": 5,
   "metadata": {},
   "outputs": [],
   "source": [
    "import keras\n",
    "from keras.preprocessing.image import ImageDataGenerator\n",
    "from keras.applications import ResNet50\n",
    "from keras.applications.resnet50 import preprocess_input\n",
    "from keras import Model, layers\n",
    "from keras.models import load_model, model_from_json\n",
    "from keras.utils import plot_model"
   ]
  },
  {
   "cell_type": "code",
   "execution_count": 23,
   "metadata": {},
   "outputs": [
    {
     "name": "stdout",
     "output_type": "stream",
     "text": [
      "Keras: 2.2.4\n",
      "Python (3, 7, 4)\n",
      "Tensorflow: 1.14.0\n"
     ]
    }
   ],
   "source": [
    "# keep track of the version of software we are useing\n",
    "print(\"Keras: {}\".format(keras.__version__))\n",
    "print(\"Python {}\".format((os.sys.version_info[:3])))\n",
    "print(\"Tensorflow: {}\".format(keras.backend.tf.__version__))\n",
    "# print(tf.keras.__version__)"
   ]
  },
  {
   "cell_type": "markdown",
   "metadata": {},
   "source": [
    "## Create Model"
   ]
  },
  {
   "cell_type": "code",
   "execution_count": 37,
   "metadata": {},
   "outputs": [
    {
     "name": "stderr",
     "output_type": "stream",
     "text": [
      "/Users/kevin/pyvenv/cv/lib/python3.7/site-packages/keras_applications/resnet50.py:265: UserWarning: The output shape of `ResNet50(include_top=False)` has been changed since Keras 2.2.0.\n",
      "  warnings.warn('The output shape of `ResNet50(include_top=False)` '\n"
     ]
    }
   ],
   "source": [
    "conv_base = ResNet50(\n",
    "    include_top=False,\n",
    "    weights='imagenet')\n",
    "\n",
    "for layer in conv_base.layers:\n",
    "    layer.trainable = False"
   ]
  },
  {
   "cell_type": "code",
   "execution_count": 55,
   "metadata": {},
   "outputs": [],
   "source": [
    "CLASSES = 4\n",
    "x = conv_base.output\n",
    "x = layers.GlobalAveragePooling2D()(x)\n",
    "x = layers.Dense(128, activation='relu')(x) \n",
    "predictions = layers.Dense(CLASSES, activation='softmax')(x)\n",
    "model = Model(conv_base.input, predictions)"
   ]
  },
  {
   "cell_type": "code",
   "execution_count": 56,
   "metadata": {},
   "outputs": [],
   "source": [
    "optimizer = keras.optimizers.Adam()\n",
    "model.compile(loss='sparse_categorical_crossentropy',\n",
    "              optimizer=optimizer,\n",
    "              metrics=['accuracy'])"
   ]
  },
  {
   "cell_type": "markdown",
   "metadata": {},
   "source": [
    "## Training the Model"
   ]
  },
  {
   "cell_type": "code",
   "execution_count": 62,
   "metadata": {},
   "outputs": [],
   "source": [
    "EPOCHS = 15\n",
    "BS = 32"
   ]
  },
  {
   "cell_type": "code",
   "execution_count": 57,
   "metadata": {},
   "outputs": [
    {
     "name": "stdout",
     "output_type": "stream",
     "text": [
      "Found 2000 images belonging to 4 classes.\n",
      "Found 22 images belonging to 4 classes.\n"
     ]
    }
   ],
   "source": [
    "print(\"Model set to learn {} classes of objects\".format(CLASSES))\n",
    "\n",
    "data_path = 'large_dataset/tiny-imagenet-200/'\n",
    "\n",
    "train_datagen = ImageDataGenerator(\n",
    "    shear_range=10,\n",
    "    zoom_range=0.2,\n",
    "    horizontal_flip=True,\n",
    "    preprocessing_function=preprocess_input)\n",
    "\n",
    "train_generator = train_datagen.flow_from_directory(\n",
    "    data_path + 'train',\n",
    "    batch_size=BS,\n",
    "    class_mode='binary',\n",
    "    target_size=(64,64))  # wants 224x224\n",
    "\n",
    "validation_datagen = ImageDataGenerator(\n",
    "    preprocessing_function=preprocess_input)\n",
    "\n",
    "validation_generator = validation_datagen.flow_from_directory(\n",
    "    data_path + 'val2',\n",
    "    shuffle=False,\n",
    "    class_mode='binary',\n",
    "    target_size=(64,64))"
   ]
  },
  {
   "cell_type": "code",
   "execution_count": 63,
   "metadata": {},
   "outputs": [
    {
     "name": "stdout",
     "output_type": "stream",
     "text": [
      "Epoch 1/15\n",
      "63/62 [==============================] - 18s 288ms/step - loss: 0.6556 - acc: 0.7460 - val_loss: 0.8014 - val_acc: 0.8182\n",
      "Epoch 2/15\n",
      "63/62 [==============================] - 18s 290ms/step - loss: 0.6611 - acc: 0.7322 - val_loss: 0.6812 - val_acc: 0.9091\n",
      "Epoch 3/15\n",
      "63/62 [==============================] - 18s 287ms/step - loss: 0.6381 - acc: 0.7579 - val_loss: 0.7168 - val_acc: 0.7727\n",
      "Epoch 4/15\n",
      "63/62 [==============================] - 18s 286ms/step - loss: 0.5595 - acc: 0.7832 - val_loss: 0.5969 - val_acc: 0.9091\n",
      "Epoch 5/15\n",
      "63/62 [==============================] - 19s 304ms/step - loss: 0.5323 - acc: 0.7912 - val_loss: 1.1090 - val_acc: 0.8182\n",
      "Epoch 6/15\n",
      "63/62 [==============================] - 19s 295ms/step - loss: 0.5236 - acc: 0.7917 - val_loss: 0.3729 - val_acc: 0.9545\n",
      "Epoch 7/15\n",
      "63/62 [==============================] - 18s 292ms/step - loss: 0.5351 - acc: 0.7902 - val_loss: 0.8597 - val_acc: 0.9091\n",
      "Epoch 8/15\n",
      "63/62 [==============================] - 18s 291ms/step - loss: 0.5031 - acc: 0.8075 - val_loss: 0.9919 - val_acc: 0.7727\n",
      "Epoch 9/15\n",
      "63/62 [==============================] - 19s 296ms/step - loss: 0.4825 - acc: 0.8071 - val_loss: 0.4437 - val_acc: 0.8182\n",
      "Epoch 10/15\n",
      "63/62 [==============================] - 19s 296ms/step - loss: 0.4612 - acc: 0.8244 - val_loss: 0.6082 - val_acc: 0.9091\n",
      "Epoch 11/15\n",
      "63/62 [==============================] - 17s 278ms/step - loss: 0.4317 - acc: 0.8373 - val_loss: 0.9290 - val_acc: 0.8182\n",
      "Epoch 12/15\n",
      "63/62 [==============================] - 18s 287ms/step - loss: 0.4187 - acc: 0.8388 - val_loss: 0.5666 - val_acc: 0.8636\n",
      "Epoch 13/15\n",
      "63/62 [==============================] - 19s 302ms/step - loss: 0.4157 - acc: 0.8378 - val_loss: 0.7022 - val_acc: 0.7727\n",
      "Epoch 14/15\n",
      "63/62 [==============================] - 21s 339ms/step - loss: 0.3880 - acc: 0.8537 - val_loss: 1.3287 - val_acc: 0.6364\n",
      "Epoch 15/15\n",
      "63/62 [==============================] - 19s 307ms/step - loss: 0.3883 - acc: 0.8547 - val_loss: 0.5513 - val_acc: 0.7727\n"
     ]
    }
   ],
   "source": [
    "history = model.fit_generator(generator=train_generator,\n",
    "                              epochs=EPOCHS,\n",
    "                              steps_per_epoch=train_generator.samples/BS,\n",
    "                              validation_steps=validation_generator.samples/BS,\n",
    "                              validation_data=validation_generator)"
   ]
  },
  {
   "cell_type": "markdown",
   "metadata": {},
   "source": [
    "## Save the Model"
   ]
  },
  {
   "cell_type": "code",
   "execution_count": 61,
   "metadata": {},
   "outputs": [
    {
     "name": "stdout",
     "output_type": "stream",
     "text": [
      "['architecture.json', 'model.h5', 'weights.h5']\n"
     ]
    }
   ],
   "source": [
    "mkdir(\"models\")\n",
    "\n",
    "if 1:\n",
    "    model.save('models/model.h5')\n",
    "    model.save_weights('models/weights.h5')\n",
    "    with open('models/architecture.json', 'w') as f:\n",
    "            f.write(model.to_json())\n",
    "\n",
    "print(ls(\"models\"))"
   ]
  },
  {
   "cell_type": "code",
   "execution_count": 64,
   "metadata": {},
   "outputs": [
    {
     "data": {
      "image/png": "[encoded data removed]",
      "text/plain": [
       "<Figure size 432x288 with 1 Axes>"
      ]
     },
     "metadata": {
      "needs_background": "light"
     },
     "output_type": "display_data"
    }
   ],
   "source": [
    "N = EPOCHS\n",
    "H = history\n",
    "plt.plot(np.arange(0, N), H.history[\"loss\"], label=\"Training Loss\")\n",
    "plt.plot(np.arange(0, N), H.history[\"val_loss\"], label=\"Validation Loss\")\n",
    "plt.plot(np.arange(0, N), H.history[\"acc\"], label=\"Training Accuracy\")\n",
    "plt.plot(np.arange(0, N), H.history[\"val_acc\"], label=\"Validation Accuracy\")\n",
    "plt.title(\"Training Loss and Accuracy on Dataset\")\n",
    "plt.xlabel(\"Epoch #\")\n",
    "plt.ylabel(\"Loss/Accuracy\")\n",
    "plt.legend(loc=\"lower left\")\n",
    "plt.grid(True);\n",
    "# plt.savefig(\"plot.png\")\n",
    "# print(classification_report(testLabels.argmax(axis=1), predIdxs,\n",
    "#     target_names=lb.classes_))"
   ]
  },
  {
   "cell_type": "code",
   "execution_count": 68,
   "metadata": {},
   "outputs": [],
   "source": [
    "from PIL import Image"
   ]
  },
  {
   "cell_type": "code",
   "execution_count": 72,
   "metadata": {},
   "outputs": [],
   "source": [
    "i = Image.open(data_path + 'val2/fluffy_cat/val_2216.JPEG')"
   ]
  },
  {
   "cell_type": "code",
   "execution_count": 74,
   "metadata": {},
   "outputs": [
    {
     "data": {
      "image/png": "[encoded data removed]",
      "text/plain": [
       "<Figure size 432x288 with 1 Axes>"
      ]
     },
     "metadata": {
      "needs_background": "light"
     },
     "output_type": "display_data"
    }
   ],
   "source": [
    "plt.imshow(i);"
   ]
  },
  {
   "cell_type": "code",
   "execution_count": null,
   "metadata": {},
   "outputs": [],
   "source": []
  }
 ],
 "metadata": {
  "kernelspec": {
   "display_name": "Python 3",
   "language": "python",
   "name": "python3"
  },
  "language_info": {
   "codemirror_mode": {
    "name": "ipython",
    "version": 3
   },
   "file_extension": ".py",
   "mimetype": "text/x-python",
   "name": "python",
   "nbconvert_exporter": "python",
   "pygments_lexer": "ipython3",
   "version": "3.7.4"
  }
 },
 "nbformat": 4,
 "nbformat_minor": 2
}
