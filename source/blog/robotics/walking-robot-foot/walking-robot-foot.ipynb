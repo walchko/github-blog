{
 "cells": [
  {
   "cell_type": "markdown",
   "metadata": {},
   "source": [
    "# Robot Foot\n",
    "\n",
    "Kevin J. Walchko, Phd\n",
    "\n",
    "1 July 2020\n",
    "\n",
    "---\n",
    "\n",
    "\n",
    "### Hexapod V4\n",
    "\n",
    "[![](foot-2.jpg)](http://www.hexapodrobot.com/forum/viewtopic.php?f=5&t=26)\n",
    "\n",
    "![](foot-2-zoom.jpg)\n",
    "\n",
    "[![](https://img.youtube.com/vi/-bd0Njlstig/0.jpg)](https://www.youtube.com/watch?v=-bd0Njlstig)\n",
    "\n",
    "### Biometric Hexapod\n",
    "\n",
    "![](foot-3.png)\n",
    "\n",
    "## References\n",
    "\n",
    "- [A Force-Sensing System on Legs for Biomimetic Hexapod Robots Interacting with Unstructured Terrain](walking-robot-sensor.pdf)\n",
    "- [Hexapod V4](http://www.hexapodrobot.com/forum/viewtopic.php?f=5&t=26)"
   ]
  },
  {
   "cell_type": "code",
   "execution_count": null,
   "metadata": {},
   "outputs": [],
   "source": []
  }
 ],
 "metadata": {
  "kernelspec": {
   "display_name": "Python 3",
   "language": "python",
   "name": "python3"
  },
  "language_info": {
   "codemirror_mode": {
    "name": "ipython",
    "version": 3
   },
   "file_extension": ".py",
   "mimetype": "text/x-python",
   "name": "python",
   "nbconvert_exporter": "python",
   "pygments_lexer": "ipython3",
   "version": "3.8.3"
  }
 },
 "nbformat": 4,
 "nbformat_minor": 4
}
